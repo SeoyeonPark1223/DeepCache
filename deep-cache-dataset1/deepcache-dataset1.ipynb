{
 "cells": [
  {
   "cell_type": "markdown",
   "id": "1040b80a",
   "metadata": {
    "papermill": {
     "duration": 0.004676,
     "end_time": "2025-06-03T07:41:10.422486",
     "exception": false,
     "start_time": "2025-06-03T07:41:10.417810",
     "status": "completed"
    },
    "tags": []
   },
   "source": [
    "# Deep Cache with SyntheticDataset\n",
    "\n",
    "Reference Paper\n",
    "> Deep Cache: A Deep Learning Based Framework For Content Caching"
   ]
  },
  {
   "cell_type": "code",
   "execution_count": 1,
   "id": "ff491d59",
   "metadata": {
    "execution": {
     "iopub.execute_input": "2025-06-03T07:41:10.431343Z",
     "iopub.status.busy": "2025-06-03T07:41:10.431117Z",
     "iopub.status.idle": "2025-06-03T07:41:11.823442Z",
     "shell.execute_reply": "2025-06-03T07:41:11.822532Z"
    },
    "papermill": {
     "duration": 1.398108,
     "end_time": "2025-06-03T07:41:11.824664",
     "exception": false,
     "start_time": "2025-06-03T07:41:10.426556",
     "status": "completed"
    },
    "tags": []
   },
   "outputs": [
    {
     "name": "stdout",
     "output_type": "stream",
     "text": [
      "/kaggle/input/y_dataset1_window.npy\n",
      "/kaggle/input/syntheticDataset_O50_properties.csv\n",
      "/kaggle/input/syntheticDataset_O50.csv\n",
      "/kaggle/input/X_dataset1_window.npy\n"
     ]
    }
   ],
   "source": [
    "# This Python 3 environment comes with many helpful analytics libraries installed\n",
    "# It is defined by the kaggle/python Docker image: https://github.com/kaggle/docker-python\n",
    "# For example, here's several helpful packages to load\n",
    "\n",
    "import numpy as np # linear algebra\n",
    "import pandas as pd # data processing, CSV file I/O (e.g. pd.read_csv)\n",
    "\n",
    "# Input data files are available in the read-only \"../input/\" directory\n",
    "# For example, running this (by clicking run or pressing Shift+Enter) will list all files under the input directory\n",
    "\n",
    "import os\n",
    "for dirname, _, filenames in os.walk('/kaggle/input'):\n",
    "    for filename in filenames:\n",
    "        print(os.path.join(dirname, filename))\n",
    "\n",
    "# You can write up to 20GB to the current directory (/kaggle/working/) that gets preserved as output when you create a version using \"Save & Run All\" \n",
    "# You can also write temporary files to /kaggle/temp/, but they won't be saved outside of the current session"
   ]
  },
  {
   "cell_type": "code",
   "execution_count": 2,
   "id": "511fb7bc",
   "metadata": {
    "execution": {
     "iopub.execute_input": "2025-06-03T07:41:11.834097Z",
     "iopub.status.busy": "2025-06-03T07:41:11.833569Z",
     "iopub.status.idle": "2025-06-03T07:41:26.866504Z",
     "shell.execute_reply": "2025-06-03T07:41:26.865557Z"
    },
    "papermill": {
     "duration": 15.038882,
     "end_time": "2025-06-03T07:41:26.867855",
     "exception": false,
     "start_time": "2025-06-03T07:41:11.828973",
     "status": "completed"
    },
    "tags": []
   },
   "outputs": [
    {
     "name": "stderr",
     "output_type": "stream",
     "text": [
      "2025-06-03 07:41:13.387389: E external/local_xla/xla/stream_executor/cuda/cuda_fft.cc:477] Unable to register cuFFT factory: Attempting to register factory for plugin cuFFT when one has already been registered\n",
      "WARNING: All log messages before absl::InitializeLog() is called are written to STDERR\n",
      "E0000 00:00:1748936473.582174      19 cuda_dnn.cc:8310] Unable to register cuDNN factory: Attempting to register factory for plugin cuDNN when one has already been registered\n",
      "E0000 00:00:1748936473.636580      19 cuda_blas.cc:1418] Unable to register cuBLAS factory: Attempting to register factory for plugin cuBLAS when one has already been registered\n"
     ]
    },
    {
     "name": "stdout",
     "output_type": "stream",
     "text": [
      "/GPU:0\n"
     ]
    }
   ],
   "source": [
    "# Use GPU if available, otherwise fall back to CPU\n",
    "import tensorflow as tf\n",
    "\n",
    "device = \"/GPU:0\" if tf.config.list_physical_devices('GPU') else \"/CPU:0\"\n",
    "print(device)"
   ]
  },
  {
   "cell_type": "code",
   "execution_count": 3,
   "id": "db4accb8",
   "metadata": {
    "execution": {
     "iopub.execute_input": "2025-06-03T07:41:26.884242Z",
     "iopub.status.busy": "2025-06-03T07:41:26.883418Z",
     "iopub.status.idle": "2025-06-03T07:41:27.118214Z",
     "shell.execute_reply": "2025-06-03T07:41:27.117526Z"
    },
    "papermill": {
     "duration": 0.241853,
     "end_time": "2025-06-03T07:41:27.119295",
     "exception": false,
     "start_time": "2025-06-03T07:41:26.877442",
     "status": "completed"
    },
    "tags": []
   },
   "outputs": [
    {
     "data": {
      "text/html": [
       "<div>\n",
       "<style scoped>\n",
       "    .dataframe tbody tr th:only-of-type {\n",
       "        vertical-align: middle;\n",
       "    }\n",
       "\n",
       "    .dataframe tbody tr th {\n",
       "        vertical-align: top;\n",
       "    }\n",
       "\n",
       "    .dataframe thead th {\n",
       "        text-align: right;\n",
       "    }\n",
       "</style>\n",
       "<table border=\"1\" class=\"dataframe\">\n",
       "  <thead>\n",
       "    <tr style=\"text-align: right;\">\n",
       "      <th></th>\n",
       "      <th>object_ID</th>\n",
       "      <th>request_time</th>\n",
       "    </tr>\n",
       "  </thead>\n",
       "  <tbody>\n",
       "    <tr>\n",
       "      <th>0</th>\n",
       "      <td>5</td>\n",
       "      <td>2.961472</td>\n",
       "    </tr>\n",
       "    <tr>\n",
       "      <th>1</th>\n",
       "      <td>25</td>\n",
       "      <td>3.274127</td>\n",
       "    </tr>\n",
       "    <tr>\n",
       "      <th>2</th>\n",
       "      <td>2</td>\n",
       "      <td>3.785475</td>\n",
       "    </tr>\n",
       "    <tr>\n",
       "      <th>3</th>\n",
       "      <td>2</td>\n",
       "      <td>4.455687</td>\n",
       "    </tr>\n",
       "    <tr>\n",
       "      <th>4</th>\n",
       "      <td>4</td>\n",
       "      <td>5.288994</td>\n",
       "    </tr>\n",
       "    <tr>\n",
       "      <th>...</th>\n",
       "      <td>...</td>\n",
       "      <td>...</td>\n",
       "    </tr>\n",
       "    <tr>\n",
       "      <th>292141</th>\n",
       "      <td>39</td>\n",
       "      <td>304330.451276</td>\n",
       "    </tr>\n",
       "    <tr>\n",
       "      <th>292142</th>\n",
       "      <td>39</td>\n",
       "      <td>304352.296649</td>\n",
       "    </tr>\n",
       "    <tr>\n",
       "      <th>292143</th>\n",
       "      <td>39</td>\n",
       "      <td>304405.469075</td>\n",
       "    </tr>\n",
       "    <tr>\n",
       "      <th>292144</th>\n",
       "      <td>39</td>\n",
       "      <td>304442.964190</td>\n",
       "    </tr>\n",
       "    <tr>\n",
       "      <th>292145</th>\n",
       "      <td>39</td>\n",
       "      <td>304487.172906</td>\n",
       "    </tr>\n",
       "  </tbody>\n",
       "</table>\n",
       "<p>292146 rows × 2 columns</p>\n",
       "</div>"
      ],
      "text/plain": [
       "        object_ID   request_time\n",
       "0               5       2.961472\n",
       "1              25       3.274127\n",
       "2               2       3.785475\n",
       "3               2       4.455687\n",
       "4               4       5.288994\n",
       "...           ...            ...\n",
       "292141         39  304330.451276\n",
       "292142         39  304352.296649\n",
       "292143         39  304405.469075\n",
       "292144         39  304442.964190\n",
       "292145         39  304487.172906\n",
       "\n",
       "[292146 rows x 2 columns]"
      ]
     },
     "execution_count": 3,
     "metadata": {},
     "output_type": "execute_result"
    }
   ],
   "source": [
    "# Load data\n",
    "df = pd.read_csv('/kaggle/input/syntheticDataset_O50.csv') \n",
    "df"
   ]
  },
  {
   "cell_type": "markdown",
   "id": "01cda92f",
   "metadata": {
    "papermill": {
     "duration": 0.004141,
     "end_time": "2025-06-03T07:41:27.127876",
     "exception": false,
     "start_time": "2025-06-03T07:41:27.123735",
     "status": "completed"
    },
    "tags": []
   },
   "source": [
    "## Split Data \n",
    "- To align with the paper's goal which is predicting the future characteristics of an object based on past logs, we split the dataset into 60% for training and 40% for evaluation."
   ]
  },
  {
   "cell_type": "code",
   "execution_count": 4,
   "id": "116b6130",
   "metadata": {
    "execution": {
     "iopub.execute_input": "2025-06-03T07:41:27.137103Z",
     "iopub.status.busy": "2025-06-03T07:41:27.136857Z",
     "iopub.status.idle": "2025-06-03T07:41:27.142334Z",
     "shell.execute_reply": "2025-06-03T07:41:27.141800Z"
    },
    "papermill": {
     "duration": 0.011376,
     "end_time": "2025-06-03T07:41:27.143418",
     "exception": false,
     "start_time": "2025-06-03T07:41:27.132042",
     "status": "completed"
    },
    "tags": []
   },
   "outputs": [],
   "source": [
    "cut_idx = int(len(df) * 0.6)\n",
    "train_df = df.iloc[:cut_idx].reset_index(drop=True)\n",
    "test_df = df.iloc[cut_idx:].reset_index(drop=True)"
   ]
  },
  {
   "cell_type": "markdown",
   "id": "989b728a",
   "metadata": {
    "papermill": {
     "duration": 0.004059,
     "end_time": "2025-06-03T07:41:27.151678",
     "exception": false,
     "start_time": "2025-06-03T07:41:27.147619",
     "status": "completed"
    },
    "tags": []
   },
   "source": [
    "## Feature Engineering\n",
    "> \"For dataset 1, the probability of object $o^i$ is calculated as $Ni$ /1000, where $N^i$ represents the number of occurrences of $o^i$ in the window of past 1K objects.\"\n",
    "- Using step=1 generated too much data, so we used step=100 to make it manageable."
   ]
  },
  {
   "cell_type": "code",
   "execution_count": 5,
   "id": "4e0d2381",
   "metadata": {
    "execution": {
     "iopub.execute_input": "2025-06-03T07:41:27.160884Z",
     "iopub.status.busy": "2025-06-03T07:41:27.160434Z",
     "iopub.status.idle": "2025-06-03T07:41:27.169328Z",
     "shell.execute_reply": "2025-06-03T07:41:27.168802Z"
    },
    "papermill": {
     "duration": 0.014764,
     "end_time": "2025-06-03T07:41:27.170495",
     "exception": false,
     "start_time": "2025-06-03T07:41:27.155731",
     "status": "completed"
    },
    "tags": []
   },
   "outputs": [],
   "source": [
    "window_size = 1000\n",
    "step = 100\n",
    "m, k = 20, 10 # Sequence length for input(m) and output(k)\n",
    "\n",
    "object_ids = df['object_ID'].unique()\n",
    "object_ids.sort()\n",
    "num_objects = len(object_ids) # Number of unique objects: 50"
   ]
  },
  {
   "cell_type": "code",
   "execution_count": 6,
   "id": "e13846c3",
   "metadata": {
    "execution": {
     "iopub.execute_input": "2025-06-03T07:41:27.179921Z",
     "iopub.status.busy": "2025-06-03T07:41:27.179609Z",
     "iopub.status.idle": "2025-06-03T07:41:27.185891Z",
     "shell.execute_reply": "2025-06-03T07:41:27.185193Z"
    },
    "papermill": {
     "duration": 0.012082,
     "end_time": "2025-06-03T07:41:27.186906",
     "exception": false,
     "start_time": "2025-06-03T07:41:27.174824",
     "status": "completed"
    },
    "tags": []
   },
   "outputs": [],
   "source": [
    "# Generate training data for sequence-to-sequence modeling from object request logs\n",
    "def build_sequence_input(df, object_ids, m, k, window_size=1000, step=100):\n",
    "    X, y = [], []\n",
    "    for i in range(0, len(df) - window_size * (m + k), step):\n",
    "        seq = df['object_ID'].iloc[i : i + window_size * (m + k)]\n",
    "        x_seq, y_seq = [], []\n",
    "\n",
    "        # Build the input sequence: m windows of past requests\n",
    "        for j in range(m):\n",
    "            window = seq[j * window_size : (j + 1) * window_size]\n",
    "            counts = window.value_counts(normalize=True).reindex(object_ids, fill_value=0).values\n",
    "            x_seq.append(counts)\n",
    "\n",
    "        # Build the output sequence: k windows of future requests\n",
    "        for j in range(k):\n",
    "            window = seq[(m + j) * window_size : (m + j + 1) * window_size]\n",
    "            counts = window.value_counts(normalize=True).reindex(object_ids, fill_value=0).values\n",
    "            y_seq.append(counts)\n",
    "\n",
    "        X.append(x_seq)\n",
    "        y.append(y_seq)\n",
    "\n",
    "    X = np.array(X) # (#samples, 20, d)\n",
    "    y = np.array(y) # (#samples, 26, d)\n",
    "    X = X.transpose(0, 2, 1).reshape(-1, m, 1)\n",
    "    y = y.transpose(0, 2, 1).reshape(-1, k, 1)\n",
    "    return X, y"
   ]
  },
  {
   "cell_type": "code",
   "execution_count": 7,
   "id": "4809f8ee",
   "metadata": {
    "execution": {
     "iopub.execute_input": "2025-06-03T07:41:27.196429Z",
     "iopub.status.busy": "2025-06-03T07:41:27.196035Z",
     "iopub.status.idle": "2025-06-03T07:41:56.261120Z",
     "shell.execute_reply": "2025-06-03T07:41:56.260254Z"
    },
    "papermill": {
     "duration": 29.070979,
     "end_time": "2025-06-03T07:41:56.262376",
     "exception": false,
     "start_time": "2025-06-03T07:41:27.191397",
     "status": "completed"
    },
    "tags": []
   },
   "outputs": [
    {
     "name": "stdout",
     "output_type": "stream",
     "text": [
      "X_train.shape: (72650, 20, 1)\n",
      "y_train.shape: (72650, 10, 1)\n",
      "X_test.shape: (43450, 20, 1)\n",
      "y_test.shape: (43450, 10, 1)\n"
     ]
    }
   ],
   "source": [
    "# Split Train/Test data\n",
    "X_train, y_train = build_sequence_input(train_df, object_ids, m, k)\n",
    "X_test, y_test = build_sequence_input(test_df, object_ids, m, k)\n",
    "\n",
    "# Reshape X and y to fit LSTM input requirements:\n",
    "# X: (samples * num_objects, m, 1)\n",
    "# y: (samples * num_objects, K, 1)\n",
    "print(\"X_train.shape:\", X_train.shape)\n",
    "print(\"y_train.shape:\", y_train.shape)\n",
    "print(\"X_test.shape:\", X_test.shape)\n",
    "print(\"y_test.shape:\", y_test.shape)"
   ]
  },
  {
   "cell_type": "code",
   "execution_count": 8,
   "id": "0567836b",
   "metadata": {
    "execution": {
     "iopub.execute_input": "2025-06-03T07:41:56.272653Z",
     "iopub.status.busy": "2025-06-03T07:41:56.272095Z",
     "iopub.status.idle": "2025-06-03T07:41:56.288685Z",
     "shell.execute_reply": "2025-06-03T07:41:56.288169Z"
    },
    "papermill": {
     "duration": 0.022807,
     "end_time": "2025-06-03T07:41:56.289873",
     "exception": false,
     "start_time": "2025-06-03T07:41:56.267066",
     "status": "completed"
    },
    "tags": []
   },
   "outputs": [],
   "source": [
    "np.save(\"X_dataset1_window.npy\", X_train)\n",
    "np.save(\"y_dataset1_window.npy\", y_train)"
   ]
  },
  {
   "cell_type": "markdown",
   "id": "85f93736",
   "metadata": {
    "papermill": {
     "duration": 0.004053,
     "end_time": "2025-06-03T07:41:56.298360",
     "exception": false,
     "start_time": "2025-06-03T07:41:56.294307",
     "status": "completed"
    },
    "tags": []
   },
   "source": [
    "## Build LSTM Model\n",
    "> \"For our datasets, we use a two-layer depth LSTM Encoder-Decoder model with 128 and 64 as the number of hidden units. ... The loss function is chosen as mean-squared-error (MSE).\""
   ]
  },
  {
   "cell_type": "code",
   "execution_count": 9,
   "id": "77745415",
   "metadata": {
    "execution": {
     "iopub.execute_input": "2025-06-03T07:41:56.307541Z",
     "iopub.status.busy": "2025-06-03T07:41:56.307325Z",
     "iopub.status.idle": "2025-06-03T07:41:56.367989Z",
     "shell.execute_reply": "2025-06-03T07:41:56.367408Z"
    },
    "papermill": {
     "duration": 0.066774,
     "end_time": "2025-06-03T07:41:56.369325",
     "exception": false,
     "start_time": "2025-06-03T07:41:56.302551",
     "status": "completed"
    },
    "tags": []
   },
   "outputs": [],
   "source": [
    "from tensorflow.keras.layers import Input, LSTM, Dense, TimeDistributed, RepeatVector\n",
    "from tensorflow.keras.models import Model"
   ]
  },
  {
   "cell_type": "code",
   "execution_count": 10,
   "id": "a6b83049",
   "metadata": {
    "execution": {
     "iopub.execute_input": "2025-06-03T07:41:56.378733Z",
     "iopub.status.busy": "2025-06-03T07:41:56.378510Z",
     "iopub.status.idle": "2025-06-03T07:41:56.384044Z",
     "shell.execute_reply": "2025-06-03T07:41:56.383482Z"
    },
    "papermill": {
     "duration": 0.011382,
     "end_time": "2025-06-03T07:41:56.385114",
     "exception": false,
     "start_time": "2025-06-03T07:41:56.373732",
     "status": "completed"
    },
    "tags": []
   },
   "outputs": [],
   "source": [
    "def build_seq2seq_model(m, k):\n",
    "    # ----- Encoder -----\n",
    "    encoder_inputs = Input(shape=(m, 1))  # Input shape: (sequence_length, 1)\n",
    "\n",
    "    # Two-layer encoder with 128 and 64 hidden units\n",
    "    encoder_lstm_1 = LSTM(128, return_sequences=True)\n",
    "    encoder_lstm_2 = LSTM(64, return_state=True)\n",
    "\n",
    "    x = encoder_lstm_1(encoder_inputs)\n",
    "    encoder_outputs, state_h, state_c = encoder_lstm_2(x)\n",
    "    encoder_states = [state_h, state_c]  # Final encoder states passed to decoder\n",
    "\n",
    "    # ----- Decoder -----\n",
    "    decoder_inputs = RepeatVector(k)(encoder_outputs)  # Repeat context vector for k time steps\n",
    "\n",
    "    # Two-layer decoder with 128 and 64 hidden units\n",
    "    decoder_lstm_1 = LSTM(128, return_sequences=True)\n",
    "    decoder_lstm_2 = LSTM(64, return_sequences=True)\n",
    "\n",
    "    x = decoder_lstm_1(decoder_inputs, initial_state=encoder_states)\n",
    "    decoder_outputs = decoder_lstm_2(x)\n",
    "\n",
    "    # Predict one value per time step\n",
    "    decoder_dense = TimeDistributed(Dense(1))\n",
    "    output_seq = decoder_dense(decoder_outputs)\n",
    "\n",
    "    # Compile the model with MSE loss and MAE metric\n",
    "    model = Model(encoder_inputs, output_seq)\n",
    "    model.compile(optimizer='adam', loss='mse', metrics=['mae'])\n",
    "\n",
    "    return model"
   ]
  },
  {
   "cell_type": "markdown",
   "id": "947c3363",
   "metadata": {
    "papermill": {
     "duration": 0.003918,
     "end_time": "2025-06-03T07:41:56.393324",
     "exception": false,
     "start_time": "2025-06-03T07:41:56.389406",
     "status": "completed"
    },
    "tags": []
   },
   "source": [
    "## Train Model\n",
    "> \"We ran our experiments for a number of epochs equal to 30, with the batch size set to 10% of the training data.\""
   ]
  },
  {
   "cell_type": "code",
   "execution_count": 11,
   "id": "968c2f34",
   "metadata": {
    "execution": {
     "iopub.execute_input": "2025-06-03T07:41:56.402206Z",
     "iopub.status.busy": "2025-06-03T07:41:56.401980Z",
     "iopub.status.idle": "2025-06-03T07:42:55.386011Z",
     "shell.execute_reply": "2025-06-03T07:42:55.385430Z"
    },
    "papermill": {
     "duration": 58.98993,
     "end_time": "2025-06-03T07:42:55.387297",
     "exception": false,
     "start_time": "2025-06-03T07:41:56.397367",
     "status": "completed"
    },
    "tags": []
   },
   "outputs": [
    {
     "name": "stdout",
     "output_type": "stream",
     "text": [
      "Batch size: 7265\n"
     ]
    },
    {
     "name": "stderr",
     "output_type": "stream",
     "text": [
      "I0000 00:00:1748936516.518722      19 gpu_device.cc:2022] Created device /job:localhost/replica:0/task:0/device:GPU:0 with 15513 MB memory:  -> device: 0, name: Tesla P100-PCIE-16GB, pci bus id: 0000:00:04.0, compute capability: 6.0\n"
     ]
    },
    {
     "name": "stdout",
     "output_type": "stream",
     "text": [
      "Epoch 1/30\n"
     ]
    },
    {
     "name": "stderr",
     "output_type": "stream",
     "text": [
      "I0000 00:00:1748936523.746798      57 cuda_dnn.cc:529] Loaded cuDNN version 90300\n"
     ]
    },
    {
     "name": "stdout",
     "output_type": "stream",
     "text": [
      "\u001b[1m9/9\u001b[0m \u001b[32m━━━━━━━━━━━━━━━━━━━━\u001b[0m\u001b[37m\u001b[0m \u001b[1m9s\u001b[0m 321ms/step - loss: 0.0288 - mae: 0.1515 - val_loss: 0.0070 - val_mae: 0.0743\n",
      "Epoch 2/30\n",
      "\u001b[1m9/9\u001b[0m \u001b[32m━━━━━━━━━━━━━━━━━━━━\u001b[0m\u001b[37m\u001b[0m \u001b[1m2s\u001b[0m 185ms/step - loss: 0.0048 - mae: 0.0590 - val_loss: 0.0013 - val_mae: 0.0257\n",
      "Epoch 3/30\n",
      "\u001b[1m9/9\u001b[0m \u001b[32m━━━━━━━━━━━━━━━━━━━━\u001b[0m\u001b[37m\u001b[0m \u001b[1m2s\u001b[0m 185ms/step - loss: 0.0017 - mae: 0.0271 - val_loss: 0.0011 - val_mae: 0.0227\n",
      "Epoch 4/30\n",
      "\u001b[1m9/9\u001b[0m \u001b[32m━━━━━━━━━━━━━━━━━━━━\u001b[0m\u001b[37m\u001b[0m \u001b[1m2s\u001b[0m 185ms/step - loss: 0.0012 - mae: 0.0218 - val_loss: 8.0481e-04 - val_mae: 0.0229\n",
      "Epoch 5/30\n",
      "\u001b[1m9/9\u001b[0m \u001b[32m━━━━━━━━━━━━━━━━━━━━\u001b[0m\u001b[37m\u001b[0m \u001b[1m2s\u001b[0m 186ms/step - loss: 0.0010 - mae: 0.0221 - val_loss: 5.0542e-04 - val_mae: 0.0131\n",
      "Epoch 6/30\n",
      "\u001b[1m9/9\u001b[0m \u001b[32m━━━━━━━━━━━━━━━━━━━━\u001b[0m\u001b[37m\u001b[0m \u001b[1m2s\u001b[0m 185ms/step - loss: 7.9383e-04 - mae: 0.0139 - val_loss: 5.1119e-04 - val_mae: 0.0152\n",
      "Epoch 7/30\n",
      "\u001b[1m9/9\u001b[0m \u001b[32m━━━━━━━━━━━━━━━━━━━━\u001b[0m\u001b[37m\u001b[0m \u001b[1m2s\u001b[0m 184ms/step - loss: 7.5162e-04 - mae: 0.0159 - val_loss: 4.9234e-04 - val_mae: 0.0138\n",
      "Epoch 8/30\n",
      "\u001b[1m9/9\u001b[0m \u001b[32m━━━━━━━━━━━━━━━━━━━━\u001b[0m\u001b[37m\u001b[0m \u001b[1m2s\u001b[0m 185ms/step - loss: 7.1066e-04 - mae: 0.0137 - val_loss: 4.8218e-04 - val_mae: 0.0140\n",
      "Epoch 9/30\n",
      "\u001b[1m9/9\u001b[0m \u001b[32m━━━━━━━━━━━━━━━━━━━━\u001b[0m\u001b[37m\u001b[0m \u001b[1m2s\u001b[0m 185ms/step - loss: 6.9059e-04 - mae: 0.0146 - val_loss: 4.7703e-04 - val_mae: 0.0137\n",
      "Epoch 10/30\n",
      "\u001b[1m9/9\u001b[0m \u001b[32m━━━━━━━━━━━━━━━━━━━━\u001b[0m\u001b[37m\u001b[0m \u001b[1m2s\u001b[0m 185ms/step - loss: 6.0384e-04 - mae: 0.0130 - val_loss: 4.7943e-04 - val_mae: 0.0147\n",
      "Epoch 11/30\n",
      "\u001b[1m9/9\u001b[0m \u001b[32m━━━━━━━━━━━━━━━━━━━━\u001b[0m\u001b[37m\u001b[0m \u001b[1m2s\u001b[0m 185ms/step - loss: 4.7374e-04 - mae: 0.0120 - val_loss: 5.1910e-04 - val_mae: 0.0141\n",
      "Epoch 12/30\n",
      "\u001b[1m9/9\u001b[0m \u001b[32m━━━━━━━━━━━━━━━━━━━━\u001b[0m\u001b[37m\u001b[0m \u001b[1m2s\u001b[0m 184ms/step - loss: 4.2613e-04 - mae: 0.0099 - val_loss: 4.8272e-04 - val_mae: 0.0139\n",
      "Epoch 13/30\n",
      "\u001b[1m9/9\u001b[0m \u001b[32m━━━━━━━━━━━━━━━━━━━━\u001b[0m\u001b[37m\u001b[0m \u001b[1m2s\u001b[0m 185ms/step - loss: 3.9818e-04 - mae: 0.0103 - val_loss: 4.6941e-04 - val_mae: 0.0138\n",
      "Epoch 14/30\n",
      "\u001b[1m9/9\u001b[0m \u001b[32m━━━━━━━━━━━━━━━━━━━━\u001b[0m\u001b[37m\u001b[0m \u001b[1m2s\u001b[0m 185ms/step - loss: 3.8214e-04 - mae: 0.0099 - val_loss: 4.7187e-04 - val_mae: 0.0134\n",
      "Epoch 15/30\n",
      "\u001b[1m9/9\u001b[0m \u001b[32m━━━━━━━━━━━━━━━━━━━━\u001b[0m\u001b[37m\u001b[0m \u001b[1m2s\u001b[0m 185ms/step - loss: 3.6816e-04 - mae: 0.0092 - val_loss: 4.5645e-04 - val_mae: 0.0129\n",
      "Epoch 16/30\n",
      "\u001b[1m9/9\u001b[0m \u001b[32m━━━━━━━━━━━━━━━━━━━━\u001b[0m\u001b[37m\u001b[0m \u001b[1m2s\u001b[0m 184ms/step - loss: 3.6617e-04 - mae: 0.0094 - val_loss: 4.4271e-04 - val_mae: 0.0130\n",
      "Epoch 17/30\n",
      "\u001b[1m9/9\u001b[0m \u001b[32m━━━━━━━━━━━━━━━━━━━━\u001b[0m\u001b[37m\u001b[0m \u001b[1m2s\u001b[0m 185ms/step - loss: 3.5547e-04 - mae: 0.0092 - val_loss: 4.3352e-04 - val_mae: 0.0129\n",
      "Epoch 18/30\n",
      "\u001b[1m9/9\u001b[0m \u001b[32m━━━━━━━━━━━━━━━━━━━━\u001b[0m\u001b[37m\u001b[0m \u001b[1m2s\u001b[0m 184ms/step - loss: 3.2835e-04 - mae: 0.0088 - val_loss: 4.1748e-04 - val_mae: 0.0127\n",
      "Epoch 19/30\n",
      "\u001b[1m9/9\u001b[0m \u001b[32m━━━━━━━━━━━━━━━━━━━━\u001b[0m\u001b[37m\u001b[0m \u001b[1m2s\u001b[0m 184ms/step - loss: 3.1302e-04 - mae: 0.0087 - val_loss: 4.0162e-04 - val_mae: 0.0125\n",
      "Epoch 20/30\n",
      "\u001b[1m9/9\u001b[0m \u001b[32m━━━━━━━━━━━━━━━━━━━━\u001b[0m\u001b[37m\u001b[0m \u001b[1m2s\u001b[0m 184ms/step - loss: 3.0403e-04 - mae: 0.0086 - val_loss: 3.8113e-04 - val_mae: 0.0120\n",
      "Epoch 21/30\n",
      "\u001b[1m9/9\u001b[0m \u001b[32m━━━━━━━━━━━━━━━━━━━━\u001b[0m\u001b[37m\u001b[0m \u001b[1m2s\u001b[0m 184ms/step - loss: 2.9740e-04 - mae: 0.0086 - val_loss: 3.6671e-04 - val_mae: 0.0117\n",
      "Epoch 22/30\n",
      "\u001b[1m9/9\u001b[0m \u001b[32m━━━━━━━━━━━━━━━━━━━━\u001b[0m\u001b[37m\u001b[0m \u001b[1m2s\u001b[0m 184ms/step - loss: 2.8808e-04 - mae: 0.0083 - val_loss: 3.6497e-04 - val_mae: 0.0124\n",
      "Epoch 23/30\n",
      "\u001b[1m9/9\u001b[0m \u001b[32m━━━━━━━━━━━━━━━━━━━━\u001b[0m\u001b[37m\u001b[0m \u001b[1m2s\u001b[0m 187ms/step - loss: 2.7930e-04 - mae: 0.0084 - val_loss: 3.6223e-04 - val_mae: 0.0121\n",
      "Epoch 24/30\n",
      "\u001b[1m9/9\u001b[0m \u001b[32m━━━━━━━━━━━━━━━━━━━━\u001b[0m\u001b[37m\u001b[0m \u001b[1m2s\u001b[0m 185ms/step - loss: 2.6966e-04 - mae: 0.0081 - val_loss: 3.5296e-04 - val_mae: 0.0117\n",
      "Epoch 25/30\n",
      "\u001b[1m9/9\u001b[0m \u001b[32m━━━━━━━━━━━━━━━━━━━━\u001b[0m\u001b[37m\u001b[0m \u001b[1m2s\u001b[0m 185ms/step - loss: 2.6175e-04 - mae: 0.0080 - val_loss: 3.5124e-04 - val_mae: 0.0117\n",
      "Epoch 26/30\n",
      "\u001b[1m9/9\u001b[0m \u001b[32m━━━━━━━━━━━━━━━━━━━━\u001b[0m\u001b[37m\u001b[0m \u001b[1m2s\u001b[0m 185ms/step - loss: 2.6731e-04 - mae: 0.0080 - val_loss: 3.5019e-04 - val_mae: 0.0116\n",
      "Epoch 27/30\n",
      "\u001b[1m9/9\u001b[0m \u001b[32m━━━━━━━━━━━━━━━━━━━━\u001b[0m\u001b[37m\u001b[0m \u001b[1m2s\u001b[0m 185ms/step - loss: 2.6544e-04 - mae: 0.0079 - val_loss: 3.4779e-04 - val_mae: 0.0116\n",
      "Epoch 28/30\n",
      "\u001b[1m9/9\u001b[0m \u001b[32m━━━━━━━━━━━━━━━━━━━━\u001b[0m\u001b[37m\u001b[0m \u001b[1m2s\u001b[0m 184ms/step - loss: 2.6462e-04 - mae: 0.0079 - val_loss: 3.4846e-04 - val_mae: 0.0119\n",
      "Epoch 29/30\n",
      "\u001b[1m9/9\u001b[0m \u001b[32m━━━━━━━━━━━━━━━━━━━━\u001b[0m\u001b[37m\u001b[0m \u001b[1m2s\u001b[0m 185ms/step - loss: 2.5953e-04 - mae: 0.0081 - val_loss: 3.4714e-04 - val_mae: 0.0116\n",
      "Epoch 30/30\n",
      "\u001b[1m9/9\u001b[0m \u001b[32m━━━━━━━━━━━━━━━━━━━━\u001b[0m\u001b[37m\u001b[0m \u001b[1m2s\u001b[0m 184ms/step - loss: 2.6700e-04 - mae: 0.0078 - val_loss: 3.4053e-04 - val_mae: 0.0115\n"
     ]
    }
   ],
   "source": [
    "batch_size = int(len(X_train) * 0.1)\n",
    "print(\"Batch size:\", batch_size)\n",
    "\n",
    "model = build_seq2seq_model(m, k)\n",
    "\n",
    "# Train\n",
    "history = model.fit(X_train, y_train, epochs=30, batch_size=batch_size, validation_split=0.1)"
   ]
  },
  {
   "cell_type": "code",
   "execution_count": 12,
   "id": "3f109303",
   "metadata": {
    "execution": {
     "iopub.execute_input": "2025-06-03T07:42:55.422901Z",
     "iopub.status.busy": "2025-06-03T07:42:55.422635Z",
     "iopub.status.idle": "2025-06-03T07:42:55.861810Z",
     "shell.execute_reply": "2025-06-03T07:42:55.861086Z"
    },
    "papermill": {
     "duration": 0.45749,
     "end_time": "2025-06-03T07:42:55.862891",
     "exception": false,
     "start_time": "2025-06-03T07:42:55.405401",
     "status": "completed"
    },
    "tags": []
   },
   "outputs": [
    {
     "data": {
      "image/png": "[encoded data removed]",
      "text/plain": [
       "<Figure size 1200x500 with 2 Axes>"
      ]
     },
     "metadata": {},
     "output_type": "display_data"
    }
   ],
   "source": [
    "import matplotlib.pyplot as plt\n",
    "\n",
    "# Plot training & validation loss/MAE\n",
    "plt.figure(figsize=(12, 5))\n",
    "\n",
    "# Loss plot\n",
    "plt.subplot(1, 2, 1)\n",
    "plt.plot(history.history['loss'], label='Train Loss', linewidth=2)\n",
    "plt.plot(history.history['val_loss'], label='Val Loss', linewidth=2)\n",
    "plt.xlabel('Epoch')\n",
    "plt.ylabel('MSE Loss')\n",
    "plt.title('Loss over Epochs')\n",
    "plt.grid(True)\n",
    "plt.legend()\n",
    "\n",
    "# MAE plot\n",
    "plt.subplot(1, 2, 2)\n",
    "plt.plot(history.history['mae'], label='Train MAE', linewidth=2)\n",
    "plt.plot(history.history['val_mae'], label='Val MAE', linewidth=2)\n",
    "plt.xlabel('Epoch')\n",
    "plt.ylabel('Mean Absolute Error')\n",
    "plt.title('MAE over Epochs')\n",
    "plt.grid(True)\n",
    "plt.legend()\n",
    "\n",
    "plt.tight_layout()\n",
    "plt.show()"
   ]
  },
  {
   "cell_type": "code",
   "execution_count": 13,
   "id": "e9d077a2",
   "metadata": {
    "execution": {
     "iopub.execute_input": "2025-06-03T07:42:55.899970Z",
     "iopub.status.busy": "2025-06-03T07:42:55.899557Z",
     "iopub.status.idle": "2025-06-03T07:43:07.734947Z",
     "shell.execute_reply": "2025-06-03T07:43:07.734044Z"
    },
    "id": "OWBu2M4GXrZv",
    "outputId": "716eddaa-3303-418c-923d-3d669cc313b9",
    "papermill": {
     "duration": 11.855058,
     "end_time": "2025-06-03T07:43:07.736182",
     "exception": false,
     "start_time": "2025-06-03T07:42:55.881124",
     "status": "completed"
    },
    "tags": []
   },
   "outputs": [
    {
     "name": "stdout",
     "output_type": "stream",
     "text": [
      "\u001b[1m1358/1358\u001b[0m \u001b[32m━━━━━━━━━━━━━━━━━━━━\u001b[0m\u001b[37m\u001b[0m \u001b[1m5s\u001b[0m 3ms/step\n",
      "\n",
      "Test Evaluation — Loss (MSE): 0.0004, MAE: 0.0092\n",
      "Prediction Shape: (43450, 10, 1)\n"
     ]
    }
   ],
   "source": [
    "# 예측 및 평가\n",
    "y_pred = model.predict(X_test)\n",
    "loss, mae = model.evaluate(X_test, y_test, verbose=0)\n",
    "print(f\"\\nTest Evaluation — Loss (MSE): {loss:.4f}, MAE: {mae:.4f}\")\n",
    "\n",
    "print(\"Prediction Shape:\", y_pred.shape)"
   ]
  },
  {
   "cell_type": "code",
   "execution_count": 14,
   "id": "db9f3406",
   "metadata": {
    "execution": {
     "iopub.execute_input": "2025-06-03T07:43:07.779923Z",
     "iopub.status.busy": "2025-06-03T07:43:07.779314Z",
     "iopub.status.idle": "2025-06-03T07:43:07.797570Z",
     "shell.execute_reply": "2025-06-03T07:43:07.796870Z"
    },
    "papermill": {
     "duration": 0.040806,
     "end_time": "2025-06-03T07:43:07.798654",
     "exception": false,
     "start_time": "2025-06-03T07:43:07.757848",
     "status": "completed"
    },
    "tags": []
   },
   "outputs": [
    {
     "data": {
      "text/html": [
       "<pre style=\"white-space:pre;overflow-x:auto;line-height:normal;font-family:Menlo,'DejaVu Sans Mono',consolas,'Courier New',monospace\"><span style=\"font-weight: bold\">Model: \"functional\"</span>\n",
       "</pre>\n"
      ],
      "text/plain": [
       "\u001b[1mModel: \"functional\"\u001b[0m\n"
      ]
     },
     "metadata": {},
     "output_type": "display_data"
    },
    {
     "data": {
      "text/html": [
       "<pre style=\"white-space:pre;overflow-x:auto;line-height:normal;font-family:Menlo,'DejaVu Sans Mono',consolas,'Courier New',monospace\">┏━━━━━━━━━━━━━━━━━━━━━━━━━━━┳━━━━━━━━━━━━━━━━━━━━━━━━┳━━━━━━━━━━━━━━━━┳━━━━━━━━━━━━━━━━━━━━━━━━┓\n",
       "┃<span style=\"font-weight: bold\"> Layer (type)              </span>┃<span style=\"font-weight: bold\"> Output Shape           </span>┃<span style=\"font-weight: bold\">        Param # </span>┃<span style=\"font-weight: bold\"> Connected to           </span>┃\n",
       "┡━━━━━━━━━━━━━━━━━━━━━━━━━━━╇━━━━━━━━━━━━━━━━━━━━━━━━╇━━━━━━━━━━━━━━━━╇━━━━━━━━━━━━━━━━━━━━━━━━┩\n",
       "│ input_layer (<span style=\"color: #0087ff; text-decoration-color: #0087ff\">InputLayer</span>)  │ (<span style=\"color: #00d7ff; text-decoration-color: #00d7ff\">None</span>, <span style=\"color: #00af00; text-decoration-color: #00af00\">20</span>, <span style=\"color: #00af00; text-decoration-color: #00af00\">1</span>)          │              <span style=\"color: #00af00; text-decoration-color: #00af00\">0</span> │ -                      │\n",
       "├───────────────────────────┼────────────────────────┼────────────────┼────────────────────────┤\n",
       "│ lstm (<span style=\"color: #0087ff; text-decoration-color: #0087ff\">LSTM</span>)               │ (<span style=\"color: #00d7ff; text-decoration-color: #00d7ff\">None</span>, <span style=\"color: #00af00; text-decoration-color: #00af00\">20</span>, <span style=\"color: #00af00; text-decoration-color: #00af00\">128</span>)        │         <span style=\"color: #00af00; text-decoration-color: #00af00\">66,560</span> │ input_layer[<span style=\"color: #00af00; text-decoration-color: #00af00\">0</span>][<span style=\"color: #00af00; text-decoration-color: #00af00\">0</span>]      │\n",
       "├───────────────────────────┼────────────────────────┼────────────────┼────────────────────────┤\n",
       "│ lstm_1 (<span style=\"color: #0087ff; text-decoration-color: #0087ff\">LSTM</span>)             │ [(<span style=\"color: #00d7ff; text-decoration-color: #00d7ff\">None</span>, <span style=\"color: #00af00; text-decoration-color: #00af00\">64</span>), (<span style=\"color: #00d7ff; text-decoration-color: #00d7ff\">None</span>,    │         <span style=\"color: #00af00; text-decoration-color: #00af00\">49,408</span> │ lstm[<span style=\"color: #00af00; text-decoration-color: #00af00\">0</span>][<span style=\"color: #00af00; text-decoration-color: #00af00\">0</span>]             │\n",
       "│                           │ <span style=\"color: #00af00; text-decoration-color: #00af00\">64</span>), (<span style=\"color: #00d7ff; text-decoration-color: #00d7ff\">None</span>, <span style=\"color: #00af00; text-decoration-color: #00af00\">64</span>)]       │                │                        │\n",
       "├───────────────────────────┼────────────────────────┼────────────────┼────────────────────────┤\n",
       "│ repeat_vector             │ (<span style=\"color: #00d7ff; text-decoration-color: #00d7ff\">None</span>, <span style=\"color: #00af00; text-decoration-color: #00af00\">10</span>, <span style=\"color: #00af00; text-decoration-color: #00af00\">64</span>)         │              <span style=\"color: #00af00; text-decoration-color: #00af00\">0</span> │ lstm_1[<span style=\"color: #00af00; text-decoration-color: #00af00\">0</span>][<span style=\"color: #00af00; text-decoration-color: #00af00\">0</span>]           │\n",
       "│ (<span style=\"color: #0087ff; text-decoration-color: #0087ff\">RepeatVector</span>)            │                        │                │                        │\n",
       "├───────────────────────────┼────────────────────────┼────────────────┼────────────────────────┤\n",
       "│ lstm_2 (<span style=\"color: #0087ff; text-decoration-color: #0087ff\">LSTM</span>)             │ (<span style=\"color: #00d7ff; text-decoration-color: #00d7ff\">None</span>, <span style=\"color: #00af00; text-decoration-color: #00af00\">10</span>, <span style=\"color: #00af00; text-decoration-color: #00af00\">128</span>)        │         <span style=\"color: #00af00; text-decoration-color: #00af00\">98,816</span> │ repeat_vector[<span style=\"color: #00af00; text-decoration-color: #00af00\">0</span>][<span style=\"color: #00af00; text-decoration-color: #00af00\">0</span>],   │\n",
       "│                           │                        │                │ lstm_1[<span style=\"color: #00af00; text-decoration-color: #00af00\">0</span>][<span style=\"color: #00af00; text-decoration-color: #00af00\">1</span>],          │\n",
       "│                           │                        │                │ lstm_1[<span style=\"color: #00af00; text-decoration-color: #00af00\">0</span>][<span style=\"color: #00af00; text-decoration-color: #00af00\">2</span>]           │\n",
       "├───────────────────────────┼────────────────────────┼────────────────┼────────────────────────┤\n",
       "│ lstm_3 (<span style=\"color: #0087ff; text-decoration-color: #0087ff\">LSTM</span>)             │ (<span style=\"color: #00d7ff; text-decoration-color: #00d7ff\">None</span>, <span style=\"color: #00af00; text-decoration-color: #00af00\">10</span>, <span style=\"color: #00af00; text-decoration-color: #00af00\">64</span>)         │         <span style=\"color: #00af00; text-decoration-color: #00af00\">49,408</span> │ lstm_2[<span style=\"color: #00af00; text-decoration-color: #00af00\">0</span>][<span style=\"color: #00af00; text-decoration-color: #00af00\">0</span>]           │\n",
       "├───────────────────────────┼────────────────────────┼────────────────┼────────────────────────┤\n",
       "│ time_distributed          │ (<span style=\"color: #00d7ff; text-decoration-color: #00d7ff\">None</span>, <span style=\"color: #00af00; text-decoration-color: #00af00\">10</span>, <span style=\"color: #00af00; text-decoration-color: #00af00\">1</span>)          │             <span style=\"color: #00af00; text-decoration-color: #00af00\">65</span> │ lstm_3[<span style=\"color: #00af00; text-decoration-color: #00af00\">0</span>][<span style=\"color: #00af00; text-decoration-color: #00af00\">0</span>]           │\n",
       "│ (<span style=\"color: #0087ff; text-decoration-color: #0087ff\">TimeDistributed</span>)         │                        │                │                        │\n",
       "└───────────────────────────┴────────────────────────┴────────────────┴────────────────────────┘\n",
       "</pre>\n"
      ],
      "text/plain": [
       "┏━━━━━━━━━━━━━━━━━━━━━━━━━━━┳━━━━━━━━━━━━━━━━━━━━━━━━┳━━━━━━━━━━━━━━━━┳━━━━━━━━━━━━━━━━━━━━━━━━┓\n",
       "┃\u001b[1m \u001b[0m\u001b[1mLayer (type)             \u001b[0m\u001b[1m \u001b[0m┃\u001b[1m \u001b[0m\u001b[1mOutput Shape          \u001b[0m\u001b[1m \u001b[0m┃\u001b[1m \u001b[0m\u001b[1m       Param #\u001b[0m\u001b[1m \u001b[0m┃\u001b[1m \u001b[0m\u001b[1mConnected to          \u001b[0m\u001b[1m \u001b[0m┃\n",
       "┡━━━━━━━━━━━━━━━━━━━━━━━━━━━╇━━━━━━━━━━━━━━━━━━━━━━━━╇━━━━━━━━━━━━━━━━╇━━━━━━━━━━━━━━━━━━━━━━━━┩\n",
       "│ input_layer (\u001b[38;5;33mInputLayer\u001b[0m)  │ (\u001b[38;5;45mNone\u001b[0m, \u001b[38;5;34m20\u001b[0m, \u001b[38;5;34m1\u001b[0m)          │              \u001b[38;5;34m0\u001b[0m │ -                      │\n",
       "├───────────────────────────┼────────────────────────┼────────────────┼────────────────────────┤\n",
       "│ lstm (\u001b[38;5;33mLSTM\u001b[0m)               │ (\u001b[38;5;45mNone\u001b[0m, \u001b[38;5;34m20\u001b[0m, \u001b[38;5;34m128\u001b[0m)        │         \u001b[38;5;34m66,560\u001b[0m │ input_layer[\u001b[38;5;34m0\u001b[0m][\u001b[38;5;34m0\u001b[0m]      │\n",
       "├───────────────────────────┼────────────────────────┼────────────────┼────────────────────────┤\n",
       "│ lstm_1 (\u001b[38;5;33mLSTM\u001b[0m)             │ [(\u001b[38;5;45mNone\u001b[0m, \u001b[38;5;34m64\u001b[0m), (\u001b[38;5;45mNone\u001b[0m,    │         \u001b[38;5;34m49,408\u001b[0m │ lstm[\u001b[38;5;34m0\u001b[0m][\u001b[38;5;34m0\u001b[0m]             │\n",
       "│                           │ \u001b[38;5;34m64\u001b[0m), (\u001b[38;5;45mNone\u001b[0m, \u001b[38;5;34m64\u001b[0m)]       │                │                        │\n",
       "├───────────────────────────┼────────────────────────┼────────────────┼────────────────────────┤\n",
       "│ repeat_vector             │ (\u001b[38;5;45mNone\u001b[0m, \u001b[38;5;34m10\u001b[0m, \u001b[38;5;34m64\u001b[0m)         │              \u001b[38;5;34m0\u001b[0m │ lstm_1[\u001b[38;5;34m0\u001b[0m][\u001b[38;5;34m0\u001b[0m]           │\n",
       "│ (\u001b[38;5;33mRepeatVector\u001b[0m)            │                        │                │                        │\n",
       "├───────────────────────────┼────────────────────────┼────────────────┼────────────────────────┤\n",
       "│ lstm_2 (\u001b[38;5;33mLSTM\u001b[0m)             │ (\u001b[38;5;45mNone\u001b[0m, \u001b[38;5;34m10\u001b[0m, \u001b[38;5;34m128\u001b[0m)        │         \u001b[38;5;34m98,816\u001b[0m │ repeat_vector[\u001b[38;5;34m0\u001b[0m][\u001b[38;5;34m0\u001b[0m],   │\n",
       "│                           │                        │                │ lstm_1[\u001b[38;5;34m0\u001b[0m][\u001b[38;5;34m1\u001b[0m],          │\n",
       "│                           │                        │                │ lstm_1[\u001b[38;5;34m0\u001b[0m][\u001b[38;5;34m2\u001b[0m]           │\n",
       "├───────────────────────────┼────────────────────────┼────────────────┼────────────────────────┤\n",
       "│ lstm_3 (\u001b[38;5;33mLSTM\u001b[0m)             │ (\u001b[38;5;45mNone\u001b[0m, \u001b[38;5;34m10\u001b[0m, \u001b[38;5;34m64\u001b[0m)         │         \u001b[38;5;34m49,408\u001b[0m │ lstm_2[\u001b[38;5;34m0\u001b[0m][\u001b[38;5;34m0\u001b[0m]           │\n",
       "├───────────────────────────┼────────────────────────┼────────────────┼────────────────────────┤\n",
       "│ time_distributed          │ (\u001b[38;5;45mNone\u001b[0m, \u001b[38;5;34m10\u001b[0m, \u001b[38;5;34m1\u001b[0m)          │             \u001b[38;5;34m65\u001b[0m │ lstm_3[\u001b[38;5;34m0\u001b[0m][\u001b[38;5;34m0\u001b[0m]           │\n",
       "│ (\u001b[38;5;33mTimeDistributed\u001b[0m)         │                        │                │                        │\n",
       "└───────────────────────────┴────────────────────────┴────────────────┴────────────────────────┘\n"
      ]
     },
     "metadata": {},
     "output_type": "display_data"
    },
    {
     "data": {
      "text/html": [
       "<pre style=\"white-space:pre;overflow-x:auto;line-height:normal;font-family:Menlo,'DejaVu Sans Mono',consolas,'Courier New',monospace\"><span style=\"font-weight: bold\"> Total params: </span><span style=\"color: #00af00; text-decoration-color: #00af00\">792,773</span> (3.02 MB)\n",
       "</pre>\n"
      ],
      "text/plain": [
       "\u001b[1m Total params: \u001b[0m\u001b[38;5;34m792,773\u001b[0m (3.02 MB)\n"
      ]
     },
     "metadata": {},
     "output_type": "display_data"
    },
    {
     "data": {
      "text/html": [
       "<pre style=\"white-space:pre;overflow-x:auto;line-height:normal;font-family:Menlo,'DejaVu Sans Mono',consolas,'Courier New',monospace\"><span style=\"font-weight: bold\"> Trainable params: </span><span style=\"color: #00af00; text-decoration-color: #00af00\">264,257</span> (1.01 MB)\n",
       "</pre>\n"
      ],
      "text/plain": [
       "\u001b[1m Trainable params: \u001b[0m\u001b[38;5;34m264,257\u001b[0m (1.01 MB)\n"
      ]
     },
     "metadata": {},
     "output_type": "display_data"
    },
    {
     "data": {
      "text/html": [
       "<pre style=\"white-space:pre;overflow-x:auto;line-height:normal;font-family:Menlo,'DejaVu Sans Mono',consolas,'Courier New',monospace\"><span style=\"font-weight: bold\"> Non-trainable params: </span><span style=\"color: #00af00; text-decoration-color: #00af00\">0</span> (0.00 B)\n",
       "</pre>\n"
      ],
      "text/plain": [
       "\u001b[1m Non-trainable params: \u001b[0m\u001b[38;5;34m0\u001b[0m (0.00 B)\n"
      ]
     },
     "metadata": {},
     "output_type": "display_data"
    },
    {
     "data": {
      "text/html": [
       "<pre style=\"white-space:pre;overflow-x:auto;line-height:normal;font-family:Menlo,'DejaVu Sans Mono',consolas,'Courier New',monospace\"><span style=\"font-weight: bold\"> Optimizer params: </span><span style=\"color: #00af00; text-decoration-color: #00af00\">528,516</span> (2.02 MB)\n",
       "</pre>\n"
      ],
      "text/plain": [
       "\u001b[1m Optimizer params: \u001b[0m\u001b[38;5;34m528,516\u001b[0m (2.02 MB)\n"
      ]
     },
     "metadata": {},
     "output_type": "display_data"
    }
   ],
   "source": [
    "model.summary()"
   ]
  },
  {
   "cell_type": "markdown",
   "id": "198e4d72",
   "metadata": {
    "papermill": {
     "duration": 0.021776,
     "end_time": "2025-06-03T07:43:07.842260",
     "exception": false,
     "start_time": "2025-06-03T07:43:07.820484",
     "status": "completed"
    },
    "tags": []
   },
   "source": [
    "## Cache Policy Setting\n",
    "Foreveryobjectrequestoit attimet,wegenerateavaryingnumber of “fake object requests” (denoted as Ft ). For dataset 1, we generate Ft by calculating the top M = 5 objects with highest probability at t + 1. "
   ]
  },
  {
   "cell_type": "code",
   "execution_count": 15,
   "id": "8c432439",
   "metadata": {
    "execution": {
     "iopub.execute_input": "2025-06-03T07:43:07.940662Z",
     "iopub.status.busy": "2025-06-03T07:43:07.939903Z",
     "iopub.status.idle": "2025-06-03T07:43:08.343593Z",
     "shell.execute_reply": "2025-06-03T07:43:08.342808Z"
    },
    "papermill": {
     "duration": 0.481162,
     "end_time": "2025-06-03T07:43:08.345131",
     "exception": false,
     "start_time": "2025-06-03T07:43:07.863969",
     "status": "completed"
    },
    "tags": []
   },
   "outputs": [],
   "source": [
    "M = 5\n",
    "top_objects_each_t = []\n",
    "for i in range(len(y_pred)):\n",
    "    next_probs = y_pred[i, 0].flatten()\n",
    "    top_indices = next_probs.argsort()[-M:][::-1]\n",
    "    top_objects_each_t.append(list(top_indices))"
   ]
  },
  {
   "cell_type": "markdown",
   "id": "c3265d88",
   "metadata": {
    "papermill": {
     "duration": 0.022044,
     "end_time": "2025-06-03T07:43:08.389562",
     "exception": false,
     "start_time": "2025-06-03T07:43:08.367518",
     "status": "completed"
    },
    "tags": []
   },
   "source": [
    "## Integral Operator\n",
    "> \"The operator is a simple merge operator, where the actual object request is followed by all the fake requests generated by our Caching Policy. This helps us to update the state of the cache by prefetching objects based on future object popularity and evict unpopular ones.\""
   ]
  },
  {
   "cell_type": "code",
   "execution_count": 16,
   "id": "9c7f54f1",
   "metadata": {
    "execution": {
     "iopub.execute_input": "2025-06-03T07:43:08.434800Z",
     "iopub.status.busy": "2025-06-03T07:43:08.434070Z",
     "iopub.status.idle": "2025-06-03T07:43:08.479441Z",
     "shell.execute_reply": "2025-06-03T07:43:08.478604Z"
    },
    "papermill": {
     "duration": 0.069153,
     "end_time": "2025-06-03T07:43:08.480619",
     "exception": false,
     "start_time": "2025-06-03T07:43:08.411466",
     "status": "completed"
    },
    "tags": []
   },
   "outputs": [],
   "source": [
    "# Merge real requests and fake requests\n",
    "merged_requests = []\n",
    "fake_insert_idx = 0\n",
    "insert_interval = 5\n",
    "\n",
    "actual_requests = test_df.sort_values('request_time')['object_ID'].tolist()\n",
    "\n",
    "for t, req in enumerate(actual_requests):\n",
    "    merged_requests.append(req)\n",
    "    if fake_insert_idx < len(top_objects_each_t) and t % insert_interval == 0:\n",
    "        fake_objs = top_objects_each_t[fake_insert_idx]\n",
    "        merged_requests.extend(fake_objs)\n",
    "        fake_insert_idx += 1"
   ]
  },
  {
   "cell_type": "code",
   "execution_count": 17,
   "id": "01667f0b",
   "metadata": {
    "execution": {
     "iopub.execute_input": "2025-06-03T07:43:08.525822Z",
     "iopub.status.busy": "2025-06-03T07:43:08.525565Z",
     "iopub.status.idle": "2025-06-03T07:43:08.531557Z",
     "shell.execute_reply": "2025-06-03T07:43:08.530900Z"
    },
    "id": "wDg2rcihoHav",
    "papermill": {
     "duration": 0.029608,
     "end_time": "2025-06-03T07:43:08.532568",
     "exception": false,
     "start_time": "2025-06-03T07:43:08.502960",
     "status": "completed"
    },
    "tags": []
   },
   "outputs": [],
   "source": [
    "# LRU Cache simulator\n",
    "from collections import OrderedDict\n",
    "\n",
    "class LRUCache:\n",
    "  def __init__(self, capacity):\n",
    "    self.capacity = capacity\n",
    "    self.cache = OrderedDict()\n",
    "    self.hit = 0\n",
    "    self.miss = 0\n",
    "\n",
    "  def request(self, obj_id):\n",
    "    if obj_id in self.cache:\n",
    "        self.cache.move_to_end(obj_id)\n",
    "        self.hit += 1\n",
    "        return 1\n",
    "    else:\n",
    "        self.miss += 1\n",
    "        if len(self.cache) >= self.capacity:\n",
    "            self.cache.popitem(last=False) \n",
    "        self.cache[obj_id] = True\n",
    "        return 0\n",
    "\n",
    "  def get_hit_ratio(self):\n",
    "    total = self.hit + self.miss\n",
    "    return self.hit / total if total > 0 else 0"
   ]
  },
  {
   "cell_type": "markdown",
   "id": "f37a26a4",
   "metadata": {
    "papermill": {
     "duration": 0.020914,
     "end_time": "2025-06-03T07:43:08.575056",
     "exception": false,
     "start_time": "2025-06-03T07:43:08.554142",
     "status": "completed"
    },
    "tags": []
   },
   "source": [
    "## Deep Cache vs Traditional LRU\n",
    "> \"We compare traditional LRU with Deep Cache, and without Deep Cache.\"\n",
    "> \"For dataset 1, we set the cache size to 5.\"\n",
    "- When the cache size is small (cache size = 5), incorrect prefetching by DeepCache leads to cache pollution, evicting useful objects and resulting in a lower hit ratio compared to traditional LRU.\n",
    "- However, as the cache size increases, the impact of incorrect predictions diminishes and the benefit of correctly prefetched objects increases, allowing DeepCache to outperform traditional LRU.\n"
   ]
  },
  {
   "cell_type": "code",
   "execution_count": 18,
   "id": "0a1e4167",
   "metadata": {
    "execution": {
     "iopub.execute_input": "2025-06-03T07:43:08.618593Z",
     "iopub.status.busy": "2025-06-03T07:43:08.618389Z",
     "iopub.status.idle": "2025-06-03T07:43:09.392195Z",
     "shell.execute_reply": "2025-06-03T07:43:09.391418Z"
    },
    "papermill": {
     "duration": 0.796616,
     "end_time": "2025-06-03T07:43:09.393306",
     "exception": false,
     "start_time": "2025-06-03T07:43:08.596690",
     "status": "completed"
    },
    "tags": []
   },
   "outputs": [
    {
     "name": "stdout",
     "output_type": "stream",
     "text": [
      "Max difference at cache size 6:\n",
      "DeepCache hit ratio: 0.4561\n",
      "Traditional LRU hit ratio: 0.3935\n"
     ]
    },
    {
     "data": {
      "image/png": "[encoded data removed]",
      "text/plain": [
       "<Figure size 800x500 with 1 Axes>"
      ]
     },
     "metadata": {},
     "output_type": "display_data"
    }
   ],
   "source": [
    "import matplotlib.pyplot as plt\n",
    "\n",
    "deep_hit_ratios = []\n",
    "trad_hit_ratios = []\n",
    "cache_sizes = list(range(5, 11))  # 5 to 10\n",
    "\n",
    "for cache_size in cache_sizes:\n",
    "    # Execute LRU with Deep Cache (on merged requests)\n",
    "    lru_deep = LRUCache(cache_size)\n",
    "    hits_deep = []\n",
    "    for obj_id in merged_requests:\n",
    "        hit = lru_deep.request(obj_id)\n",
    "        hits_deep.append(hit)\n",
    "    deep_hit_ratios.append(round(lru_deep.get_hit_ratio(), 4))\n",
    "\n",
    "    # Execute traditional LRU (on raw requests)\n",
    "    lru_traditional = LRUCache(cache_size)\n",
    "    hits_trad = []\n",
    "    for obj_id in actual_requests:\n",
    "        hit = lru_traditional.request(obj_id)\n",
    "        hits_trad.append(hit)\n",
    "    trad_hit_ratios.append(round(lru_traditional.get_hit_ratio(), 4))\n",
    "\n",
    "# Calculate the absolute differences between DeepCache and Traditional LRU hit ratios\n",
    "diffs = [abs(d - t) for d, t in zip(deep_hit_ratios, trad_hit_ratios)]\n",
    "max_diff_idx = diffs.index(max(diffs)) # Find the index where the difference is the largest\n",
    "\n",
    "deep_best_hit_ratio = deep_hit_ratios[max_diff_idx]\n",
    "lru_best_hit_ratio = trad_hit_ratios[max_diff_idx]\n",
    "\n",
    "print(f\"Max difference at cache size {cache_sizes[max_diff_idx]}:\")\n",
    "print(f\"DeepCache hit ratio: {deep_best_hit_ratio}\")\n",
    "print(f\"Traditional LRU hit ratio: {lru_best_hit_ratio}\")\n",
    "\n",
    "\n",
    "# Visualize the result\n",
    "plt.figure(figsize=(8, 5))\n",
    "plt.plot(cache_sizes, deep_hit_ratios, marker='o', label='DeepCache (LSTM + LRU)')\n",
    "plt.plot(cache_sizes, trad_hit_ratios, marker='s', label='Traditional LRU')\n",
    "plt.xlabel('Cache Size')\n",
    "plt.ylabel('Hit Ratio')\n",
    "plt.title('Cache Hit Ratio vs Cache Size')\n",
    "plt.legend()\n",
    "plt.grid(True)\n",
    "plt.tight_layout()\n",
    "plt.show()"
   ]
  },
  {
   "cell_type": "markdown",
   "id": "cd70f932",
   "metadata": {
    "papermill": {
     "duration": 0.022164,
     "end_time": "2025-06-03T07:43:09.438755",
     "exception": false,
     "start_time": "2025-06-03T07:43:09.416591",
     "status": "completed"
    },
    "tags": []
   },
   "source": [
    "## Visualize the result"
   ]
  },
  {
   "cell_type": "code",
   "execution_count": 19,
   "id": "823c85c0",
   "metadata": {
    "execution": {
     "iopub.execute_input": "2025-06-03T07:43:09.485678Z",
     "iopub.status.busy": "2025-06-03T07:43:09.485383Z",
     "iopub.status.idle": "2025-06-03T07:43:09.593047Z",
     "shell.execute_reply": "2025-06-03T07:43:09.592356Z"
    },
    "id": "UR8p2f5Ofmi9",
    "outputId": "db6f610b-5b21-41d8-e823-a24e9451df05",
    "papermill": {
     "duration": 0.132426,
     "end_time": "2025-06-03T07:43:09.594308",
     "exception": false,
     "start_time": "2025-06-03T07:43:09.461882",
     "status": "completed"
    },
    "tags": []
   },
   "outputs": [
    {
     "data": {
      "image/png": "[encoded data removed]",
      "text/plain": [
       "<Figure size 640x480 with 1 Axes>"
      ]
     },
     "metadata": {},
     "output_type": "display_data"
    }
   ],
   "source": [
    "import matplotlib.pyplot as plt\n",
    "\n",
    "ratios = [\n",
    "    deep_best_hit_ratio,\n",
    "    lru_best_hit_ratio\n",
    "]\n",
    "labels = ['DeepCache', 'LRU']\n",
    "\n",
    "plt.bar(labels, ratios, color=['skyblue', 'salmon'])\n",
    "plt.ylabel('Hit Ratio')\n",
    "plt.title('DeepCache vs LRU Performance')\n",
    "plt.ylim(0, 1)\n",
    "plt.show()"
   ]
  },
  {
   "cell_type": "code",
   "execution_count": 20,
   "id": "aa08b2b2",
   "metadata": {
    "execution": {
     "iopub.execute_input": "2025-06-03T07:43:09.643088Z",
     "iopub.status.busy": "2025-06-03T07:43:09.642860Z",
     "iopub.status.idle": "2025-06-03T07:43:09.843757Z",
     "shell.execute_reply": "2025-06-03T07:43:09.843102Z"
    },
    "papermill": {
     "duration": 0.22701,
     "end_time": "2025-06-03T07:43:09.845457",
     "exception": false,
     "start_time": "2025-06-03T07:43:09.618447",
     "status": "completed"
    },
    "tags": []
   },
   "outputs": [
    {
     "data": {
      "image/png": "[encoded data removed]",
      "text/plain": [
       "<Figure size 1000x600 with 1 Axes>"
      ]
     },
     "metadata": {},
     "output_type": "display_data"
    }
   ],
   "source": [
    "hits_deep = np.array(hits_deep, dtype=int)\n",
    "hits_trad = np.array(hits_trad, dtype=int)\n",
    "\n",
    "min_len = min(len(hits_trad), len(hits_deep))\n",
    "\n",
    "hits_trad = hits_trad[:min_len]\n",
    "hits_deep = hits_deep[:min_len]\n",
    "x = np.arange(1, min_len + 1)\n",
    "\n",
    "x = np.arange(1, len(hits_trad) + 1)\n",
    "cumulative_deep = np.cumsum(hits_deep)\n",
    "cumulative_trad = np.cumsum(hits_trad)\n",
    "\n",
    "step = 10\n",
    "x = np.arange(1, min_len + 1)[::step]\n",
    "cumulative_trad = cumulative_trad[::step]\n",
    "cumulative_deep = cumulative_deep[::step]\n",
    "\n",
    "y_max = max(cumulative_deep.max(), cumulative_trad.max())\n",
    "yticks = np.arange(0, y_max + 1, 80000) \n",
    "\n",
    "plt.figure(figsize=(10, 6))\n",
    "plt.plot(x, cumulative_trad, label='LRU', color='red', linewidth=2)\n",
    "plt.plot(x, cumulative_deep, label='DeepCache (LSTM + LRU)', color='green', linewidth=2)\n",
    "plt.xlabel('Request Sequence', fontsize=12)\n",
    "plt.ylabel('Cumulative Hits', fontsize=12)\n",
    "plt.title('Cumulative Cache Hits Over Time', fontsize=14)\n",
    "plt.yticks(yticks, fontsize=10)  \n",
    "plt.xticks(fontsize=10)\n",
    "plt.grid(True)\n",
    "plt.legend(fontsize=12)\n",
    "plt.tight_layout()\n",
    "plt.show()"
   ]
  },
  {
   "cell_type": "code",
   "execution_count": null,
   "id": "17d896e1",
   "metadata": {
    "papermill": {
     "duration": 0.023876,
     "end_time": "2025-06-03T07:43:09.894422",
     "exception": false,
     "start_time": "2025-06-03T07:43:09.870546",
     "status": "completed"
    },
    "tags": []
   },
   "outputs": [],
   "source": []
  }
 ],
 "metadata": {
  "colab": {
   "authorship_tag": "ABX9TyODoV2IsWNRzy5e/485WHon",
   "provenance": []
  },
  "kaggle": {
   "accelerator": "gpu",
   "dataSources": [
    {
     "datasetId": 7515257,
     "sourceId": 11996326,
     "sourceType": "datasetVersion"
    }
   ],
   "dockerImageVersionId": 31041,
   "isGpuEnabled": true,
   "isInternetEnabled": true,
   "language": "python",
   "sourceType": "notebook"
  },
  "kernelspec": {
   "display_name": "Python 3",
   "language": "python",
   "name": "python3"
  },
  "language_info": {
   "codemirror_mode": {
    "name": "ipython",
    "version": 3
   },
   "file_extension": ".py",
   "mimetype": "text/x-python",
   "name": "python",
   "nbconvert_exporter": "python",
   "pygments_lexer": "ipython3",
   "version": "3.11.11"
  },
  "papermill": {
   "default_parameters": {},
   "duration": 127.254138,
   "end_time": "2025-06-03T07:43:13.504425",
   "environment_variables": {},
   "exception": null,
   "input_path": "__notebook__.ipynb",
   "output_path": "__notebook__.ipynb",
   "parameters": {},
   "start_time": "2025-06-03T07:41:06.250287",
   "version": "2.6.0"
  }
 },
 "nbformat": 4,
 "nbformat_minor": 5
}

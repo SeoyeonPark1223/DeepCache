{
 "cells": [
  {
   "cell_type": "markdown",
   "id": "81bd4dc9",
   "metadata": {
    "papermill": {
     "duration": 0.004406,
     "end_time": "2025-05-29T13:11:15.812744",
     "exception": false,
     "start_time": "2025-05-29T13:11:15.808338",
     "status": "completed"
    },
    "tags": []
   },
   "source": [
    "# Deep Cache with SyntheticDataset\n",
    "\n",
    "Reference Paper\n",
    "> Deep Cache: A Deep Learning Based Framework For Content Caching"
   ]
  },
  {
   "cell_type": "code",
   "execution_count": 1,
   "id": "03e6f8d1",
   "metadata": {
    "execution": {
     "iopub.execute_input": "2025-05-29T13:11:15.820625Z",
     "iopub.status.busy": "2025-05-29T13:11:15.820398Z",
     "iopub.status.idle": "2025-05-29T13:11:17.244217Z",
     "shell.execute_reply": "2025-05-29T13:11:17.243220Z"
    },
    "papermill": {
     "duration": 1.429131,
     "end_time": "2025-05-29T13:11:17.245550",
     "exception": false,
     "start_time": "2025-05-29T13:11:15.816419",
     "status": "completed"
    },
    "tags": []
   },
   "outputs": [
    {
     "name": "stdout",
     "output_type": "stream",
     "text": [
      "/kaggle/input/y_dataset1_window.npy\n",
      "/kaggle/input/syntheticDataset_O50.csv\n",
      "/kaggle/input/X_dataset1_window.npy\n"
     ]
    }
   ],
   "source": [
    "# This Python 3 environment comes with many helpful analytics libraries installed\n",
    "# It is defined by the kaggle/python Docker image: https://github.com/kaggle/docker-python\n",
    "# For example, here's several helpful packages to load\n",
    "\n",
    "import numpy as np # linear algebra\n",
    "import pandas as pd # data processing, CSV file I/O (e.g. pd.read_csv)\n",
    "\n",
    "# Input data files are available in the read-only \"../input/\" directory\n",
    "# For example, running this (by clicking run or pressing Shift+Enter) will list all files under the input directory\n",
    "\n",
    "import os\n",
    "for dirname, _, filenames in os.walk('/kaggle/input'):\n",
    "    for filename in filenames:\n",
    "        print(os.path.join(dirname, filename))\n",
    "\n",
    "# You can write up to 20GB to the current directory (/kaggle/working/) that gets preserved as output when you create a version using \"Save & Run All\" \n",
    "# You can also write temporary files to /kaggle/temp/, but they won't be saved outside of the current session"
   ]
  },
  {
   "cell_type": "code",
   "execution_count": 2,
   "id": "0840b0e5",
   "metadata": {
    "execution": {
     "iopub.execute_input": "2025-05-29T13:11:17.254240Z",
     "iopub.status.busy": "2025-05-29T13:11:17.253511Z",
     "iopub.status.idle": "2025-05-29T13:11:31.891159Z",
     "shell.execute_reply": "2025-05-29T13:11:31.890221Z"
    },
    "papermill": {
     "duration": 14.643015,
     "end_time": "2025-05-29T13:11:31.892412",
     "exception": false,
     "start_time": "2025-05-29T13:11:17.249397",
     "status": "completed"
    },
    "tags": []
   },
   "outputs": [
    {
     "name": "stderr",
     "output_type": "stream",
     "text": [
      "2025-05-29 13:11:18.772391: E external/local_xla/xla/stream_executor/cuda/cuda_fft.cc:477] Unable to register cuFFT factory: Attempting to register factory for plugin cuFFT when one has already been registered\n",
      "WARNING: All log messages before absl::InitializeLog() is called are written to STDERR\n",
      "E0000 00:00:1748524278.959296      19 cuda_dnn.cc:8310] Unable to register cuDNN factory: Attempting to register factory for plugin cuDNN when one has already been registered\n",
      "E0000 00:00:1748524279.015289      19 cuda_blas.cc:1418] Unable to register cuBLAS factory: Attempting to register factory for plugin cuBLAS when one has already been registered\n"
     ]
    },
    {
     "name": "stdout",
     "output_type": "stream",
     "text": [
      "/GPU:0\n"
     ]
    }
   ],
   "source": [
    "# Use GPU if available, otherwise fall back to CPU\n",
    "import tensorflow as tf\n",
    "\n",
    "device = \"/GPU:0\" if tf.config.list_physical_devices('GPU') else \"/CPU:0\"\n",
    "print(device)"
   ]
  },
  {
   "cell_type": "code",
   "execution_count": 3,
   "id": "301fb7a1",
   "metadata": {
    "execution": {
     "iopub.execute_input": "2025-05-29T13:11:31.900973Z",
     "iopub.status.busy": "2025-05-29T13:11:31.900519Z",
     "iopub.status.idle": "2025-05-29T13:11:32.091420Z",
     "shell.execute_reply": "2025-05-29T13:11:32.090658Z"
    },
    "papermill": {
     "duration": 0.196308,
     "end_time": "2025-05-29T13:11:32.092665",
     "exception": false,
     "start_time": "2025-05-29T13:11:31.896357",
     "status": "completed"
    },
    "tags": []
   },
   "outputs": [
    {
     "data": {
      "text/html": [
       "<div>\n",
       "<style scoped>\n",
       "    .dataframe tbody tr th:only-of-type {\n",
       "        vertical-align: middle;\n",
       "    }\n",
       "\n",
       "    .dataframe tbody tr th {\n",
       "        vertical-align: top;\n",
       "    }\n",
       "\n",
       "    .dataframe thead th {\n",
       "        text-align: right;\n",
       "    }\n",
       "</style>\n",
       "<table border=\"1\" class=\"dataframe\">\n",
       "  <thead>\n",
       "    <tr style=\"text-align: right;\">\n",
       "      <th></th>\n",
       "      <th>object_ID</th>\n",
       "      <th>request_time</th>\n",
       "    </tr>\n",
       "  </thead>\n",
       "  <tbody>\n",
       "    <tr>\n",
       "      <th>0</th>\n",
       "      <td>5</td>\n",
       "      <td>2.961472</td>\n",
       "    </tr>\n",
       "    <tr>\n",
       "      <th>1</th>\n",
       "      <td>25</td>\n",
       "      <td>3.274127</td>\n",
       "    </tr>\n",
       "    <tr>\n",
       "      <th>2</th>\n",
       "      <td>2</td>\n",
       "      <td>3.785475</td>\n",
       "    </tr>\n",
       "    <tr>\n",
       "      <th>3</th>\n",
       "      <td>2</td>\n",
       "      <td>4.455687</td>\n",
       "    </tr>\n",
       "    <tr>\n",
       "      <th>4</th>\n",
       "      <td>4</td>\n",
       "      <td>5.288994</td>\n",
       "    </tr>\n",
       "    <tr>\n",
       "      <th>...</th>\n",
       "      <td>...</td>\n",
       "      <td>...</td>\n",
       "    </tr>\n",
       "    <tr>\n",
       "      <th>292141</th>\n",
       "      <td>39</td>\n",
       "      <td>304330.451276</td>\n",
       "    </tr>\n",
       "    <tr>\n",
       "      <th>292142</th>\n",
       "      <td>39</td>\n",
       "      <td>304352.296649</td>\n",
       "    </tr>\n",
       "    <tr>\n",
       "      <th>292143</th>\n",
       "      <td>39</td>\n",
       "      <td>304405.469075</td>\n",
       "    </tr>\n",
       "    <tr>\n",
       "      <th>292144</th>\n",
       "      <td>39</td>\n",
       "      <td>304442.964190</td>\n",
       "    </tr>\n",
       "    <tr>\n",
       "      <th>292145</th>\n",
       "      <td>39</td>\n",
       "      <td>304487.172906</td>\n",
       "    </tr>\n",
       "  </tbody>\n",
       "</table>\n",
       "<p>292146 rows × 2 columns</p>\n",
       "</div>"
      ],
      "text/plain": [
       "        object_ID   request_time\n",
       "0               5       2.961472\n",
       "1              25       3.274127\n",
       "2               2       3.785475\n",
       "3               2       4.455687\n",
       "4               4       5.288994\n",
       "...           ...            ...\n",
       "292141         39  304330.451276\n",
       "292142         39  304352.296649\n",
       "292143         39  304405.469075\n",
       "292144         39  304442.964190\n",
       "292145         39  304487.172906\n",
       "\n",
       "[292146 rows x 2 columns]"
      ]
     },
     "execution_count": 3,
     "metadata": {},
     "output_type": "execute_result"
    }
   ],
   "source": [
    "# Load data\n",
    "df = pd.read_csv('/kaggle/input/syntheticDataset_O50.csv') \n",
    "df"
   ]
  },
  {
   "cell_type": "markdown",
   "id": "9c3beb95",
   "metadata": {
    "papermill": {
     "duration": 0.004512,
     "end_time": "2025-05-29T13:11:32.102222",
     "exception": false,
     "start_time": "2025-05-29T13:11:32.097710",
     "status": "completed"
    },
    "tags": []
   },
   "source": [
    "## Split Data \n",
    "- To align with the paper's goal which is predicting the future characteristics of an object based on past logs, we split the dataset into 60% for training and 40% for evaluation."
   ]
  },
  {
   "cell_type": "code",
   "execution_count": 4,
   "id": "225403fc",
   "metadata": {
    "execution": {
     "iopub.execute_input": "2025-05-29T13:11:32.110833Z",
     "iopub.status.busy": "2025-05-29T13:11:32.110605Z",
     "iopub.status.idle": "2025-05-29T13:11:32.115553Z",
     "shell.execute_reply": "2025-05-29T13:11:32.115016Z"
    },
    "papermill": {
     "duration": 0.01049,
     "end_time": "2025-05-29T13:11:32.116665",
     "exception": false,
     "start_time": "2025-05-29T13:11:32.106175",
     "status": "completed"
    },
    "tags": []
   },
   "outputs": [],
   "source": [
    "cut_idx = int(len(df) * 0.6)\n",
    "train_df = df.iloc[:cut_idx].reset_index(drop=True)\n",
    "test_df = df.iloc[cut_idx:].reset_index(drop=True)"
   ]
  },
  {
   "cell_type": "markdown",
   "id": "14e02ec5",
   "metadata": {
    "papermill": {
     "duration": 0.003498,
     "end_time": "2025-05-29T13:11:32.123961",
     "exception": false,
     "start_time": "2025-05-29T13:11:32.120463",
     "status": "completed"
    },
    "tags": []
   },
   "source": [
    "## Feature Engineering\n",
    "> \"For dataset 1, the probability of object $o^i$ is calculated as $Ni$ /1000, where $N^i$ represents the number of occurrences of $o^i$ in the window of past 1K objects.\"\n",
    "- Using step=1 generated too much data, so we used step=100 to make it manageable."
   ]
  },
  {
   "cell_type": "code",
   "execution_count": 5,
   "id": "a5c2e687",
   "metadata": {
    "execution": {
     "iopub.execute_input": "2025-05-29T13:11:32.131848Z",
     "iopub.status.busy": "2025-05-29T13:11:32.131637Z",
     "iopub.status.idle": "2025-05-29T13:11:32.139861Z",
     "shell.execute_reply": "2025-05-29T13:11:32.139350Z"
    },
    "papermill": {
     "duration": 0.01343,
     "end_time": "2025-05-29T13:11:32.140980",
     "exception": false,
     "start_time": "2025-05-29T13:11:32.127550",
     "status": "completed"
    },
    "tags": []
   },
   "outputs": [],
   "source": [
    "window_size = 1000\n",
    "step = 100\n",
    "m, k = 20, 10 # Sequence length for input(m) and output(k)\n",
    "\n",
    "X = []\n",
    "y = []\n",
    "\n",
    "object_ids = df['object_ID'].unique()\n",
    "object_ids.sort()\n",
    "num_objects = len(object_ids) # Number of unique objects: 50"
   ]
  },
  {
   "cell_type": "code",
   "execution_count": 6,
   "id": "b1ef9736",
   "metadata": {
    "execution": {
     "iopub.execute_input": "2025-05-29T13:11:32.149600Z",
     "iopub.status.busy": "2025-05-29T13:11:32.149370Z",
     "iopub.status.idle": "2025-05-29T13:11:50.479308Z",
     "shell.execute_reply": "2025-05-29T13:11:50.478676Z"
    },
    "papermill": {
     "duration": 18.335936,
     "end_time": "2025-05-29T13:11:50.480754",
     "exception": false,
     "start_time": "2025-05-29T13:11:32.144818",
     "status": "completed"
    },
    "tags": []
   },
   "outputs": [],
   "source": [
    "# Generate training data for sequence-to-sequence modeling from object request logs\n",
    "for i in range(0, len(train_df) - window_size * (m + k), step):\n",
    "    seq = train_df['object_ID'].iloc[i : i + window_size * (m + k)]\n",
    "    x_seq, y_seq = [], []\n",
    "    \n",
    "    # Build the input sequence: m windows of past requests\n",
    "    for j in range(m):\n",
    "        window = seq[j * window_size : (j + 1) * window_size]\n",
    "        counts = window.value_counts(normalize=True).reindex(object_ids, fill_value=0).values\n",
    "        x_seq.append(counts)\n",
    "        \n",
    "    # Build the output sequence: k windows of future requests\n",
    "    for j in range(k):\n",
    "        window = seq[(m + j) * window_size : (m + j + 1) * window_size]\n",
    "        counts = window.value_counts(normalize=True).reindex(object_ids, fill_value=0).values\n",
    "        y_seq.append(counts)\n",
    "\n",
    "    X.append(x_seq) # (#samples, 20, d)\n",
    "    y.append(y_seq) # (#samples, 26, d)"
   ]
  },
  {
   "cell_type": "code",
   "execution_count": 7,
   "id": "a1b082c1",
   "metadata": {
    "execution": {
     "iopub.execute_input": "2025-05-29T13:11:50.489691Z",
     "iopub.status.busy": "2025-05-29T13:11:50.489444Z",
     "iopub.status.idle": "2025-05-29T13:11:50.546995Z",
     "shell.execute_reply": "2025-05-29T13:11:50.546061Z"
    },
    "papermill": {
     "duration": 0.063297,
     "end_time": "2025-05-29T13:11:50.548416",
     "exception": false,
     "start_time": "2025-05-29T13:11:50.485119",
     "status": "completed"
    },
    "tags": []
   },
   "outputs": [
    {
     "name": "stdout",
     "output_type": "stream",
     "text": [
      "X.shape (reshaped): (72650, 20, 1)\n",
      "y.shape (reshaped): (72650, 10, 1)\n"
     ]
    }
   ],
   "source": [
    "X = np.array(X)\n",
    "y = np.array(y)\n",
    "\n",
    "# Reshape X and y to fit LSTM input requirements:\n",
    "# X: (samples * num_objects, m, 1)\n",
    "# y: (samples * num_objects, K, 1)\n",
    "X = X.transpose(0, 2, 1).reshape(-1, m, 1)  \n",
    "y = y.transpose(0, 2, 1).reshape(-1, k, 1)  \n",
    "print(\"X.shape (reshaped):\", X.shape)\n",
    "print(\"y.shape (reshaped):\", y.shape)"
   ]
  },
  {
   "cell_type": "code",
   "execution_count": 8,
   "id": "3aeebe79",
   "metadata": {
    "execution": {
     "iopub.execute_input": "2025-05-29T13:11:50.557320Z",
     "iopub.status.busy": "2025-05-29T13:11:50.556852Z",
     "iopub.status.idle": "2025-05-29T13:11:50.572701Z",
     "shell.execute_reply": "2025-05-29T13:11:50.571954Z"
    },
    "papermill": {
     "duration": 0.021452,
     "end_time": "2025-05-29T13:11:50.573858",
     "exception": false,
     "start_time": "2025-05-29T13:11:50.552406",
     "status": "completed"
    },
    "tags": []
   },
   "outputs": [],
   "source": [
    "np.save(\"X_dataset1_window.npy\", X)\n",
    "np.save(\"y_dataset1_window.npy\", y)"
   ]
  },
  {
   "cell_type": "markdown",
   "id": "5053cdeb",
   "metadata": {
    "papermill": {
     "duration": 0.003568,
     "end_time": "2025-05-29T13:11:50.581378",
     "exception": false,
     "start_time": "2025-05-29T13:11:50.577810",
     "status": "completed"
    },
    "tags": []
   },
   "source": [
    "## Build LSTM Model\n",
    "> \"For our datasets, we use a two-layer depth LSTM Encoder-Decoder model with 128 and 64 as the number of hidden units. ... The loss function is chosen as mean-squared-error (MSE).\""
   ]
  },
  {
   "cell_type": "code",
   "execution_count": 9,
   "id": "62e2e74e",
   "metadata": {
    "execution": {
     "iopub.execute_input": "2025-05-29T13:11:50.589479Z",
     "iopub.status.busy": "2025-05-29T13:11:50.589236Z",
     "iopub.status.idle": "2025-05-29T13:11:50.645933Z",
     "shell.execute_reply": "2025-05-29T13:11:50.645208Z"
    },
    "papermill": {
     "duration": 0.061958,
     "end_time": "2025-05-29T13:11:50.647023",
     "exception": false,
     "start_time": "2025-05-29T13:11:50.585065",
     "status": "completed"
    },
    "tags": []
   },
   "outputs": [],
   "source": [
    "from tensorflow.keras.layers import Input, LSTM, Dense, TimeDistributed, RepeatVector\n",
    "from tensorflow.keras.models import Model"
   ]
  },
  {
   "cell_type": "code",
   "execution_count": 10,
   "id": "9055f39e",
   "metadata": {
    "execution": {
     "iopub.execute_input": "2025-05-29T13:11:50.655776Z",
     "iopub.status.busy": "2025-05-29T13:11:50.655558Z",
     "iopub.status.idle": "2025-05-29T13:11:50.660710Z",
     "shell.execute_reply": "2025-05-29T13:11:50.660006Z"
    },
    "papermill": {
     "duration": 0.010505,
     "end_time": "2025-05-29T13:11:50.661724",
     "exception": false,
     "start_time": "2025-05-29T13:11:50.651219",
     "status": "completed"
    },
    "tags": []
   },
   "outputs": [],
   "source": [
    "def build_seq2seq_model(m, k):\n",
    "    # ----- Encoder -----\n",
    "    encoder_inputs = Input(shape=(m, 1))  # Input shape: (sequence_length, 1)\n",
    "\n",
    "    # Two-layer encoder with 128 and 64 hidden units\n",
    "    encoder_lstm_1 = LSTM(128, return_sequences=True)\n",
    "    encoder_lstm_2 = LSTM(64, return_state=True)\n",
    "\n",
    "    x = encoder_lstm_1(encoder_inputs)\n",
    "    encoder_outputs, state_h, state_c = encoder_lstm_2(x)\n",
    "    encoder_states = [state_h, state_c]  # Final encoder states passed to decoder\n",
    "\n",
    "    # ----- Decoder -----\n",
    "    decoder_inputs = RepeatVector(k)(encoder_outputs)  # Repeat context vector for k time steps\n",
    "\n",
    "    # Two-layer decoder with 128 and 64 hidden units\n",
    "    decoder_lstm_1 = LSTM(128, return_sequences=True)\n",
    "    decoder_lstm_2 = LSTM(64, return_sequences=True)\n",
    "\n",
    "    x = decoder_lstm_1(decoder_inputs, initial_state=encoder_states)\n",
    "    decoder_outputs = decoder_lstm_2(x)\n",
    "\n",
    "    # Predict one value per time step\n",
    "    decoder_dense = TimeDistributed(Dense(1))\n",
    "    output_seq = decoder_dense(decoder_outputs)\n",
    "\n",
    "    # Compile the model with MSE loss and MAE metric\n",
    "    model = Model(encoder_inputs, output_seq)\n",
    "    model.compile(optimizer='adam', loss='mse', metrics=['mae'])\n",
    "\n",
    "    return model"
   ]
  },
  {
   "cell_type": "markdown",
   "id": "74938fb1",
   "metadata": {
    "papermill": {
     "duration": 0.003413,
     "end_time": "2025-05-29T13:11:50.668737",
     "exception": false,
     "start_time": "2025-05-29T13:11:50.665324",
     "status": "completed"
    },
    "tags": []
   },
   "source": [
    "## Train Model\n",
    "> \"We ran our experiments for a number of epochs equal to 30, with the batch size set to 10% of the training data.\""
   ]
  },
  {
   "cell_type": "code",
   "execution_count": 11,
   "id": "78aa4c89",
   "metadata": {
    "execution": {
     "iopub.execute_input": "2025-05-29T13:11:50.677474Z",
     "iopub.status.busy": "2025-05-29T13:11:50.676962Z",
     "iopub.status.idle": "2025-05-29T13:12:59.376128Z",
     "shell.execute_reply": "2025-05-29T13:12:59.375241Z"
    },
    "id": "OWBu2M4GXrZv",
    "outputId": "716eddaa-3303-418c-923d-3d669cc313b9",
    "papermill": {
     "duration": 68.704821,
     "end_time": "2025-05-29T13:12:59.377280",
     "exception": false,
     "start_time": "2025-05-29T13:11:50.672459",
     "status": "completed"
    },
    "tags": []
   },
   "outputs": [
    {
     "name": "stdout",
     "output_type": "stream",
     "text": [
      "Batch size: 7265\n"
     ]
    },
    {
     "name": "stderr",
     "output_type": "stream",
     "text": [
      "I0000 00:00:1748524310.793615      19 gpu_device.cc:2022] Created device /job:localhost/replica:0/task:0/device:GPU:0 with 15513 MB memory:  -> device: 0, name: Tesla P100-PCIE-16GB, pci bus id: 0000:00:04.0, compute capability: 6.0\n"
     ]
    },
    {
     "name": "stdout",
     "output_type": "stream",
     "text": [
      "Epoch 1/30\n"
     ]
    },
    {
     "name": "stderr",
     "output_type": "stream",
     "text": [
      "I0000 00:00:1748524318.030681      59 cuda_dnn.cc:529] Loaded cuDNN version 90300\n"
     ]
    },
    {
     "name": "stdout",
     "output_type": "stream",
     "text": [
      "\u001b[1m10/10\u001b[0m \u001b[32m━━━━━━━━━━━━━━━━━━━━\u001b[0m\u001b[37m\u001b[0m \u001b[1m8s\u001b[0m 174ms/step - loss: 0.0011 - mae: 0.0226\n",
      "Epoch 2/30\n",
      "\u001b[1m10/10\u001b[0m \u001b[32m━━━━━━━━━━━━━━━━━━━━\u001b[0m\u001b[37m\u001b[0m \u001b[1m2s\u001b[0m 173ms/step - loss: 7.3760e-04 - mae: 0.0168\n",
      "Epoch 3/30\n",
      "\u001b[1m10/10\u001b[0m \u001b[32m━━━━━━━━━━━━━━━━━━━━\u001b[0m\u001b[37m\u001b[0m \u001b[1m2s\u001b[0m 173ms/step - loss: 5.7157e-04 - mae: 0.0140\n",
      "Epoch 4/30\n",
      "\u001b[1m10/10\u001b[0m \u001b[32m━━━━━━━━━━━━━━━━━━━━\u001b[0m\u001b[37m\u001b[0m \u001b[1m2s\u001b[0m 173ms/step - loss: 4.5512e-04 - mae: 0.0111\n",
      "Epoch 5/30\n",
      "\u001b[1m10/10\u001b[0m \u001b[32m━━━━━━━━━━━━━━━━━━━━\u001b[0m\u001b[37m\u001b[0m \u001b[1m2s\u001b[0m 173ms/step - loss: 3.9016e-04 - mae: 0.0101\n",
      "Epoch 6/30\n",
      "\u001b[1m10/10\u001b[0m \u001b[32m━━━━━━━━━━━━━━━━━━━━\u001b[0m\u001b[37m\u001b[0m \u001b[1m2s\u001b[0m 173ms/step - loss: 3.5157e-04 - mae: 0.0093\n",
      "Epoch 7/30\n",
      "\u001b[1m10/10\u001b[0m \u001b[32m━━━━━━━━━━━━━━━━━━━━\u001b[0m\u001b[37m\u001b[0m \u001b[1m2s\u001b[0m 173ms/step - loss: 3.2402e-04 - mae: 0.0088\n",
      "Epoch 8/30\n",
      "\u001b[1m10/10\u001b[0m \u001b[32m━━━━━━━━━━━━━━━━━━━━\u001b[0m\u001b[37m\u001b[0m \u001b[1m2s\u001b[0m 173ms/step - loss: 2.9397e-04 - mae: 0.0085\n",
      "Epoch 9/30\n",
      "\u001b[1m10/10\u001b[0m \u001b[32m━━━━━━━━━━━━━━━━━━━━\u001b[0m\u001b[37m\u001b[0m \u001b[1m2s\u001b[0m 173ms/step - loss: 2.7294e-04 - mae: 0.0083\n",
      "Epoch 10/30\n",
      "\u001b[1m10/10\u001b[0m \u001b[32m━━━━━━━━━━━━━━━━━━━━\u001b[0m\u001b[37m\u001b[0m \u001b[1m2s\u001b[0m 174ms/step - loss: 2.7122e-04 - mae: 0.0083\n",
      "Epoch 11/30\n",
      "\u001b[1m10/10\u001b[0m \u001b[32m━━━━━━━━━━━━━━━━━━━━\u001b[0m\u001b[37m\u001b[0m \u001b[1m2s\u001b[0m 174ms/step - loss: 2.6617e-04 - mae: 0.0081\n",
      "Epoch 12/30\n",
      "\u001b[1m10/10\u001b[0m \u001b[32m━━━━━━━━━━━━━━━━━━━━\u001b[0m\u001b[37m\u001b[0m \u001b[1m2s\u001b[0m 173ms/step - loss: 2.5849e-04 - mae: 0.0080\n",
      "Epoch 13/30\n",
      "\u001b[1m10/10\u001b[0m \u001b[32m━━━━━━━━━━━━━━━━━━━━\u001b[0m\u001b[37m\u001b[0m \u001b[1m2s\u001b[0m 174ms/step - loss: 2.5866e-04 - mae: 0.0081\n",
      "Epoch 14/30\n",
      "\u001b[1m10/10\u001b[0m \u001b[32m━━━━━━━━━━━━━━━━━━━━\u001b[0m\u001b[37m\u001b[0m \u001b[1m2s\u001b[0m 173ms/step - loss: 2.5297e-04 - mae: 0.0079\n",
      "Epoch 15/30\n",
      "\u001b[1m10/10\u001b[0m \u001b[32m━━━━━━━━━━━━━━━━━━━━\u001b[0m\u001b[37m\u001b[0m \u001b[1m2s\u001b[0m 173ms/step - loss: 2.5509e-04 - mae: 0.0079\n",
      "Epoch 16/30\n",
      "\u001b[1m10/10\u001b[0m \u001b[32m━━━━━━━━━━━━━━━━━━━━\u001b[0m\u001b[37m\u001b[0m \u001b[1m2s\u001b[0m 173ms/step - loss: 2.5507e-04 - mae: 0.0079\n",
      "Epoch 17/30\n",
      "\u001b[1m10/10\u001b[0m \u001b[32m━━━━━━━━━━━━━━━━━━━━\u001b[0m\u001b[37m\u001b[0m \u001b[1m2s\u001b[0m 173ms/step - loss: 2.5358e-04 - mae: 0.0079\n",
      "Epoch 18/30\n",
      "\u001b[1m10/10\u001b[0m \u001b[32m━━━━━━━━━━━━━━━━━━━━\u001b[0m\u001b[37m\u001b[0m \u001b[1m2s\u001b[0m 173ms/step - loss: 2.4641e-04 - mae: 0.0078\n",
      "Epoch 19/30\n",
      "\u001b[1m10/10\u001b[0m \u001b[32m━━━━━━━━━━━━━━━━━━━━\u001b[0m\u001b[37m\u001b[0m \u001b[1m2s\u001b[0m 173ms/step - loss: 2.5160e-04 - mae: 0.0079\n",
      "Epoch 20/30\n",
      "\u001b[1m10/10\u001b[0m \u001b[32m━━━━━━━━━━━━━━━━━━━━\u001b[0m\u001b[37m\u001b[0m \u001b[1m2s\u001b[0m 173ms/step - loss: 2.4566e-04 - mae: 0.0080\n",
      "Epoch 21/30\n",
      "\u001b[1m10/10\u001b[0m \u001b[32m━━━━━━━━━━━━━━━━━━━━\u001b[0m\u001b[37m\u001b[0m \u001b[1m2s\u001b[0m 173ms/step - loss: 2.4093e-04 - mae: 0.0080\n",
      "Epoch 22/30\n",
      "\u001b[1m10/10\u001b[0m \u001b[32m━━━━━━━━━━━━━━━━━━━━\u001b[0m\u001b[37m\u001b[0m \u001b[1m2s\u001b[0m 174ms/step - loss: 2.3514e-04 - mae: 0.0077\n",
      "Epoch 23/30\n",
      "\u001b[1m10/10\u001b[0m \u001b[32m━━━━━━━━━━━━━━━━━━━━\u001b[0m\u001b[37m\u001b[0m \u001b[1m2s\u001b[0m 174ms/step - loss: 2.3395e-04 - mae: 0.0079\n",
      "Epoch 24/30\n",
      "\u001b[1m10/10\u001b[0m \u001b[32m━━━━━━━━━━━━━━━━━━━━\u001b[0m\u001b[37m\u001b[0m \u001b[1m2s\u001b[0m 174ms/step - loss: 2.3299e-04 - mae: 0.0076\n",
      "Epoch 25/30\n",
      "\u001b[1m10/10\u001b[0m \u001b[32m━━━━━━━━━━━━━━━━━━━━\u001b[0m\u001b[37m\u001b[0m \u001b[1m2s\u001b[0m 173ms/step - loss: 2.4061e-04 - mae: 0.0077\n",
      "Epoch 26/30\n",
      "\u001b[1m10/10\u001b[0m \u001b[32m━━━━━━━━━━━━━━━━━━━━\u001b[0m\u001b[37m\u001b[0m \u001b[1m2s\u001b[0m 173ms/step - loss: 2.3720e-04 - mae: 0.0077\n",
      "Epoch 27/30\n",
      "\u001b[1m10/10\u001b[0m \u001b[32m━━━━━━━━━━━━━━━━━━━━\u001b[0m\u001b[37m\u001b[0m \u001b[1m2s\u001b[0m 173ms/step - loss: 2.3733e-04 - mae: 0.0076\n",
      "Epoch 28/30\n",
      "\u001b[1m10/10\u001b[0m \u001b[32m━━━━━━━━━━━━━━━━━━━━\u001b[0m\u001b[37m\u001b[0m \u001b[1m2s\u001b[0m 175ms/step - loss: 2.3359e-04 - mae: 0.0076\n",
      "Epoch 29/30\n",
      "\u001b[1m10/10\u001b[0m \u001b[32m━━━━━━━━━━━━━━━━━━━━\u001b[0m\u001b[37m\u001b[0m \u001b[1m2s\u001b[0m 174ms/step - loss: 2.3063e-04 - mae: 0.0076\n",
      "Epoch 30/30\n",
      "\u001b[1m10/10\u001b[0m \u001b[32m━━━━━━━━━━━━━━━━━━━━\u001b[0m\u001b[37m\u001b[0m \u001b[1m2s\u001b[0m 174ms/step - loss: 2.3368e-04 - mae: 0.0076\n",
      "\u001b[1m2271/2271\u001b[0m \u001b[32m━━━━━━━━━━━━━━━━━━━━\u001b[0m\u001b[37m\u001b[0m \u001b[1m7s\u001b[0m 3ms/step\n",
      "Prediction Shape: (72650, 10, 1)\n"
     ]
    }
   ],
   "source": [
    "batch_size = int(len(X) * 0.1)\n",
    "print(\"Batch size:\", batch_size)\n",
    "\n",
    "model = build_seq2seq_model(m, k)\n",
    "model.fit(X, y, epochs=30, batch_size=batch_size)\n",
    "\n",
    "# Predict\n",
    "y_pred = model.predict(X)  \n",
    "\n",
    "print(\"Prediction Shape:\", y_pred.shape)"
   ]
  },
  {
   "cell_type": "markdown",
   "id": "18cfcf5f",
   "metadata": {
    "papermill": {
     "duration": 0.02142,
     "end_time": "2025-05-29T13:12:59.421844",
     "exception": false,
     "start_time": "2025-05-29T13:12:59.400424",
     "status": "completed"
    },
    "tags": []
   },
   "source": [
    "## Cache Policy Setting\n",
    "Foreveryobjectrequestoit attimet,wegenerateavaryingnumber of “fake object requests” (denoted as Ft ). For dataset 1, we generate Ft by calculating the top M = 5 objects with highest probability at t + 1. "
   ]
  },
  {
   "cell_type": "code",
   "execution_count": 12,
   "id": "ef6e2572",
   "metadata": {
    "execution": {
     "iopub.execute_input": "2025-05-29T13:12:59.465731Z",
     "iopub.status.busy": "2025-05-29T13:12:59.465487Z",
     "iopub.status.idle": "2025-05-29T13:12:59.645209Z",
     "shell.execute_reply": "2025-05-29T13:12:59.644465Z"
    },
    "papermill": {
     "duration": 0.20318,
     "end_time": "2025-05-29T13:12:59.646490",
     "exception": false,
     "start_time": "2025-05-29T13:12:59.443310",
     "status": "completed"
    },
    "tags": []
   },
   "outputs": [],
   "source": [
    "M = 5\n",
    "top_objects_each_t = []\n",
    "for i in range(len(y_pred)):\n",
    "    next_probs = y_pred[i, 0].flatten()\n",
    "    top_indices = next_probs.argsort()[-M:][::-1]\n",
    "    top_objects_each_t.append(list(top_indices))"
   ]
  },
  {
   "cell_type": "markdown",
   "id": "1ea3e3dc",
   "metadata": {
    "papermill": {
     "duration": 0.022723,
     "end_time": "2025-05-29T13:12:59.690900",
     "exception": false,
     "start_time": "2025-05-29T13:12:59.668177",
     "status": "completed"
    },
    "tags": []
   },
   "source": [
    "## Integral Operator\n",
    "> \"The operator is a simple merge operator, where the actual object request is followed by all the fake requests generated by our Caching Policy. This helps us to update the state of the cache by prefetching objects based on future object popularity and evict unpopular ones.\""
   ]
  },
  {
   "cell_type": "code",
   "execution_count": 13,
   "id": "aa465a0e",
   "metadata": {
    "execution": {
     "iopub.execute_input": "2025-05-29T13:12:59.735200Z",
     "iopub.status.busy": "2025-05-29T13:12:59.734792Z",
     "iopub.status.idle": "2025-05-29T13:12:59.782889Z",
     "shell.execute_reply": "2025-05-29T13:12:59.782152Z"
    },
    "papermill": {
     "duration": 0.071601,
     "end_time": "2025-05-29T13:12:59.784074",
     "exception": false,
     "start_time": "2025-05-29T13:12:59.712473",
     "status": "completed"
    },
    "tags": []
   },
   "outputs": [],
   "source": [
    "# Merge real requests and fake requests\n",
    "merged_requests = []\n",
    "fake_insert_idx = 0\n",
    "insert_interval = 5\n",
    "\n",
    "actual_requests = test_df.sort_values('request_time')['object_ID'].tolist()\n",
    "\n",
    "for t, req in enumerate(actual_requests):\n",
    "    merged_requests.append(req)\n",
    "    if fake_insert_idx < len(top_objects_each_t) and t % insert_interval == 0:\n",
    "        fake_objs = top_objects_each_t[fake_insert_idx]\n",
    "        merged_requests.extend(fake_objs)\n",
    "        fake_insert_idx += 1"
   ]
  },
  {
   "cell_type": "code",
   "execution_count": 14,
   "id": "dd4d173b",
   "metadata": {
    "execution": {
     "iopub.execute_input": "2025-05-29T13:12:59.872423Z",
     "iopub.status.busy": "2025-05-29T13:12:59.872148Z",
     "iopub.status.idle": "2025-05-29T13:12:59.878276Z",
     "shell.execute_reply": "2025-05-29T13:12:59.877802Z"
    },
    "id": "wDg2rcihoHav",
    "papermill": {
     "duration": 0.029563,
     "end_time": "2025-05-29T13:12:59.879309",
     "exception": false,
     "start_time": "2025-05-29T13:12:59.849746",
     "status": "completed"
    },
    "tags": []
   },
   "outputs": [],
   "source": [
    "# LRU Cache simulator\n",
    "from collections import OrderedDict\n",
    "\n",
    "class LRUCache:\n",
    "  def __init__(self, capacity):\n",
    "    self.capacity = capacity\n",
    "    self.cache = OrderedDict()\n",
    "    self.hit = 0\n",
    "    self.miss = 0\n",
    "\n",
    "  def request(self, obj_id):\n",
    "    if obj_id in self.cache:\n",
    "        self.cache.move_to_end(obj_id)\n",
    "        self.hit += 1\n",
    "        return 1\n",
    "    else:\n",
    "        self.miss += 1\n",
    "        if len(self.cache) >= self.capacity:\n",
    "            self.cache.popitem(last=False) \n",
    "        self.cache[obj_id] = True\n",
    "        return 0\n",
    "\n",
    "  def get_hit_ratio(self):\n",
    "    total = self.hit + self.miss\n",
    "    return self.hit / total if total > 0 else 0"
   ]
  },
  {
   "cell_type": "markdown",
   "id": "1f235ea0",
   "metadata": {
    "papermill": {
     "duration": 0.021859,
     "end_time": "2025-05-29T13:12:59.922703",
     "exception": false,
     "start_time": "2025-05-29T13:12:59.900844",
     "status": "completed"
    },
    "tags": []
   },
   "source": [
    "## Deep Cache vs Traditional LRU\n",
    "> \"We compare traditional LRU with Deep Cache, and without Deep Cache.\"\n",
    "> \"For dataset 1, we set the cache size to 5.\"\n",
    "- When the cache size is small (cache size = 5), incorrect prefetching by DeepCache leads to cache pollution, evicting useful objects and resulting in a lower hit ratio compared to traditional LRU.\n",
    "- However, as the cache size increases, the impact of incorrect predictions diminishes and the benefit of correctly prefetched objects increases, allowing DeepCache to outperform traditional LRU.\n"
   ]
  },
  {
   "cell_type": "code",
   "execution_count": 15,
   "id": "975ed888",
   "metadata": {
    "execution": {
     "iopub.execute_input": "2025-05-29T13:12:59.967368Z",
     "iopub.status.busy": "2025-05-29T13:12:59.967138Z",
     "iopub.status.idle": "2025-05-29T13:13:00.846489Z",
     "shell.execute_reply": "2025-05-29T13:13:00.845763Z"
    },
    "papermill": {
     "duration": 0.903142,
     "end_time": "2025-05-29T13:13:00.847752",
     "exception": false,
     "start_time": "2025-05-29T13:12:59.944610",
     "status": "completed"
    },
    "tags": []
   },
   "outputs": [
    {
     "name": "stdout",
     "output_type": "stream",
     "text": [
      "Max difference at cache size 6:\n",
      "DeepCache hit ratio: 0.4561\n",
      "Traditional LRU hit ratio: 0.3935\n"
     ]
    },
    {
     "data": {
      "image/png": "[encoded data removed]",
      "text/plain": [
       "<Figure size 800x500 with 1 Axes>"
      ]
     },
     "metadata": {},
     "output_type": "display_data"
    }
   ],
   "source": [
    "import matplotlib.pyplot as plt\n",
    "\n",
    "deep_hit_ratios = []\n",
    "trad_hit_ratios = []\n",
    "cache_sizes = list(range(5, 11))  # 5 to 10\n",
    "\n",
    "for cache_size in cache_sizes:\n",
    "    # Execute LRU with Deep Cache (on merged requests)\n",
    "    lru_deep = LRUCache(cache_size)\n",
    "    hits_deep = []\n",
    "    for obj_id in merged_requests:\n",
    "        hit = lru_deep.request(obj_id)\n",
    "        hits_deep.append(hit)\n",
    "    deep_hit_ratios.append(round(lru_deep.get_hit_ratio(), 4))\n",
    "\n",
    "    # Execute traditional LRU (on raw requests)\n",
    "    lru_traditional = LRUCache(cache_size)\n",
    "    hits_trad = []\n",
    "    for obj_id in actual_requests:\n",
    "        hit = lru_traditional.request(obj_id)\n",
    "        hits_trad.append(hit)\n",
    "    trad_hit_ratios.append(round(lru_traditional.get_hit_ratio(), 4))\n",
    "\n",
    "# Calculate the absolute differences between DeepCache and Traditional LRU hit ratios\n",
    "diffs = [abs(d - t) for d, t in zip(deep_hit_ratios, trad_hit_ratios)]\n",
    "max_diff_idx = diffs.index(max(diffs)) # Find the index where the difference is the largest\n",
    "\n",
    "deep_best_hit_ratio = deep_hit_ratios[max_diff_idx]\n",
    "lru_best_hit_ratio = trad_hit_ratios[max_diff_idx]\n",
    "\n",
    "print(f\"Max difference at cache size {cache_sizes[max_diff_idx]}:\")\n",
    "print(f\"DeepCache hit ratio: {deep_best_hit_ratio}\")\n",
    "print(f\"Traditional LRU hit ratio: {lru_best_hit_ratio}\")\n",
    "\n",
    "\n",
    "# Visualize the result\n",
    "plt.figure(figsize=(8, 5))\n",
    "plt.plot(cache_sizes, deep_hit_ratios, marker='o', label='DeepCache (LSTM + LRU)')\n",
    "plt.plot(cache_sizes, trad_hit_ratios, marker='s', label='Traditional LRU')\n",
    "plt.xlabel('Cache Size')\n",
    "plt.ylabel('Hit Ratio')\n",
    "plt.title('Cache Hit Ratio vs Cache Size')\n",
    "plt.legend()\n",
    "plt.grid(True)\n",
    "plt.tight_layout()\n",
    "plt.show()"
   ]
  },
  {
   "cell_type": "markdown",
   "id": "a31e3e64",
   "metadata": {
    "papermill": {
     "duration": 0.022796,
     "end_time": "2025-05-29T13:13:00.893932",
     "exception": false,
     "start_time": "2025-05-29T13:13:00.871136",
     "status": "completed"
    },
    "tags": []
   },
   "source": [
    "## Visualize the result"
   ]
  },
  {
   "cell_type": "code",
   "execution_count": 16,
   "id": "6dc47ebd",
   "metadata": {
    "execution": {
     "iopub.execute_input": "2025-05-29T13:13:00.939592Z",
     "iopub.status.busy": "2025-05-29T13:13:00.939356Z",
     "iopub.status.idle": "2025-05-29T13:13:01.047671Z",
     "shell.execute_reply": "2025-05-29T13:13:01.047024Z"
    },
    "id": "UR8p2f5Ofmi9",
    "outputId": "db6f610b-5b21-41d8-e823-a24e9451df05",
    "papermill": {
     "duration": 0.132555,
     "end_time": "2025-05-29T13:13:01.048777",
     "exception": false,
     "start_time": "2025-05-29T13:13:00.916222",
     "status": "completed"
    },
    "tags": []
   },
   "outputs": [
    {
     "data": {
      "image/png": "[encoded data removed]",
      "text/plain": [
       "<Figure size 640x480 with 1 Axes>"
      ]
     },
     "metadata": {},
     "output_type": "display_data"
    }
   ],
   "source": [
    "import matplotlib.pyplot as plt\n",
    "\n",
    "ratios = [\n",
    "    deep_best_hit_ratio,\n",
    "    lru_best_hit_ratio\n",
    "]\n",
    "labels = ['DeepCache', 'LRU']\n",
    "\n",
    "plt.bar(labels, ratios, color=['skyblue', 'salmon'])\n",
    "plt.ylabel('Hit Ratio')\n",
    "plt.title('DeepCache vs LRU Performance')\n",
    "plt.ylim(0, 1)\n",
    "plt.show()"
   ]
  },
  {
   "cell_type": "code",
   "execution_count": 17,
   "id": "add9a3f8",
   "metadata": {
    "execution": {
     "iopub.execute_input": "2025-05-29T13:13:01.097065Z",
     "iopub.status.busy": "2025-05-29T13:13:01.096600Z",
     "iopub.status.idle": "2025-05-29T13:13:01.296426Z",
     "shell.execute_reply": "2025-05-29T13:13:01.295694Z"
    },
    "papermill": {
     "duration": 0.224957,
     "end_time": "2025-05-29T13:13:01.297795",
     "exception": false,
     "start_time": "2025-05-29T13:13:01.072838",
     "status": "completed"
    },
    "tags": []
   },
   "outputs": [
    {
     "data": {
      "image/png": "[encoded data removed]",
      "text/plain": [
       "<Figure size 1000x600 with 1 Axes>"
      ]
     },
     "metadata": {},
     "output_type": "display_data"
    }
   ],
   "source": [
    "hits_deep = np.array(hits_deep, dtype=int)\n",
    "hits_trad = np.array(hits_trad, dtype=int)\n",
    "\n",
    "min_len = min(len(hits_trad), len(hits_deep))\n",
    "\n",
    "hits_trad = hits_trad[:min_len]\n",
    "hits_deep = hits_deep[:min_len]\n",
    "x = np.arange(1, min_len + 1)\n",
    "\n",
    "x = np.arange(1, len(hits_trad) + 1)\n",
    "cumulative_deep = np.cumsum(hits_deep)\n",
    "cumulative_trad = np.cumsum(hits_trad)\n",
    "\n",
    "step = 10\n",
    "x = np.arange(1, min_len + 1)[::step]\n",
    "cumulative_trad = cumulative_trad[::step]\n",
    "cumulative_deep = cumulative_deep[::step]\n",
    "\n",
    "y_max = max(cumulative_deep.max(), cumulative_trad.max())\n",
    "yticks = np.arange(0, y_max + 1, 80000) \n",
    "\n",
    "plt.figure(figsize=(10, 6))\n",
    "plt.plot(x, cumulative_trad, label='LRU', color='red', linewidth=2)\n",
    "plt.plot(x, cumulative_deep, label='DeepCache (LSTM + LRU)', color='green', linewidth=2)\n",
    "plt.xlabel('Request Sequence', fontsize=12)\n",
    "plt.ylabel('Cumulative Hits', fontsize=12)\n",
    "plt.title('Cumulative Cache Hits Over Time', fontsize=14)\n",
    "plt.yticks(yticks, fontsize=10)  \n",
    "plt.xticks(fontsize=10)\n",
    "plt.grid(True)\n",
    "plt.legend(fontsize=12)\n",
    "plt.tight_layout()\n",
    "plt.show()"
   ]
  }
 ],
 "metadata": {
  "colab": {
   "authorship_tag": "ABX9TyODoV2IsWNRzy5e/485WHon",
   "provenance": []
  },
  "kaggle": {
   "accelerator": "gpu",
   "dataSources": [
    {
     "datasetId": 7515257,
     "sourceId": 11979467,
     "sourceType": "datasetVersion"
    }
   ],
   "dockerImageVersionId": 31041,
   "isGpuEnabled": true,
   "isInternetEnabled": true,
   "language": "python",
   "sourceType": "notebook"
  },
  "kernelspec": {
   "display_name": "Python 3",
   "language": "python",
   "name": "python3"
  },
  "language_info": {
   "codemirror_mode": {
    "name": "ipython",
    "version": 3
   },
   "file_extension": ".py",
   "mimetype": "text/x-python",
   "name": "python",
   "nbconvert_exporter": "python",
   "pygments_lexer": "ipython3",
   "version": "3.11.11"
  },
  "papermill": {
   "default_parameters": {},
   "duration": 113.414322,
   "end_time": "2025-05-29T13:13:05.006015",
   "environment_variables": {},
   "exception": null,
   "input_path": "__notebook__.ipynb",
   "output_path": "__notebook__.ipynb",
   "parameters": {},
   "start_time": "2025-05-29T13:11:11.591693",
   "version": "2.6.0"
  }
 },
 "nbformat": 4,
 "nbformat_minor": 5
}

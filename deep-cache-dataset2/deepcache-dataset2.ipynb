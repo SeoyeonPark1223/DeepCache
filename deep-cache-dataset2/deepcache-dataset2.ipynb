{
 "cells": [
  {
   "cell_type": "markdown",
   "id": "5133fed0",
   "metadata": {
    "papermill": {
     "duration": 0.004477,
     "end_time": "2025-06-04T05:16:16.206834",
     "exception": false,
     "start_time": "2025-06-04T05:16:16.202357",
     "status": "completed"
    },
    "tags": []
   },
   "source": [
    "# Deep Cache with MediSynDataset"
   ]
  },
  {
   "cell_type": "markdown",
   "id": "91cd202f",
   "metadata": {
    "papermill": {
     "duration": 0.003329,
     "end_time": "2025-06-04T05:16:16.213804",
     "exception": false,
     "start_time": "2025-06-04T05:16:16.210475",
     "status": "completed"
    },
    "tags": []
   },
   "source": [
    "### Reference Paper\n",
    "> - Deep Cache: A Deep Learning Based Framework For Content Caching "
   ]
  },
  {
   "cell_type": "code",
   "execution_count": 1,
   "id": "b012e778",
   "metadata": {
    "_cell_guid": "b1076dfc-b9ad-4769-8c92-a6c4dae69d19",
    "_uuid": "8f2839f25d086af736a60e9eeb907d3b93b6e0e5",
    "execution": {
     "iopub.execute_input": "2025-06-04T05:16:16.222197Z",
     "iopub.status.busy": "2025-06-04T05:16:16.221466Z",
     "iopub.status.idle": "2025-06-04T05:16:17.650538Z",
     "shell.execute_reply": "2025-06-04T05:16:17.649832Z"
    },
    "papermill": {
     "duration": 1.434749,
     "end_time": "2025-06-04T05:16:17.651994",
     "exception": false,
     "start_time": "2025-06-04T05:16:16.217245",
     "status": "completed"
    },
    "tags": []
   },
   "outputs": [
    {
     "name": "stdout",
     "output_type": "stream",
     "text": [
      "/kaggle/input/deep-cache-dataset2/mediSynDataset_x2_O3488.csv\n",
      "/kaggle/input/deep-cache-dataset2/mediSynDataset_x2_O1042.csv\n",
      "/kaggle/input/deep-cache-dataset2/y_pred-2.npy\n"
     ]
    }
   ],
   "source": [
    "# This Python 3 environment comes with many helpful analytics libraries installed\n",
    "# It is defined by the kaggle/python Docker image: https://github.com/kaggle/docker-python\n",
    "# For example, here's several helpful packages to load\n",
    "\n",
    "import numpy as np # linear algebra\n",
    "import pandas as pd # data processing, CSV file I/O (e.g. pd.read_csv)\n",
    "\n",
    "# Input data files are available in the read-only \"../input/\" directory\n",
    "# For example, running this (by clicking run or pressing Shift+Enter) will list all files under the input directory\n",
    "\n",
    "import os\n",
    "for dirname, _, filenames in os.walk('/kaggle/input'):\n",
    "    for filename in filenames:\n",
    "        print(os.path.join(dirname, filename))\n",
    "\n",
    "# You can write up to 20GB to the current directory (/kaggle/working/) that gets preserved as output when you create a version using \"Save & Run All\" \n",
    "# You can also write temporary files to /kaggle/temp/, but they won't be saved outside of the current session"
   ]
  },
  {
   "cell_type": "code",
   "execution_count": 2,
   "id": "c23836d2",
   "metadata": {
    "execution": {
     "iopub.execute_input": "2025-06-04T05:16:17.660955Z",
     "iopub.status.busy": "2025-06-04T05:16:17.660641Z",
     "iopub.status.idle": "2025-06-04T05:16:32.307368Z",
     "shell.execute_reply": "2025-06-04T05:16:32.306562Z"
    },
    "papermill": {
     "duration": 14.652364,
     "end_time": "2025-06-04T05:16:32.308530",
     "exception": false,
     "start_time": "2025-06-04T05:16:17.656166",
     "status": "completed"
    },
    "tags": []
   },
   "outputs": [
    {
     "name": "stderr",
     "output_type": "stream",
     "text": [
      "2025-06-04 05:16:19.144023: E external/local_xla/xla/stream_executor/cuda/cuda_fft.cc:477] Unable to register cuFFT factory: Attempting to register factory for plugin cuFFT when one has already been registered\n",
      "WARNING: All log messages before absl::InitializeLog() is called are written to STDERR\n",
      "E0000 00:00:1749014179.322280      19 cuda_dnn.cc:8310] Unable to register cuDNN factory: Attempting to register factory for plugin cuDNN when one has already been registered\n",
      "E0000 00:00:1749014179.373365      19 cuda_blas.cc:1418] Unable to register cuBLAS factory: Attempting to register factory for plugin cuBLAS when one has already been registered\n"
     ]
    },
    {
     "name": "stdout",
     "output_type": "stream",
     "text": [
      "/GPU:0\n"
     ]
    }
   ],
   "source": [
    "# Use GPU if available, otherwise fall back to CPU\n",
    "import tensorflow as tf\n",
    "\n",
    "device = \"/GPU:0\" if tf.config.list_physical_devices('GPU') else \"/CPU:0\"\n",
    "print(device)"
   ]
  },
  {
   "cell_type": "code",
   "execution_count": 3,
   "id": "3da85d0c",
   "metadata": {
    "execution": {
     "iopub.execute_input": "2025-06-04T05:16:32.317820Z",
     "iopub.status.busy": "2025-06-04T05:16:32.316957Z",
     "iopub.status.idle": "2025-06-04T05:16:54.492992Z",
     "shell.execute_reply": "2025-06-04T05:16:54.492256Z"
    },
    "papermill": {
     "duration": 22.181648,
     "end_time": "2025-06-04T05:16:54.494180",
     "exception": false,
     "start_time": "2025-06-04T05:16:32.312532",
     "status": "completed"
    },
    "tags": []
   },
   "outputs": [
    {
     "data": {
      "text/html": [
       "<div>\n",
       "<style scoped>\n",
       "    .dataframe tbody tr th:only-of-type {\n",
       "        vertical-align: middle;\n",
       "    }\n",
       "\n",
       "    .dataframe tbody tr th {\n",
       "        vertical-align: top;\n",
       "    }\n",
       "\n",
       "    .dataframe thead th {\n",
       "        text-align: right;\n",
       "    }\n",
       "</style>\n",
       "<table border=\"1\" class=\"dataframe\">\n",
       "  <thead>\n",
       "    <tr style=\"text-align: right;\">\n",
       "      <th></th>\n",
       "      <th>object_ID</th>\n",
       "      <th>request_time</th>\n",
       "    </tr>\n",
       "  </thead>\n",
       "  <tbody>\n",
       "    <tr>\n",
       "      <th>0</th>\n",
       "      <td>2033</td>\n",
       "      <td>8.641616e+04</td>\n",
       "    </tr>\n",
       "    <tr>\n",
       "      <th>1</th>\n",
       "      <td>1280</td>\n",
       "      <td>8.641938e+04</td>\n",
       "    </tr>\n",
       "    <tr>\n",
       "      <th>2</th>\n",
       "      <td>3482</td>\n",
       "      <td>8.642676e+04</td>\n",
       "    </tr>\n",
       "    <tr>\n",
       "      <th>3</th>\n",
       "      <td>2764</td>\n",
       "      <td>8.642905e+04</td>\n",
       "    </tr>\n",
       "    <tr>\n",
       "      <th>4</th>\n",
       "      <td>2698</td>\n",
       "      <td>8.643068e+04</td>\n",
       "    </tr>\n",
       "    <tr>\n",
       "      <th>...</th>\n",
       "      <td>...</td>\n",
       "      <td>...</td>\n",
       "    </tr>\n",
       "    <tr>\n",
       "      <th>39088106</th>\n",
       "      <td>2574</td>\n",
       "      <td>3.673981e+06</td>\n",
       "    </tr>\n",
       "    <tr>\n",
       "      <th>39088107</th>\n",
       "      <td>2312</td>\n",
       "      <td>3.673981e+06</td>\n",
       "    </tr>\n",
       "    <tr>\n",
       "      <th>39088108</th>\n",
       "      <td>2785</td>\n",
       "      <td>3.673981e+06</td>\n",
       "    </tr>\n",
       "    <tr>\n",
       "      <th>39088109</th>\n",
       "      <td>2663</td>\n",
       "      <td>3.673981e+06</td>\n",
       "    </tr>\n",
       "    <tr>\n",
       "      <th>39088110</th>\n",
       "      <td>2109</td>\n",
       "      <td>3.673000e+03</td>\n",
       "    </tr>\n",
       "  </tbody>\n",
       "</table>\n",
       "<p>39088111 rows × 2 columns</p>\n",
       "</div>"
      ],
      "text/plain": [
       "          object_ID  request_time\n",
       "0              2033  8.641616e+04\n",
       "1              1280  8.641938e+04\n",
       "2              3482  8.642676e+04\n",
       "3              2764  8.642905e+04\n",
       "4              2698  8.643068e+04\n",
       "...             ...           ...\n",
       "39088106       2574  3.673981e+06\n",
       "39088107       2312  3.673981e+06\n",
       "39088108       2785  3.673981e+06\n",
       "39088109       2663  3.673981e+06\n",
       "39088110       2109  3.673000e+03\n",
       "\n",
       "[39088111 rows x 2 columns]"
      ]
     },
     "execution_count": 3,
     "metadata": {},
     "output_type": "execute_result"
    }
   ],
   "source": [
    "# Load data\n",
    "df = pd.read_csv('/kaggle/input/deep-cache-dataset2/mediSynDataset_x2_O3488.csv') \n",
    "df"
   ]
  },
  {
   "cell_type": "markdown",
   "id": "dd073202",
   "metadata": {
    "papermill": {
     "duration": 0.003726,
     "end_time": "2025-06-04T05:16:54.502228",
     "exception": false,
     "start_time": "2025-06-04T05:16:54.498502",
     "status": "completed"
    },
    "tags": []
   },
   "source": [
    "## Split data\n",
    "- To align with the paper's goal which is predicting the future characteristics of an object based on past logs, we split the dataset into 60% for training and 40% for evaluation."
   ]
  },
  {
   "cell_type": "code",
   "execution_count": 4,
   "id": "1493df9b",
   "metadata": {
    "execution": {
     "iopub.execute_input": "2025-06-04T05:16:54.510893Z",
     "iopub.status.busy": "2025-06-04T05:16:54.510380Z",
     "iopub.status.idle": "2025-06-04T05:16:54.728761Z",
     "shell.execute_reply": "2025-06-04T05:16:54.728157Z"
    },
    "papermill": {
     "duration": 0.22412,
     "end_time": "2025-06-04T05:16:54.730115",
     "exception": false,
     "start_time": "2025-06-04T05:16:54.505995",
     "status": "completed"
    },
    "tags": []
   },
   "outputs": [],
   "source": [
    "# Split into train/test before pivot\n",
    "cut_idx = int(len(df) * 0.6)\n",
    "train_df = df.iloc[:cut_idx].reset_index(drop=True)\n",
    "test_df = df.iloc[cut_idx:].reset_index(drop=True)"
   ]
  },
  {
   "cell_type": "markdown",
   "id": "9712b9f6",
   "metadata": {
    "papermill": {
     "duration": 0.003661,
     "end_time": "2025-06-04T05:16:54.737888",
     "exception": false,
     "start_time": "2025-06-04T05:16:54.734227",
     "status": "completed"
    },
    "tags": []
   },
   "source": [
    "## Feature Engineering\n",
    "> \"The probability of $o^i$ is the normalized frequency of that object in an hour.\""
   ]
  },
  {
   "cell_type": "code",
   "execution_count": 5,
   "id": "0e19f12d",
   "metadata": {
    "execution": {
     "iopub.execute_input": "2025-06-04T05:16:54.746579Z",
     "iopub.status.busy": "2025-06-04T05:16:54.745967Z",
     "iopub.status.idle": "2025-06-04T05:16:57.948594Z",
     "shell.execute_reply": "2025-06-04T05:16:57.947933Z"
    },
    "papermill": {
     "duration": 3.208532,
     "end_time": "2025-06-04T05:16:57.950160",
     "exception": false,
     "start_time": "2025-06-04T05:16:54.741628",
     "status": "completed"
    },
    "tags": []
   },
   "outputs": [],
   "source": [
    "# Create 'hour' column\n",
    "train_df['hour'] = train_df['request_time'] // 3600\n",
    "test_df['hour'] = test_df['request_time'] // 3600\n",
    "\n",
    "# Unique object list (shared across both sets)\n",
    "object_ids = df['object_ID'].unique()\n",
    "object_ids.sort()\n",
    "\n",
    "# Pivot (hour, object) → count table\n",
    "train_pivot = train_df.groupby(['hour', 'object_ID']).size().unstack(fill_value=0)\n",
    "train_pivot = train_pivot.reindex(columns=object_ids, fill_value=0)\n",
    "\n",
    "test_pivot = test_df.groupby(['hour', 'object_ID']).size().unstack(fill_value=0)\n",
    "test_pivot = test_pivot.reindex(columns=object_ids, fill_value=0)\n",
    "\n",
    "# Normalize\n",
    "train_probs = train_pivot.div(train_pivot.sum(axis=1), axis=0).fillna(0)\n",
    "test_probs = test_pivot.div(test_pivot.sum(axis=1), axis=0).fillna(0)"
   ]
  },
  {
   "cell_type": "code",
   "execution_count": 6,
   "id": "d2550171",
   "metadata": {
    "execution": {
     "iopub.execute_input": "2025-06-04T05:16:57.959639Z",
     "iopub.status.busy": "2025-06-04T05:16:57.959380Z",
     "iopub.status.idle": "2025-06-04T05:17:08.166650Z",
     "shell.execute_reply": "2025-06-04T05:17:08.165657Z"
    },
    "papermill": {
     "duration": 10.21391,
     "end_time": "2025-06-04T05:17:08.168350",
     "exception": false,
     "start_time": "2025-06-04T05:16:57.954440",
     "status": "completed"
    },
    "tags": []
   },
   "outputs": [
    {
     "name": "stdout",
     "output_type": "stream",
     "text": [
      "Train X shape: (717236, 20, 1)\n",
      "Train y shape: (717236, 26, 1)\n",
      "Test X shape: (245091, 20, 1)\n",
      "Test y shape: (245091, 26, 1)\n"
     ]
    }
   ],
   "source": [
    "m, k = 20, 26 # Sequence length for input(m) and output(k)\n",
    "\n",
    "# Helper function to create sliding window sequences\n",
    "def create_sequences(prob_df, m, k):\n",
    "    X, y = [], []\n",
    "    for i in range(len(prob_df) - m - k):\n",
    "        x_seq = prob_df.iloc[i:i+m].values  # (m, d)\n",
    "        y_seq = prob_df.iloc[i+m:i+m+k].values  # (k, d)\n",
    "        X.append(x_seq)\n",
    "        y.append(y_seq)\n",
    "    X = np.array(X)\n",
    "    y = np.array(y)\n",
    "    \n",
    "    # Reshape: (samples * d, m, 1), (samples * d, k, 1)\n",
    "    X = X.transpose(0, 2, 1).reshape(-1, m, 1)\n",
    "    y = y.transpose(0, 2, 1).reshape(-1, k, 1)\n",
    "    return X, y\n",
    "\n",
    "# Create train and test sets\n",
    "X_train, y_train = create_sequences(train_probs, m, k)\n",
    "X_test, y_test = create_sequences(test_probs, m, k)\n",
    "\n",
    "print(\"Train X shape:\", X_train.shape)\n",
    "print(\"Train y shape:\", y_train.shape)\n",
    "print(\"Test X shape:\", X_test.shape)\n",
    "print(\"Test y shape:\", y_test.shape)"
   ]
  },
  {
   "cell_type": "markdown",
   "id": "f98b0f10",
   "metadata": {
    "papermill": {
     "duration": 0.007406,
     "end_time": "2025-06-04T05:17:08.183147",
     "exception": false,
     "start_time": "2025-06-04T05:17:08.175741",
     "status": "completed"
    },
    "tags": []
   },
   "source": [
    "## Build LSTM Model \n",
    "> \"For our datasets, we use a two-layer depth LSTM Encoder-Decoder model with 128 and 64 as the number of hidden units. ... The loss function is chosen as mean-squared-error (MSE). We ran our experiments for a number of epochs equal to 30, with the batch size set to 10% of the training data.\"\n",
    "- Batch size was reduced to 64 due to limited memory capacity."
   ]
  },
  {
   "cell_type": "code",
   "execution_count": 7,
   "id": "50f24a74",
   "metadata": {
    "execution": {
     "iopub.execute_input": "2025-06-04T05:17:08.197377Z",
     "iopub.status.busy": "2025-06-04T05:17:08.197145Z",
     "iopub.status.idle": "2025-06-04T05:17:08.264066Z",
     "shell.execute_reply": "2025-06-04T05:17:08.263470Z"
    },
    "papermill": {
     "duration": 0.075274,
     "end_time": "2025-06-04T05:17:08.265317",
     "exception": false,
     "start_time": "2025-06-04T05:17:08.190043",
     "status": "completed"
    },
    "tags": []
   },
   "outputs": [],
   "source": [
    "from tensorflow.keras.layers import (\n",
    "    Input, LSTM, Dense, TimeDistributed, RepeatVector,\n",
    "    Dropout, Bidirectional, Attention, Concatenate\n",
    ")\n",
    "from tensorflow.keras.models import Model\n",
    "import tensorflow.keras.backend as K"
   ]
  },
  {
   "cell_type": "code",
   "execution_count": 8,
   "id": "856b1fb6",
   "metadata": {
    "execution": {
     "iopub.execute_input": "2025-06-04T05:17:08.274256Z",
     "iopub.status.busy": "2025-06-04T05:17:08.274027Z",
     "iopub.status.idle": "2025-06-04T05:17:08.279137Z",
     "shell.execute_reply": "2025-06-04T05:17:08.278633Z"
    },
    "papermill": {
     "duration": 0.010651,
     "end_time": "2025-06-04T05:17:08.280139",
     "exception": false,
     "start_time": "2025-06-04T05:17:08.269488",
     "status": "completed"
    },
    "tags": []
   },
   "outputs": [],
   "source": [
    "def build_seq2seq_model(m, k):\n",
    "    # ----- Encoder -----\n",
    "    encoder_inputs = Input(shape=(m, 1))  # Input shape: (sequence_length, 1)\n",
    "\n",
    "    # Two-layer encoder with 128 and 64 hidden units\n",
    "    encoder_lstm_1 = LSTM(128, return_sequences=True)\n",
    "    encoder_lstm_2 = LSTM(64, return_state=True)\n",
    "\n",
    "    x = encoder_lstm_1(encoder_inputs)\n",
    "    encoder_outputs, state_h, state_c = encoder_lstm_2(x)\n",
    "    encoder_states = [state_h, state_c]  # Final encoder states passed to decoder\n",
    "\n",
    "    # ----- Decoder -----\n",
    "    decoder_inputs = RepeatVector(k)(encoder_outputs)  # Repeat context vector for k time steps\n",
    "\n",
    "    # Two-layer decoder with 128 and 64 hidden units\n",
    "    decoder_lstm_1 = LSTM(128, return_sequences=True)\n",
    "    decoder_lstm_2 = LSTM(64, return_sequences=True)\n",
    "\n",
    "    x = decoder_lstm_1(decoder_inputs, initial_state=encoder_states)\n",
    "    decoder_outputs = decoder_lstm_2(x)\n",
    "\n",
    "    # Predict one value per time step\n",
    "    decoder_dense = TimeDistributed(Dense(1))\n",
    "    output_seq = decoder_dense(decoder_outputs)\n",
    "\n",
    "    # Compile the model with MSE loss and MAE metric\n",
    "    model = Model(encoder_inputs, output_seq)\n",
    "    model.compile(optimizer='adam', loss='mse', metrics=['mae'])\n",
    "\n",
    "    return model"
   ]
  },
  {
   "cell_type": "code",
   "execution_count": 9,
   "id": "8d7ae826",
   "metadata": {
    "execution": {
     "iopub.execute_input": "2025-06-04T05:17:08.288388Z",
     "iopub.status.busy": "2025-06-04T05:17:08.288183Z",
     "iopub.status.idle": "2025-06-04T06:15:25.494785Z",
     "shell.execute_reply": "2025-06-04T06:15:25.493906Z"
    },
    "papermill": {
     "duration": 3497.212488,
     "end_time": "2025-06-04T06:15:25.496391",
     "exception": false,
     "start_time": "2025-06-04T05:17:08.283903",
     "status": "completed"
    },
    "tags": []
   },
   "outputs": [
    {
     "name": "stderr",
     "output_type": "stream",
     "text": [
      "I0000 00:00:1749014228.392370      19 gpu_device.cc:2022] Created device /job:localhost/replica:0/task:0/device:GPU:0 with 15513 MB memory:  -> device: 0, name: Tesla P100-PCIE-16GB, pci bus id: 0000:00:04.0, compute capability: 6.0\n"
     ]
    },
    {
     "name": "stdout",
     "output_type": "stream",
     "text": [
      "Epoch 1/30\n"
     ]
    },
    {
     "name": "stderr",
     "output_type": "stream",
     "text": [
      "I0000 00:00:1749014236.619015      57 cuda_dnn.cc:529] Loaded cuDNN version 90300\n"
     ]
    },
    {
     "name": "stdout",
     "output_type": "stream",
     "text": [
      "\u001b[1m10087/10087\u001b[0m \u001b[32m━━━━━━━━━━━━━━━━━━━━\u001b[0m\u001b[37m\u001b[0m \u001b[1m121s\u001b[0m 11ms/step - loss: 1.9078e-05 - mae: 0.0014 - val_loss: 9.3681e-07 - val_mae: 8.5958e-04\n",
      "Epoch 2/30\n",
      "\u001b[1m10087/10087\u001b[0m \u001b[32m━━━━━━━━━━━━━━━━━━━━\u001b[0m\u001b[37m\u001b[0m \u001b[1m112s\u001b[0m 11ms/step - loss: 6.8781e-06 - mae: 7.6295e-04 - val_loss: 2.8956e-07 - val_mae: 3.2448e-04\n",
      "Epoch 3/30\n",
      "\u001b[1m10087/10087\u001b[0m \u001b[32m━━━━━━━━━━━━━━━━━━━━\u001b[0m\u001b[37m\u001b[0m \u001b[1m114s\u001b[0m 11ms/step - loss: 6.0699e-06 - mae: 6.6786e-04 - val_loss: 3.0885e-07 - val_mae: 2.9428e-04\n",
      "Epoch 4/30\n",
      "\u001b[1m10087/10087\u001b[0m \u001b[32m━━━━━━━━━━━━━━━━━━━━\u001b[0m\u001b[37m\u001b[0m \u001b[1m113s\u001b[0m 11ms/step - loss: 5.3038e-06 - mae: 6.1146e-04 - val_loss: 3.0956e-07 - val_mae: 3.6102e-04\n",
      "Epoch 5/30\n",
      "\u001b[1m10087/10087\u001b[0m \u001b[32m━━━━━━━━━━━━━━━━━━━━\u001b[0m\u001b[37m\u001b[0m \u001b[1m113s\u001b[0m 11ms/step - loss: 5.4101e-06 - mae: 5.6738e-04 - val_loss: 3.4402e-07 - val_mae: 4.2384e-04\n",
      "Epoch 6/30\n",
      "\u001b[1m10087/10087\u001b[0m \u001b[32m━━━━━━━━━━━━━━━━━━━━\u001b[0m\u001b[37m\u001b[0m \u001b[1m114s\u001b[0m 11ms/step - loss: 5.0625e-06 - mae: 5.3684e-04 - val_loss: 4.2059e-07 - val_mae: 3.9345e-04\n",
      "Epoch 7/30\n",
      "\u001b[1m10087/10087\u001b[0m \u001b[32m━━━━━━━━━━━━━━━━━━━━\u001b[0m\u001b[37m\u001b[0m \u001b[1m115s\u001b[0m 11ms/step - loss: 5.4369e-06 - mae: 5.4990e-04 - val_loss: 3.1503e-07 - val_mae: 3.5728e-04\n",
      "Epoch 8/30\n",
      "\u001b[1m10087/10087\u001b[0m \u001b[32m━━━━━━━━━━━━━━━━━━━━\u001b[0m\u001b[37m\u001b[0m \u001b[1m116s\u001b[0m 12ms/step - loss: 5.5267e-06 - mae: 5.3741e-04 - val_loss: 4.4558e-07 - val_mae: 4.3891e-04\n",
      "Epoch 9/30\n",
      "\u001b[1m10087/10087\u001b[0m \u001b[32m━━━━━━━━━━━━━━━━━━━━\u001b[0m\u001b[37m\u001b[0m \u001b[1m116s\u001b[0m 12ms/step - loss: 5.4771e-06 - mae: 5.3744e-04 - val_loss: 5.0866e-07 - val_mae: 5.8977e-04\n",
      "Epoch 10/30\n",
      "\u001b[1m10087/10087\u001b[0m \u001b[32m━━━━━━━━━━━━━━━━━━━━\u001b[0m\u001b[37m\u001b[0m \u001b[1m117s\u001b[0m 12ms/step - loss: 4.7577e-06 - mae: 5.0647e-04 - val_loss: 1.3730e-06 - val_mae: 0.0011\n",
      "Epoch 11/30\n",
      "\u001b[1m10087/10087\u001b[0m \u001b[32m━━━━━━━━━━━━━━━━━━━━\u001b[0m\u001b[37m\u001b[0m \u001b[1m117s\u001b[0m 12ms/step - loss: 4.8325e-06 - mae: 5.0391e-04 - val_loss: 3.1073e-07 - val_mae: 2.7383e-04\n",
      "Epoch 12/30\n",
      "\u001b[1m10087/10087\u001b[0m \u001b[32m━━━━━━━━━━━━━━━━━━━━\u001b[0m\u001b[37m\u001b[0m \u001b[1m117s\u001b[0m 12ms/step - loss: 5.1629e-06 - mae: 5.0742e-04 - val_loss: 2.4961e-07 - val_mae: 2.4693e-04\n",
      "Epoch 13/30\n",
      "\u001b[1m10087/10087\u001b[0m \u001b[32m━━━━━━━━━━━━━━━━━━━━\u001b[0m\u001b[37m\u001b[0m \u001b[1m117s\u001b[0m 12ms/step - loss: 5.3289e-06 - mae: 5.0283e-04 - val_loss: 2.6033e-07 - val_mae: 2.4495e-04\n",
      "Epoch 14/30\n",
      "\u001b[1m10087/10087\u001b[0m \u001b[32m━━━━━━━━━━━━━━━━━━━━\u001b[0m\u001b[37m\u001b[0m \u001b[1m117s\u001b[0m 12ms/step - loss: 4.6517e-06 - mae: 4.8977e-04 - val_loss: 3.4195e-07 - val_mae: 4.1865e-04\n",
      "Epoch 15/30\n",
      "\u001b[1m10087/10087\u001b[0m \u001b[32m━━━━━━━━━━━━━━━━━━━━\u001b[0m\u001b[37m\u001b[0m \u001b[1m117s\u001b[0m 12ms/step - loss: 4.6019e-06 - mae: 4.8465e-04 - val_loss: 2.7217e-07 - val_mae: 2.4714e-04\n",
      "Epoch 16/30\n",
      "\u001b[1m10087/10087\u001b[0m \u001b[32m━━━━━━━━━━━━━━━━━━━━\u001b[0m\u001b[37m\u001b[0m \u001b[1m117s\u001b[0m 12ms/step - loss: 5.0967e-06 - mae: 5.0288e-04 - val_loss: 2.5667e-07 - val_mae: 2.3270e-04\n",
      "Epoch 17/30\n",
      "\u001b[1m10087/10087\u001b[0m \u001b[32m━━━━━━━━━━━━━━━━━━━━\u001b[0m\u001b[37m\u001b[0m \u001b[1m117s\u001b[0m 12ms/step - loss: 4.4202e-06 - mae: 4.7281e-04 - val_loss: 1.4192e-06 - val_mae: 0.0011\n",
      "Epoch 18/30\n",
      "\u001b[1m10087/10087\u001b[0m \u001b[32m━━━━━━━━━━━━━━━━━━━━\u001b[0m\u001b[37m\u001b[0m \u001b[1m117s\u001b[0m 12ms/step - loss: 5.0994e-06 - mae: 4.9649e-04 - val_loss: 2.8652e-07 - val_mae: 2.5590e-04\n",
      "Epoch 19/30\n",
      "\u001b[1m10087/10087\u001b[0m \u001b[32m━━━━━━━━━━━━━━━━━━━━\u001b[0m\u001b[37m\u001b[0m \u001b[1m117s\u001b[0m 12ms/step - loss: 4.7515e-06 - mae: 4.7041e-04 - val_loss: 2.4760e-07 - val_mae: 2.6210e-04\n",
      "Epoch 20/30\n",
      "\u001b[1m10087/10087\u001b[0m \u001b[32m━━━━━━━━━━━━━━━━━━━━\u001b[0m\u001b[37m\u001b[0m \u001b[1m117s\u001b[0m 12ms/step - loss: 4.7365e-06 - mae: 4.7987e-04 - val_loss: 2.5262e-07 - val_mae: 2.7971e-04\n",
      "Epoch 21/30\n",
      "\u001b[1m10087/10087\u001b[0m \u001b[32m━━━━━━━━━━━━━━━━━━━━\u001b[0m\u001b[37m\u001b[0m \u001b[1m117s\u001b[0m 12ms/step - loss: 4.9942e-06 - mae: 4.8197e-04 - val_loss: 2.8778e-07 - val_mae: 2.6031e-04\n",
      "Epoch 22/30\n",
      "\u001b[1m10087/10087\u001b[0m \u001b[32m━━━━━━━━━━━━━━━━━━━━\u001b[0m\u001b[37m\u001b[0m \u001b[1m117s\u001b[0m 12ms/step - loss: 4.7652e-06 - mae: 4.7385e-04 - val_loss: 3.5812e-07 - val_mae: 3.8241e-04\n",
      "Epoch 23/30\n",
      "\u001b[1m10087/10087\u001b[0m \u001b[32m━━━━━━━━━━━━━━━━━━━━\u001b[0m\u001b[37m\u001b[0m \u001b[1m117s\u001b[0m 12ms/step - loss: 4.8800e-06 - mae: 4.6579e-04 - val_loss: 2.6491e-07 - val_mae: 3.2493e-04\n",
      "Epoch 24/30\n",
      "\u001b[1m10087/10087\u001b[0m \u001b[32m━━━━━━━━━━━━━━━━━━━━\u001b[0m\u001b[37m\u001b[0m \u001b[1m118s\u001b[0m 12ms/step - loss: 4.8111e-06 - mae: 4.6529e-04 - val_loss: 2.4459e-07 - val_mae: 2.4557e-04\n",
      "Epoch 25/30\n",
      "\u001b[1m10087/10087\u001b[0m \u001b[32m━━━━━━━━━━━━━━━━━━━━\u001b[0m\u001b[37m\u001b[0m \u001b[1m117s\u001b[0m 12ms/step - loss: 4.7950e-06 - mae: 4.6102e-04 - val_loss: 2.9942e-07 - val_mae: 3.8601e-04\n",
      "Epoch 26/30\n",
      "\u001b[1m10087/10087\u001b[0m \u001b[32m━━━━━━━━━━━━━━━━━━━━\u001b[0m\u001b[37m\u001b[0m \u001b[1m118s\u001b[0m 12ms/step - loss: 4.7891e-06 - mae: 4.5647e-04 - val_loss: 2.4354e-07 - val_mae: 2.4496e-04\n",
      "Epoch 27/30\n",
      "\u001b[1m10087/10087\u001b[0m \u001b[32m━━━━━━━━━━━━━━━━━━━━\u001b[0m\u001b[37m\u001b[0m \u001b[1m118s\u001b[0m 12ms/step - loss: 4.6296e-06 - mae: 4.5561e-04 - val_loss: 3.2460e-07 - val_mae: 3.5224e-04\n",
      "Epoch 28/30\n",
      "\u001b[1m10087/10087\u001b[0m \u001b[32m━━━━━━━━━━━━━━━━━━━━\u001b[0m\u001b[37m\u001b[0m \u001b[1m118s\u001b[0m 12ms/step - loss: 5.1317e-06 - mae: 4.6431e-04 - val_loss: 2.7863e-07 - val_mae: 2.6794e-04\n",
      "Epoch 29/30\n",
      "\u001b[1m10087/10087\u001b[0m \u001b[32m━━━━━━━━━━━━━━━━━━━━\u001b[0m\u001b[37m\u001b[0m \u001b[1m118s\u001b[0m 12ms/step - loss: 4.7447e-06 - mae: 4.5996e-04 - val_loss: 3.3838e-07 - val_mae: 4.3785e-04\n",
      "Epoch 30/30\n",
      "\u001b[1m10087/10087\u001b[0m \u001b[32m━━━━━━━━━━━━━━━━━━━━\u001b[0m\u001b[37m\u001b[0m \u001b[1m118s\u001b[0m 12ms/step - loss: 4.6064e-06 - mae: 4.5643e-04 - val_loss: 3.3970e-07 - val_mae: 3.3155e-04\n"
     ]
    }
   ],
   "source": [
    "model = build_seq2seq_model(m, k)\n",
    "history = model.fit(X_train, y_train, epochs=30, batch_size=64, validation_split=0.1)"
   ]
  },
  {
   "cell_type": "code",
   "execution_count": 10,
   "id": "77eebaee",
   "metadata": {
    "execution": {
     "iopub.execute_input": "2025-06-04T06:15:31.122486Z",
     "iopub.status.busy": "2025-06-04T06:15:31.122215Z",
     "iopub.status.idle": "2025-06-04T06:15:31.586416Z",
     "shell.execute_reply": "2025-06-04T06:15:31.585655Z"
    },
    "papermill": {
     "duration": 3.283505,
     "end_time": "2025-06-04T06:15:31.587550",
     "exception": false,
     "start_time": "2025-06-04T06:15:28.304045",
     "status": "completed"
    },
    "tags": []
   },
   "outputs": [
    {
     "data": {
      "image/png": "[encoded data removed]",
      "text/plain": [
       "<Figure size 1200x500 with 2 Axes>"
      ]
     },
     "metadata": {},
     "output_type": "display_data"
    }
   ],
   "source": [
    "import matplotlib.pyplot as plt\n",
    "\n",
    "# Plot training & validation loss/MAE\n",
    "plt.figure(figsize=(12, 5))\n",
    "\n",
    "# Loss plot\n",
    "plt.subplot(1, 2, 1)\n",
    "plt.plot(history.history['loss'], label='Train Loss', linewidth=2)\n",
    "plt.plot(history.history['val_loss'], label='Val Loss', linewidth=2)\n",
    "plt.xlabel('Epoch')\n",
    "plt.ylabel('MSE Loss')\n",
    "plt.title('Loss over Epochs')\n",
    "plt.grid(True)\n",
    "plt.legend()\n",
    "\n",
    "# MAE plot\n",
    "plt.subplot(1, 2, 2)\n",
    "plt.plot(history.history['mae'], label='Train MAE', linewidth=2)\n",
    "plt.plot(history.history['val_mae'], label='Val MAE', linewidth=2)\n",
    "plt.xlabel('Epoch')\n",
    "plt.ylabel('Mean Absolute Error')\n",
    "plt.title('MAE over Epochs')\n",
    "plt.grid(True)\n",
    "plt.legend()\n",
    "\n",
    "plt.tight_layout()\n",
    "plt.show()"
   ]
  },
  {
   "cell_type": "code",
   "execution_count": 11,
   "id": "be801930",
   "metadata": {
    "execution": {
     "iopub.execute_input": "2025-06-04T06:15:37.193275Z",
     "iopub.status.busy": "2025-06-04T06:15:37.192604Z",
     "iopub.status.idle": "2025-06-04T06:16:43.427448Z",
     "shell.execute_reply": "2025-06-04T06:16:43.426754Z"
    },
    "papermill": {
     "duration": 71.792711,
     "end_time": "2025-06-04T06:16:46.169840",
     "exception": false,
     "start_time": "2025-06-04T06:15:34.377129",
     "status": "completed"
    },
    "tags": []
   },
   "outputs": [
    {
     "name": "stdout",
     "output_type": "stream",
     "text": [
      "\u001b[1m7660/7660\u001b[0m \u001b[32m━━━━━━━━━━━━━━━━━━━━\u001b[0m\u001b[37m\u001b[0m \u001b[1m28s\u001b[0m 4ms/step\n",
      "\n",
      "Test Evaluation — Loss (MSE): 0.0000006452, MAE: 0.0003513322\n",
      "Prediction Shape: (245091, 26, 1)\n"
     ]
    }
   ],
   "source": [
    "# Predic and Validate\n",
    "y_pred = model.predict(X_test)\n",
    "loss, mae = model.evaluate(X_test, y_test, verbose=0)\n",
    "print(f\"\\nTest Evaluation — Loss (MSE): {loss:.10f}, MAE: {mae:.10f}\")\n",
    "\n",
    "print(\"Prediction Shape:\", y_pred.shape)"
   ]
  },
  {
   "cell_type": "code",
   "execution_count": 12,
   "id": "c29881da",
   "metadata": {
    "execution": {
     "iopub.execute_input": "2025-06-04T06:16:51.880155Z",
     "iopub.status.busy": "2025-06-04T06:16:51.879398Z",
     "iopub.status.idle": "2025-06-04T06:16:51.899193Z",
     "shell.execute_reply": "2025-06-04T06:16:51.898662Z"
    },
    "papermill": {
     "duration": 2.872201,
     "end_time": "2025-06-04T06:16:51.900422",
     "exception": false,
     "start_time": "2025-06-04T06:16:49.028221",
     "status": "completed"
    },
    "tags": []
   },
   "outputs": [],
   "source": [
    "np.save(\"y_pred.npy\", y_pred)"
   ]
  },
  {
   "cell_type": "code",
   "execution_count": 13,
   "id": "f0b9368a",
   "metadata": {
    "execution": {
     "iopub.execute_input": "2025-06-04T06:16:57.516148Z",
     "iopub.status.busy": "2025-06-04T06:16:57.515389Z",
     "iopub.status.idle": "2025-06-04T06:16:57.519173Z",
     "shell.execute_reply": "2025-06-04T06:16:57.518563Z"
    },
    "papermill": {
     "duration": 2.876652,
     "end_time": "2025-06-04T06:16:57.520463",
     "exception": false,
     "start_time": "2025-06-04T06:16:54.643811",
     "status": "completed"
    },
    "tags": []
   },
   "outputs": [],
   "source": [
    "# y_pred = np.load(\"/kaggle/input/deep-cache-dataset2/y_pred-2.npy\")"
   ]
  },
  {
   "cell_type": "markdown",
   "id": "e0dae7b6",
   "metadata": {
    "papermill": {
     "duration": 2.827162,
     "end_time": "2025-06-04T06:17:03.107430",
     "exception": false,
     "start_time": "2025-06-04T06:17:00.280268",
     "status": "completed"
    },
    "tags": []
   },
   "source": [
    "## Cache Policy Setting\n",
    "> \"For dataset 2, we rather consider a varying number of top M objects with the highest probability from multiple time intervals. In other words, our fake set of requests Ft not only considers immediate future, but also considers popular objects in the next 12 hours and 24 hours with a diminishing weight for the number of selected objects from each interval.\"\n",
    "- To set different top-M values for different future time intervals, we used top 5 objects from 1 hour ahead, 4 from 12 hours, 3 from 24 hours."
   ]
  },
  {
   "cell_type": "code",
   "execution_count": 14,
   "id": "05a0b559",
   "metadata": {
    "execution": {
     "iopub.execute_input": "2025-06-04T06:17:08.778024Z",
     "iopub.status.busy": "2025-06-04T06:17:08.777747Z",
     "iopub.status.idle": "2025-06-04T06:17:11.082665Z",
     "shell.execute_reply": "2025-06-04T06:17:11.082040Z"
    },
    "papermill": {
     "duration": 5.24706,
     "end_time": "2025-06-04T06:17:11.084171",
     "exception": false,
     "start_time": "2025-06-04T06:17:05.837111",
     "status": "completed"
    },
    "tags": []
   },
   "outputs": [],
   "source": [
    "# Set different top-M values for different future time intervals\n",
    "# Top 5 objects from 1 hour ahead, 4 from 12 hours, 3 from 24 hours\n",
    "M1, M2, M3 = 5, 4, 3  \n",
    "\n",
    "top_objects_each_t = []  \n",
    "for i in range(len(y_pred)):\n",
    "    top_all = []\n",
    "    \n",
    "    # Check three specific future time steps: 0 (1 hour), 11 (12 hours), 23 (24 hours)\n",
    "    for t, M in zip([0, 11, 23], [M1, M2, M3]):\n",
    "        if t >= y_pred.shape[1]:\n",
    "            continue  # Skip if prediction is shorter than the required time step\n",
    "\n",
    "        next_probs = y_pred[i, t].flatten()  # Predicted probabilities for time step t\n",
    "        top_indices = next_probs.argsort()[-M:][::-1]  # Get top-M object indices with highest probability\n",
    "        top_all.extend(top_indices)\n",
    "\n",
    "    top_objects_each_t.append(top_all)  # Store the deduplicated list of top objects"
   ]
  },
  {
   "cell_type": "markdown",
   "id": "b6463fc0",
   "metadata": {
    "papermill": {
     "duration": 2.729863,
     "end_time": "2025-06-04T06:17:16.643465",
     "exception": false,
     "start_time": "2025-06-04T06:17:13.913602",
     "status": "completed"
    },
    "tags": []
   },
   "source": [
    "## Integral Operator\n",
    "> \"The operator is a simple merge operator, where the actual object request is followed by all the fake requests generated by our Caching Policy. This helps us to update the state of the cache by prefetching objects based on future object popularity and evict unpopular ones.\""
   ]
  },
  {
   "cell_type": "code",
   "execution_count": 15,
   "id": "7cc95b04",
   "metadata": {
    "execution": {
     "iopub.execute_input": "2025-06-04T06:17:22.268764Z",
     "iopub.status.busy": "2025-06-04T06:17:22.268453Z",
     "iopub.status.idle": "2025-06-04T06:17:22.362251Z",
     "shell.execute_reply": "2025-06-04T06:17:22.361698Z"
    },
    "papermill": {
     "duration": 2.843159,
     "end_time": "2025-06-04T06:17:22.363587",
     "exception": false,
     "start_time": "2025-06-04T06:17:19.520428",
     "status": "completed"
    },
    "tags": []
   },
   "outputs": [],
   "source": [
    "cut_idx = int(len(df) * 0.6)\n",
    "test_df = df.iloc[cut_idx:].reset_index(drop=True)"
   ]
  },
  {
   "cell_type": "code",
   "execution_count": 16,
   "id": "234d2f5e",
   "metadata": {
    "execution": {
     "iopub.execute_input": "2025-06-04T06:17:28.032223Z",
     "iopub.status.busy": "2025-06-04T06:17:28.031954Z",
     "iopub.status.idle": "2025-06-04T06:17:32.976104Z",
     "shell.execute_reply": "2025-06-04T06:17:32.975489Z"
    },
    "papermill": {
     "duration": 7.779014,
     "end_time": "2025-06-04T06:17:32.977385",
     "exception": false,
     "start_time": "2025-06-04T06:17:25.198371",
     "status": "completed"
    },
    "tags": []
   },
   "outputs": [],
   "source": [
    "# Merge real requests and fake requests\n",
    "merged_requests = []\n",
    "fake_insert_idx = 0\n",
    "insert_interval = 10\n",
    "\n",
    "actual_requests = test_df.sort_values('request_time')['object_ID'].tolist()\n",
    "\n",
    "for t, req in enumerate(actual_requests):\n",
    "    merged_requests.append(req)\n",
    "    if fake_insert_idx < len(top_objects_each_t) and t % insert_interval == 0:\n",
    "        fake_objs = top_objects_each_t[fake_insert_idx]\n",
    "        merged_requests.extend(fake_objs)\n",
    "        fake_insert_idx += 1"
   ]
  },
  {
   "cell_type": "markdown",
   "id": "15c56f4e",
   "metadata": {
    "papermill": {
     "duration": 2.85853,
     "end_time": "2025-06-04T06:17:38.554536",
     "exception": false,
     "start_time": "2025-06-04T06:17:35.696006",
     "status": "completed"
    },
    "tags": []
   },
   "source": [
    "## Deep Cache vs Traditional LRU\n",
    "> \"We compare traditional LRU with Deep Cache, and without Deep Cache.\""
   ]
  },
  {
   "cell_type": "code",
   "execution_count": 17,
   "id": "635dbd9f",
   "metadata": {
    "execution": {
     "iopub.execute_input": "2025-06-04T06:17:44.213238Z",
     "iopub.status.busy": "2025-06-04T06:17:44.212596Z",
     "iopub.status.idle": "2025-06-04T06:17:44.453336Z",
     "shell.execute_reply": "2025-06-04T06:17:44.452553Z"
    },
    "papermill": {
     "duration": 3.070574,
     "end_time": "2025-06-04T06:17:44.454637",
     "exception": false,
     "start_time": "2025-06-04T06:17:41.384063",
     "status": "completed"
    },
    "tags": []
   },
   "outputs": [],
   "source": [
    "# LRU Cache simulator\n",
    "from collections import OrderedDict\n",
    "\n",
    "class LRUCache:\n",
    "  def __init__(self, capacity):\n",
    "    self.capacity = capacity\n",
    "    self.cache = OrderedDict()\n",
    "    self.hit = 0\n",
    "    self.miss = 0\n",
    "\n",
    "  def request(self, obj_id):\n",
    "    if obj_id in self.cache:\n",
    "        self.cache.move_to_end(obj_id)\n",
    "        self.hit += 1\n",
    "        return 1\n",
    "    else:\n",
    "        self.miss += 1\n",
    "        if len(self.cache) >= self.capacity:\n",
    "            self.cache.popitem(last=False) \n",
    "        self.cache[obj_id] = True\n",
    "        return 0\n",
    "\n",
    "  def get_hit_ratio(self):\n",
    "    total = self.hit + self.miss\n",
    "    return self.hit / total if total > 0 else 0"
   ]
  },
  {
   "cell_type": "code",
   "execution_count": 18,
   "id": "d576751c",
   "metadata": {
    "execution": {
     "iopub.execute_input": "2025-06-04T06:17:50.116241Z",
     "iopub.status.busy": "2025-06-04T06:17:50.115738Z",
     "iopub.status.idle": "2025-06-04T06:17:57.083540Z",
     "shell.execute_reply": "2025-06-04T06:17:57.082608Z"
    },
    "papermill": {
     "duration": 9.811354,
     "end_time": "2025-06-04T06:17:57.084762",
     "exception": false,
     "start_time": "2025-06-04T06:17:47.273408",
     "status": "completed"
    },
    "tags": []
   },
   "outputs": [
    {
     "name": "stdout",
     "output_type": "stream",
     "text": [
      "DeepCache(LRU + 예측) 캐시 hit ratio: 0.3216\n"
     ]
    }
   ],
   "source": [
    "# Execute LRU with Deep Cache (on merged requests)\n",
    "cache_size = 150\n",
    "lru_deep = LRUCache(cache_size)\n",
    "hits_deep = []\n",
    "for obj_id in merged_requests:\n",
    "    hit = lru_deep.request(obj_id)\n",
    "    hits_deep.append(hit)\n",
    "\n",
    "deep_cache_hit_ratio = round(lru_deep.get_hit_ratio(), 4)\n",
    "print(\"DeepCache(LRU + 예측) 캐시 hit ratio:\", deep_cache_hit_ratio)"
   ]
  },
  {
   "cell_type": "code",
   "execution_count": 19,
   "id": "0e79e3af",
   "metadata": {
    "execution": {
     "iopub.execute_input": "2025-06-04T06:18:02.661440Z",
     "iopub.status.busy": "2025-06-04T06:18:02.661173Z",
     "iopub.status.idle": "2025-06-04T06:18:09.727331Z",
     "shell.execute_reply": "2025-06-04T06:18:09.726473Z"
    },
    "papermill": {
     "duration": 9.889744,
     "end_time": "2025-06-04T06:18:09.728730",
     "exception": false,
     "start_time": "2025-06-04T06:17:59.838986",
     "status": "completed"
    },
    "tags": []
   },
   "outputs": [
    {
     "name": "stdout",
     "output_type": "stream",
     "text": [
      "LRU 캐시 hit ratio: 0.29\n"
     ]
    }
   ],
   "source": [
    "# Execute traditional LRU (on raw requests)\n",
    "requests = actual_requests\n",
    "\n",
    "lru_traditional = LRUCache(cache_size)\n",
    "hits_trad = []\n",
    "for obj_id in requests:\n",
    "    hit = lru_traditional.request(obj_id)\n",
    "    hits_trad.append(hit)\n",
    "\n",
    "traditional_lru_hit_ratio = round(lru_traditional.get_hit_ratio(), 4)\n",
    "print(\"LRU 캐시 hit ratio:\", traditional_lru_hit_ratio)"
   ]
  },
  {
   "cell_type": "markdown",
   "id": "4b74d659",
   "metadata": {
    "papermill": {
     "duration": 2.798057,
     "end_time": "2025-06-04T06:18:15.327830",
     "exception": false,
     "start_time": "2025-06-04T06:18:12.529773",
     "status": "completed"
    },
    "tags": []
   },
   "source": [
    "## Visualize the result"
   ]
  },
  {
   "cell_type": "code",
   "execution_count": 20,
   "id": "cafa0bbf",
   "metadata": {
    "execution": {
     "iopub.execute_input": "2025-06-04T06:18:20.924673Z",
     "iopub.status.busy": "2025-06-04T06:18:20.923984Z",
     "iopub.status.idle": "2025-06-04T06:18:21.135968Z",
     "shell.execute_reply": "2025-06-04T06:18:21.135165Z"
    },
    "papermill": {
     "duration": 2.962008,
     "end_time": "2025-06-04T06:18:21.137113",
     "exception": false,
     "start_time": "2025-06-04T06:18:18.175105",
     "status": "completed"
    },
    "tags": []
   },
   "outputs": [
    {
     "data": {
      "image/png": "[encoded data removed]",
      "text/plain": [
       "<Figure size 640x480 with 1 Axes>"
      ]
     },
     "metadata": {},
     "output_type": "display_data"
    }
   ],
   "source": [
    "import matplotlib.pyplot as plt\n",
    "\n",
    "ratios = [\n",
    "    deep_cache_hit_ratio,\n",
    "    traditional_lru_hit_ratio\n",
    "]\n",
    "labels = ['DeepCache', 'LRU']\n",
    "\n",
    "plt.bar(labels, ratios, color=['skyblue', 'salmon'])\n",
    "plt.ylabel('Hit Ratio')\n",
    "plt.title('DeepCache vs LRU Performance')\n",
    "plt.ylim(0, 1)\n",
    "plt.show()"
   ]
  },
  {
   "cell_type": "code",
   "execution_count": 21,
   "id": "ca613cf7",
   "metadata": {
    "execution": {
     "iopub.execute_input": "2025-06-04T06:18:26.692855Z",
     "iopub.status.busy": "2025-06-04T06:18:26.692298Z",
     "iopub.status.idle": "2025-06-04T06:18:32.029640Z",
     "shell.execute_reply": "2025-06-04T06:18:32.028916Z"
    },
    "papermill": {
     "duration": 8.05797,
     "end_time": "2025-06-04T06:18:32.031420",
     "exception": false,
     "start_time": "2025-06-04T06:18:23.973450",
     "status": "completed"
    },
    "tags": []
   },
   "outputs": [
    {
     "data": {
      "image/png": "[encoded data removed]",
      "text/plain": [
       "<Figure size 1000x600 with 1 Axes>"
      ]
     },
     "metadata": {},
     "output_type": "display_data"
    }
   ],
   "source": [
    "hits_deep = np.array(hits_deep, dtype=int)\n",
    "hits_trad = np.array(hits_trad, dtype=int)\n",
    "\n",
    "min_len = min(len(hits_trad), len(hits_deep))\n",
    "\n",
    "hits_trad = hits_trad[:min_len]\n",
    "hits_deep = hits_deep[:min_len]\n",
    "x = np.arange(1, min_len + 1)\n",
    "\n",
    "x = np.arange(1, len(hits_trad) + 1)\n",
    "cumulative_deep = np.cumsum(hits_deep)\n",
    "cumulative_trad = np.cumsum(hits_trad)\n",
    "\n",
    "step = 10\n",
    "x = np.arange(1, min_len + 1)[::step]\n",
    "cumulative_trad = cumulative_trad[::step]\n",
    "cumulative_deep = cumulative_deep[::step]\n",
    "\n",
    "y_max = max(cumulative_deep.max(), cumulative_trad.max())\n",
    "yticks = np.arange(0, y_max + 1, 200000)\n",
    "\n",
    "plt.figure(figsize=(10, 6))\n",
    "plt.plot(x, cumulative_trad, label='LRU', color='red', linewidth=2)\n",
    "plt.plot(x, cumulative_deep, label='DeepCache (LSTM + LRU)', color='green', linewidth=2)\n",
    "plt.xlabel('Request Sequence', fontsize=12)\n",
    "plt.ylabel('Cumulative Hits', fontsize=12)\n",
    "plt.title('Cumulative Cache Hits Over Time', fontsize=14)\n",
    "plt.yticks(yticks, fontsize=10)  \n",
    "plt.xticks(fontsize=10)\n",
    "plt.grid(True)\n",
    "plt.legend(fontsize=12)\n",
    "plt.tight_layout()\n",
    "plt.show()"
   ]
  }
 ],
 "metadata": {
  "kaggle": {
   "accelerator": "gpu",
   "dataSources": [
    {
     "datasetId": 7516670,
     "sourceId": 11997454,
     "sourceType": "datasetVersion"
    }
   ],
   "dockerImageVersionId": 31041,
   "isGpuEnabled": true,
   "isInternetEnabled": true,
   "language": "python",
   "sourceType": "notebook"
  },
  "kernelspec": {
   "display_name": "Python 3",
   "language": "python",
   "name": "python3"
  },
  "language_info": {
   "codemirror_mode": {
    "name": "ipython",
    "version": 3
   },
   "file_extension": ".py",
   "mimetype": "text/x-python",
   "name": "python",
   "nbconvert_exporter": "python",
   "pygments_lexer": "ipython3",
   "version": "3.11.11"
  },
  "papermill": {
   "default_parameters": {},
   "duration": 3745.898419,
   "end_time": "2025-06-04T06:18:38.018720",
   "environment_variables": {},
   "exception": null,
   "input_path": "__notebook__.ipynb",
   "output_path": "__notebook__.ipynb",
   "parameters": {},
   "start_time": "2025-06-04T05:16:12.120301",
   "version": "2.6.0"
  }
 },
 "nbformat": 4,
 "nbformat_minor": 5
}

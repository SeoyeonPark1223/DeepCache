{
 "cells": [
  {
   "cell_type": "markdown",
   "id": "50327025",
   "metadata": {
    "papermill": {
     "duration": 0.004784,
     "end_time": "2025-05-31T08:52:37.431739",
     "exception": false,
     "start_time": "2025-05-31T08:52:37.426955",
     "status": "completed"
    },
    "tags": []
   },
   "source": [
    "# Deep Cache with MediSynDataset"
   ]
  },
  {
   "cell_type": "markdown",
   "id": "bafbadb8",
   "metadata": {
    "papermill": {
     "duration": 0.003527,
     "end_time": "2025-05-31T08:52:37.439287",
     "exception": false,
     "start_time": "2025-05-31T08:52:37.435760",
     "status": "completed"
    },
    "tags": []
   },
   "source": [
    "### Reference Paper\n",
    "> - Deep Cache: A Deep Learning Based Framework For Content Caching "
   ]
  },
  {
   "cell_type": "code",
   "execution_count": 1,
   "id": "d2fbda78",
   "metadata": {
    "_cell_guid": "b1076dfc-b9ad-4769-8c92-a6c4dae69d19",
    "_uuid": "8f2839f25d086af736a60e9eeb907d3b93b6e0e5",
    "execution": {
     "iopub.execute_input": "2025-05-31T08:52:37.448088Z",
     "iopub.status.busy": "2025-05-31T08:52:37.447816Z",
     "iopub.status.idle": "2025-05-31T08:52:38.971285Z",
     "shell.execute_reply": "2025-05-31T08:52:38.970475Z"
    },
    "papermill": {
     "duration": 1.529676,
     "end_time": "2025-05-31T08:52:38.972644",
     "exception": false,
     "start_time": "2025-05-31T08:52:37.442968",
     "status": "completed"
    },
    "tags": []
   },
   "outputs": [
    {
     "name": "stdout",
     "output_type": "stream",
     "text": [
      "/kaggle/input/deep-cache-dataset2/mediSynDataset_x2_O3488.csv\n",
      "/kaggle/input/deep-cache-dataset2/mediSynDataset_x2_O1042.csv\n",
      "/kaggle/input/deep-cache-dataset2/y_pred-2.npy\n"
     ]
    }
   ],
   "source": [
    "# This Python 3 environment comes with many helpful analytics libraries installed\n",
    "# It is defined by the kaggle/python Docker image: https://github.com/kaggle/docker-python\n",
    "# For example, here's several helpful packages to load\n",
    "\n",
    "import numpy as np # linear algebra\n",
    "import pandas as pd # data processing, CSV file I/O (e.g. pd.read_csv)\n",
    "\n",
    "# Input data files are available in the read-only \"../input/\" directory\n",
    "# For example, running this (by clicking run or pressing Shift+Enter) will list all files under the input directory\n",
    "\n",
    "import os\n",
    "for dirname, _, filenames in os.walk('/kaggle/input'):\n",
    "    for filename in filenames:\n",
    "        print(os.path.join(dirname, filename))\n",
    "\n",
    "# You can write up to 20GB to the current directory (/kaggle/working/) that gets preserved as output when you create a version using \"Save & Run All\" \n",
    "# You can also write temporary files to /kaggle/temp/, but they won't be saved outside of the current session"
   ]
  },
  {
   "cell_type": "code",
   "execution_count": 2,
   "id": "b3f9ae87",
   "metadata": {
    "execution": {
     "iopub.execute_input": "2025-05-31T08:52:38.981351Z",
     "iopub.status.busy": "2025-05-31T08:52:38.981020Z",
     "iopub.status.idle": "2025-05-31T08:52:55.422877Z",
     "shell.execute_reply": "2025-05-31T08:52:55.421875Z"
    },
    "papermill": {
     "duration": 16.447519,
     "end_time": "2025-05-31T08:52:55.424211",
     "exception": false,
     "start_time": "2025-05-31T08:52:38.976692",
     "status": "completed"
    },
    "tags": []
   },
   "outputs": [
    {
     "name": "stderr",
     "output_type": "stream",
     "text": [
      "2025-05-31 08:52:41.069247: E external/local_xla/xla/stream_executor/cuda/cuda_fft.cc:477] Unable to register cuFFT factory: Attempting to register factory for plugin cuFFT when one has already been registered\n",
      "WARNING: All log messages before absl::InitializeLog() is called are written to STDERR\n",
      "E0000 00:00:1748681561.288238      19 cuda_dnn.cc:8310] Unable to register cuDNN factory: Attempting to register factory for plugin cuDNN when one has already been registered\n",
      "E0000 00:00:1748681561.355867      19 cuda_blas.cc:1418] Unable to register cuBLAS factory: Attempting to register factory for plugin cuBLAS when one has already been registered\n"
     ]
    },
    {
     "name": "stdout",
     "output_type": "stream",
     "text": [
      "/GPU:0\n"
     ]
    }
   ],
   "source": [
    "# Use GPU if available, otherwise fall back to CPU\n",
    "import tensorflow as tf\n",
    "\n",
    "device = \"/GPU:0\" if tf.config.list_physical_devices('GPU') else \"/CPU:0\"\n",
    "print(device)"
   ]
  },
  {
   "cell_type": "code",
   "execution_count": 3,
   "id": "94c5d106",
   "metadata": {
    "execution": {
     "iopub.execute_input": "2025-05-31T08:52:55.433670Z",
     "iopub.status.busy": "2025-05-31T08:52:55.432840Z",
     "iopub.status.idle": "2025-05-31T08:53:19.918850Z",
     "shell.execute_reply": "2025-05-31T08:53:19.918030Z"
    },
    "papermill": {
     "duration": 24.491852,
     "end_time": "2025-05-31T08:53:19.920193",
     "exception": false,
     "start_time": "2025-05-31T08:52:55.428341",
     "status": "completed"
    },
    "tags": []
   },
   "outputs": [
    {
     "data": {
      "text/html": [
       "<div>\n",
       "<style scoped>\n",
       "    .dataframe tbody tr th:only-of-type {\n",
       "        vertical-align: middle;\n",
       "    }\n",
       "\n",
       "    .dataframe tbody tr th {\n",
       "        vertical-align: top;\n",
       "    }\n",
       "\n",
       "    .dataframe thead th {\n",
       "        text-align: right;\n",
       "    }\n",
       "</style>\n",
       "<table border=\"1\" class=\"dataframe\">\n",
       "  <thead>\n",
       "    <tr style=\"text-align: right;\">\n",
       "      <th></th>\n",
       "      <th>object_ID</th>\n",
       "      <th>request_time</th>\n",
       "    </tr>\n",
       "  </thead>\n",
       "  <tbody>\n",
       "    <tr>\n",
       "      <th>0</th>\n",
       "      <td>2033</td>\n",
       "      <td>8.641616e+04</td>\n",
       "    </tr>\n",
       "    <tr>\n",
       "      <th>1</th>\n",
       "      <td>1280</td>\n",
       "      <td>8.641938e+04</td>\n",
       "    </tr>\n",
       "    <tr>\n",
       "      <th>2</th>\n",
       "      <td>3482</td>\n",
       "      <td>8.642676e+04</td>\n",
       "    </tr>\n",
       "    <tr>\n",
       "      <th>3</th>\n",
       "      <td>2764</td>\n",
       "      <td>8.642905e+04</td>\n",
       "    </tr>\n",
       "    <tr>\n",
       "      <th>4</th>\n",
       "      <td>2698</td>\n",
       "      <td>8.643068e+04</td>\n",
       "    </tr>\n",
       "    <tr>\n",
       "      <th>...</th>\n",
       "      <td>...</td>\n",
       "      <td>...</td>\n",
       "    </tr>\n",
       "    <tr>\n",
       "      <th>39088106</th>\n",
       "      <td>2574</td>\n",
       "      <td>3.673981e+06</td>\n",
       "    </tr>\n",
       "    <tr>\n",
       "      <th>39088107</th>\n",
       "      <td>2312</td>\n",
       "      <td>3.673981e+06</td>\n",
       "    </tr>\n",
       "    <tr>\n",
       "      <th>39088108</th>\n",
       "      <td>2785</td>\n",
       "      <td>3.673981e+06</td>\n",
       "    </tr>\n",
       "    <tr>\n",
       "      <th>39088109</th>\n",
       "      <td>2663</td>\n",
       "      <td>3.673981e+06</td>\n",
       "    </tr>\n",
       "    <tr>\n",
       "      <th>39088110</th>\n",
       "      <td>2109</td>\n",
       "      <td>3.673000e+03</td>\n",
       "    </tr>\n",
       "  </tbody>\n",
       "</table>\n",
       "<p>39088111 rows × 2 columns</p>\n",
       "</div>"
      ],
      "text/plain": [
       "          object_ID  request_time\n",
       "0              2033  8.641616e+04\n",
       "1              1280  8.641938e+04\n",
       "2              3482  8.642676e+04\n",
       "3              2764  8.642905e+04\n",
       "4              2698  8.643068e+04\n",
       "...             ...           ...\n",
       "39088106       2574  3.673981e+06\n",
       "39088107       2312  3.673981e+06\n",
       "39088108       2785  3.673981e+06\n",
       "39088109       2663  3.673981e+06\n",
       "39088110       2109  3.673000e+03\n",
       "\n",
       "[39088111 rows x 2 columns]"
      ]
     },
     "execution_count": 3,
     "metadata": {},
     "output_type": "execute_result"
    }
   ],
   "source": [
    "# Load data\n",
    "df = pd.read_csv('/kaggle/input/deep-cache-dataset2/mediSynDataset_x2_O3488.csv') \n",
    "df"
   ]
  },
  {
   "cell_type": "markdown",
   "id": "773578e0",
   "metadata": {
    "papermill": {
     "duration": 0.003781,
     "end_time": "2025-05-31T08:53:19.928412",
     "exception": false,
     "start_time": "2025-05-31T08:53:19.924631",
     "status": "completed"
    },
    "tags": []
   },
   "source": [
    "## Feature Engineering\n",
    "> \"The probability of $o^i$ is the normalized frequency of that object in an hour.\""
   ]
  },
  {
   "cell_type": "code",
   "execution_count": 4,
   "id": "a794ef45",
   "metadata": {
    "execution": {
     "iopub.execute_input": "2025-05-31T08:53:19.936946Z",
     "iopub.status.busy": "2025-05-31T08:53:19.936732Z",
     "iopub.status.idle": "2025-05-31T08:53:23.102742Z",
     "shell.execute_reply": "2025-05-31T08:53:23.102100Z"
    },
    "papermill": {
     "duration": 3.171738,
     "end_time": "2025-05-31T08:53:23.104025",
     "exception": false,
     "start_time": "2025-05-31T08:53:19.932287",
     "status": "completed"
    },
    "tags": []
   },
   "outputs": [],
   "source": [
    "df['hour'] = df['request_time'] // 3600  # Add 'hour' column \n",
    "\n",
    "object_ids = df['object_ID'].unique()\n",
    "object_ids.sort()\n",
    "num_objects = len(object_ids) # Num unique objects: 50\n",
    "\n",
    "# Create pivot table: (hour, object_ID) → request count\n",
    "pivot = df.groupby(['hour', 'object_ID']).size().unstack(fill_value=0)\n",
    "pivot = pivot.reindex(columns=object_ids, fill_value=0)  # Ensure consistent object ordering\n",
    "\n",
    "# Normalize each row into a probability distribution\n",
    "probs = pivot.div(pivot.sum(axis=1), axis=0).fillna(0)"
   ]
  },
  {
   "cell_type": "markdown",
   "id": "2b324cc5",
   "metadata": {
    "papermill": {
     "duration": 0.003857,
     "end_time": "2025-05-31T08:53:23.112529",
     "exception": false,
     "start_time": "2025-05-31T08:53:23.108672",
     "status": "completed"
    },
    "tags": []
   },
   "source": [
    "## Split data\n",
    "- To align with the paper's goal which is predicting the future characteristics of an object based on past logs, we split the dataset into 60% for training and 40% for evaluation."
   ]
  },
  {
   "cell_type": "code",
   "execution_count": 5,
   "id": "34c31d1a",
   "metadata": {
    "execution": {
     "iopub.execute_input": "2025-05-31T08:53:23.122149Z",
     "iopub.status.busy": "2025-05-31T08:53:23.121500Z",
     "iopub.status.idle": "2025-05-31T08:53:23.125354Z",
     "shell.execute_reply": "2025-05-31T08:53:23.124784Z"
    },
    "papermill": {
     "duration": 0.009744,
     "end_time": "2025-05-31T08:53:23.126469",
     "exception": false,
     "start_time": "2025-05-31T08:53:23.116725",
     "status": "completed"
    },
    "tags": []
   },
   "outputs": [],
   "source": [
    "# Split into train/test\n",
    "cut_idx = int(len(probs) * 0.6)\n",
    "train_probs = probs.iloc[:cut_idx]\n",
    "test_probs = probs.iloc[cut_idx:]"
   ]
  },
  {
   "cell_type": "code",
   "execution_count": 6,
   "id": "2aa38468",
   "metadata": {
    "execution": {
     "iopub.execute_input": "2025-05-31T08:53:23.137432Z",
     "iopub.status.busy": "2025-05-31T08:53:23.136857Z",
     "iopub.status.idle": "2025-05-31T08:53:23.398303Z",
     "shell.execute_reply": "2025-05-31T08:53:23.397520Z"
    },
    "papermill": {
     "duration": 0.268946,
     "end_time": "2025-05-31T08:53:23.399453",
     "exception": false,
     "start_time": "2025-05-31T08:53:23.130507",
     "status": "completed"
    },
    "tags": []
   },
   "outputs": [
    {
     "name": "stdout",
     "output_type": "stream",
     "text": [
      "Train X shape: (585672, 20, 1)\n",
      "Train y shape: (585672, 26, 1)\n",
      "Test X shape: (375594, 20, 1)\n",
      "Test y shape: (375594, 26, 1)\n"
     ]
    }
   ],
   "source": [
    "m, k = 20, 26 # Sequence length for input(m) and output(k)\n",
    "X = []\n",
    "y = []\n",
    "\n",
    "# Helper function to create sliding window sequences\n",
    "def create_sequences(prob_df, m, k):\n",
    "    X, y = [], []\n",
    "    for i in range(len(prob_df) - m - k):\n",
    "        x_seq = prob_df.iloc[i:i+m].values  # (m, d)\n",
    "        y_seq = prob_df.iloc[i+m:i+m+k].values  # (k, d)\n",
    "        X.append(x_seq)\n",
    "        y.append(y_seq)\n",
    "    X = np.array(X)\n",
    "    y = np.array(y)\n",
    "    \n",
    "    # Reshape: (samples * d, m, 1), (samples * d, k, 1)\n",
    "    X = X.transpose(0, 2, 1).reshape(-1, m, 1)\n",
    "    y = y.transpose(0, 2, 1).reshape(-1, k, 1)\n",
    "    return X, y\n",
    "\n",
    "# Create train and test sets\n",
    "X_train, y_train = create_sequences(train_probs, m, k)\n",
    "X_test, y_test = create_sequences(test_probs, m, k)\n",
    "\n",
    "print(\"Train X shape:\", X_train.shape)\n",
    "print(\"Train y shape:\", y_train.shape)\n",
    "print(\"Test X shape:\", X_test.shape)\n",
    "print(\"Test y shape:\", y_test.shape)"
   ]
  },
  {
   "cell_type": "markdown",
   "id": "f2634350",
   "metadata": {
    "papermill": {
     "duration": 0.003812,
     "end_time": "2025-05-31T08:53:23.407452",
     "exception": false,
     "start_time": "2025-05-31T08:53:23.403640",
     "status": "completed"
    },
    "tags": []
   },
   "source": [
    "## Build LSTM Model \n",
    "> \"For our datasets, we use a two-layer depth LSTM Encoder-Decoder model with 128 and 64 as the number of hidden units. ... The loss function is chosen as mean-squared-error (MSE). We ran our experiments for a number of epochs equal to 30, with the batch size set to 10% of the training data.\"\n",
    "- Batch size was reduced to 64 due to limited memory capacity."
   ]
  },
  {
   "cell_type": "code",
   "execution_count": 7,
   "id": "d27d7efb",
   "metadata": {
    "execution": {
     "iopub.execute_input": "2025-05-31T08:53:23.416564Z",
     "iopub.status.busy": "2025-05-31T08:53:23.415979Z",
     "iopub.status.idle": "2025-05-31T08:53:23.479727Z",
     "shell.execute_reply": "2025-05-31T08:53:23.479152Z"
    },
    "papermill": {
     "duration": 0.069718,
     "end_time": "2025-05-31T08:53:23.481052",
     "exception": false,
     "start_time": "2025-05-31T08:53:23.411334",
     "status": "completed"
    },
    "tags": []
   },
   "outputs": [],
   "source": [
    "from tensorflow.keras.layers import (\n",
    "    Input, LSTM, Dense, TimeDistributed, RepeatVector,\n",
    "    Dropout, Bidirectional, Attention, Concatenate\n",
    ")\n",
    "from tensorflow.keras.models import Model\n",
    "import tensorflow.keras.backend as K"
   ]
  },
  {
   "cell_type": "code",
   "execution_count": 8,
   "id": "58fbe2e0",
   "metadata": {
    "execution": {
     "iopub.execute_input": "2025-05-31T08:53:23.490353Z",
     "iopub.status.busy": "2025-05-31T08:53:23.490091Z",
     "iopub.status.idle": "2025-05-31T08:53:23.495265Z",
     "shell.execute_reply": "2025-05-31T08:53:23.494677Z"
    },
    "papermill": {
     "duration": 0.011106,
     "end_time": "2025-05-31T08:53:23.496452",
     "exception": false,
     "start_time": "2025-05-31T08:53:23.485346",
     "status": "completed"
    },
    "tags": []
   },
   "outputs": [],
   "source": [
    "def build_seq2seq_model(m, k):\n",
    "    # ----- Encoder -----\n",
    "    encoder_inputs = Input(shape=(m, 1))  # Input shape: (sequence_length, 1)\n",
    "\n",
    "    # Two-layer encoder with 128 and 64 hidden units\n",
    "    encoder_lstm_1 = LSTM(128, return_sequences=True)\n",
    "    encoder_lstm_2 = LSTM(64, return_state=True)\n",
    "\n",
    "    x = encoder_lstm_1(encoder_inputs)\n",
    "    encoder_outputs, state_h, state_c = encoder_lstm_2(x)\n",
    "    encoder_states = [state_h, state_c]  # Final encoder states passed to decoder\n",
    "\n",
    "    # ----- Decoder -----\n",
    "    decoder_inputs = RepeatVector(k)(encoder_outputs)  # Repeat context vector for k time steps\n",
    "\n",
    "    # Two-layer decoder with 128 and 64 hidden units\n",
    "    decoder_lstm_1 = LSTM(128, return_sequences=True)\n",
    "    decoder_lstm_2 = LSTM(64, return_sequences=True)\n",
    "\n",
    "    x = decoder_lstm_1(decoder_inputs, initial_state=encoder_states)\n",
    "    decoder_outputs = decoder_lstm_2(x)\n",
    "\n",
    "    # Predict one value per time step\n",
    "    decoder_dense = TimeDistributed(Dense(1))\n",
    "    output_seq = decoder_dense(decoder_outputs)\n",
    "\n",
    "    # Compile the model with MSE loss and MAE metric\n",
    "    model = Model(encoder_inputs, output_seq)\n",
    "    model.compile(optimizer='adam', loss='mse', metrics=['mae'])\n",
    "\n",
    "    return model"
   ]
  },
  {
   "cell_type": "code",
   "execution_count": 9,
   "id": "533006f2",
   "metadata": {
    "execution": {
     "iopub.execute_input": "2025-05-31T08:53:23.505672Z",
     "iopub.status.busy": "2025-05-31T08:53:23.505280Z",
     "iopub.status.idle": "2025-05-31T09:45:38.740027Z",
     "shell.execute_reply": "2025-05-31T09:45:38.739226Z"
    },
    "papermill": {
     "duration": 3137.883912,
     "end_time": "2025-05-31T09:45:41.384543",
     "exception": false,
     "start_time": "2025-05-31T08:53:23.500631",
     "status": "completed"
    },
    "tags": []
   },
   "outputs": [
    {
     "name": "stderr",
     "output_type": "stream",
     "text": [
      "I0000 00:00:1748681603.617106      19 gpu_device.cc:2022] Created device /job:localhost/replica:0/task:0/device:GPU:0 with 15513 MB memory:  -> device: 0, name: Tesla P100-PCIE-16GB, pci bus id: 0000:00:04.0, compute capability: 6.0\n"
     ]
    },
    {
     "name": "stdout",
     "output_type": "stream",
     "text": [
      "Epoch 1/30\n"
     ]
    },
    {
     "name": "stderr",
     "output_type": "stream",
     "text": [
      "I0000 00:00:1748681612.292249      59 cuda_dnn.cc:529] Loaded cuDNN version 90300\n"
     ]
    },
    {
     "name": "stdout",
     "output_type": "stream",
     "text": [
      "\u001b[1m9152/9152\u001b[0m \u001b[32m━━━━━━━━━━━━━━━━━━━━\u001b[0m\u001b[37m\u001b[0m \u001b[1m109s\u001b[0m 11ms/step - loss: 1.1369e-05 - mae: 0.0013\n",
      "Epoch 2/30\n",
      "\u001b[1m9152/9152\u001b[0m \u001b[32m━━━━━━━━━━━━━━━━━━━━\u001b[0m\u001b[37m\u001b[0m \u001b[1m102s\u001b[0m 11ms/step - loss: 7.5680e-06 - mae: 8.0372e-04\n",
      "Epoch 3/30\n",
      "\u001b[1m9152/9152\u001b[0m \u001b[32m━━━━━━━━━━━━━━━━━━━━\u001b[0m\u001b[37m\u001b[0m \u001b[1m102s\u001b[0m 11ms/step - loss: 5.9420e-06 - mae: 6.5553e-04\n",
      "Epoch 4/30\n",
      "\u001b[1m9152/9152\u001b[0m \u001b[32m━━━━━━━━━━━━━━━━━━━━\u001b[0m\u001b[37m\u001b[0m \u001b[1m102s\u001b[0m 11ms/step - loss: 6.1438e-06 - mae: 6.2910e-04\n",
      "Epoch 5/30\n",
      "\u001b[1m9152/9152\u001b[0m \u001b[32m━━━━━━━━━━━━━━━━━━━━\u001b[0m\u001b[37m\u001b[0m \u001b[1m99s\u001b[0m 11ms/step - loss: 6.1817e-06 - mae: 6.0173e-04\n",
      "Epoch 6/30\n",
      "\u001b[1m9152/9152\u001b[0m \u001b[32m━━━━━━━━━━━━━━━━━━━━\u001b[0m\u001b[37m\u001b[0m \u001b[1m98s\u001b[0m 11ms/step - loss: 5.5625e-06 - mae: 5.6943e-04\n",
      "Epoch 7/30\n",
      "\u001b[1m9152/9152\u001b[0m \u001b[32m━━━━━━━━━━━━━━━━━━━━\u001b[0m\u001b[37m\u001b[0m \u001b[1m98s\u001b[0m 11ms/step - loss: 5.6742e-06 - mae: 5.6509e-04\n",
      "Epoch 8/30\n",
      "\u001b[1m9152/9152\u001b[0m \u001b[32m━━━━━━━━━━━━━━━━━━━━\u001b[0m\u001b[37m\u001b[0m \u001b[1m101s\u001b[0m 11ms/step - loss: 5.5364e-06 - mae: 5.4365e-04\n",
      "Epoch 9/30\n",
      "\u001b[1m9152/9152\u001b[0m \u001b[32m━━━━━━━━━━━━━━━━━━━━\u001b[0m\u001b[37m\u001b[0m \u001b[1m98s\u001b[0m 11ms/step - loss: 5.9291e-06 - mae: 5.4188e-04\n",
      "Epoch 10/30\n",
      "\u001b[1m9152/9152\u001b[0m \u001b[32m━━━━━━━━━━━━━━━━━━━━\u001b[0m\u001b[37m\u001b[0m \u001b[1m98s\u001b[0m 11ms/step - loss: 6.2281e-06 - mae: 5.4604e-04\n",
      "Epoch 11/30\n",
      "\u001b[1m9152/9152\u001b[0m \u001b[32m━━━━━━━━━━━━━━━━━━━━\u001b[0m\u001b[37m\u001b[0m \u001b[1m99s\u001b[0m 11ms/step - loss: 5.7869e-06 - mae: 5.3793e-04\n",
      "Epoch 12/30\n",
      "\u001b[1m9152/9152\u001b[0m \u001b[32m━━━━━━━━━━━━━━━━━━━━\u001b[0m\u001b[37m\u001b[0m \u001b[1m100s\u001b[0m 11ms/step - loss: 5.8703e-06 - mae: 5.3978e-04\n",
      "Epoch 13/30\n",
      "\u001b[1m9152/9152\u001b[0m \u001b[32m━━━━━━━━━━━━━━━━━━━━\u001b[0m\u001b[37m\u001b[0m \u001b[1m100s\u001b[0m 11ms/step - loss: 5.8538e-06 - mae: 5.2724e-04\n",
      "Epoch 14/30\n",
      "\u001b[1m9152/9152\u001b[0m \u001b[32m━━━━━━━━━━━━━━━━━━━━\u001b[0m\u001b[37m\u001b[0m \u001b[1m100s\u001b[0m 11ms/step - loss: 4.9581e-06 - mae: 4.9671e-04\n",
      "Epoch 15/30\n",
      "\u001b[1m9152/9152\u001b[0m \u001b[32m━━━━━━━━━━━━━━━━━━━━\u001b[0m\u001b[37m\u001b[0m \u001b[1m101s\u001b[0m 11ms/step - loss: 6.0483e-06 - mae: 5.1658e-04\n",
      "Epoch 16/30\n",
      "\u001b[1m9152/9152\u001b[0m \u001b[32m━━━━━━━━━━━━━━━━━━━━\u001b[0m\u001b[37m\u001b[0m \u001b[1m103s\u001b[0m 11ms/step - loss: 5.2730e-06 - mae: 5.0010e-04\n",
      "Epoch 17/30\n",
      "\u001b[1m9152/9152\u001b[0m \u001b[32m━━━━━━━━━━━━━━━━━━━━\u001b[0m\u001b[37m\u001b[0m \u001b[1m102s\u001b[0m 11ms/step - loss: 5.3438e-06 - mae: 4.9984e-04\n",
      "Epoch 18/30\n",
      "\u001b[1m9152/9152\u001b[0m \u001b[32m━━━━━━━━━━━━━━━━━━━━\u001b[0m\u001b[37m\u001b[0m \u001b[1m101s\u001b[0m 11ms/step - loss: 5.6015e-06 - mae: 4.9509e-04\n",
      "Epoch 19/30\n",
      "\u001b[1m9152/9152\u001b[0m \u001b[32m━━━━━━━━━━━━━━━━━━━━\u001b[0m\u001b[37m\u001b[0m \u001b[1m104s\u001b[0m 11ms/step - loss: 5.2157e-06 - mae: 4.8756e-04\n",
      "Epoch 20/30\n",
      "\u001b[1m9152/9152\u001b[0m \u001b[32m━━━━━━━━━━━━━━━━━━━━\u001b[0m\u001b[37m\u001b[0m \u001b[1m102s\u001b[0m 11ms/step - loss: 5.3468e-06 - mae: 4.9653e-04\n",
      "Epoch 21/30\n",
      "\u001b[1m9152/9152\u001b[0m \u001b[32m━━━━━━━━━━━━━━━━━━━━\u001b[0m\u001b[37m\u001b[0m \u001b[1m101s\u001b[0m 11ms/step - loss: 5.6004e-06 - mae: 4.9666e-04\n",
      "Epoch 22/30\n",
      "\u001b[1m9152/9152\u001b[0m \u001b[32m━━━━━━━━━━━━━━━━━━━━\u001b[0m\u001b[37m\u001b[0m \u001b[1m100s\u001b[0m 11ms/step - loss: 5.4296e-06 - mae: 4.9758e-04\n",
      "Epoch 23/30\n",
      "\u001b[1m9152/9152\u001b[0m \u001b[32m━━━━━━━━━━━━━━━━━━━━\u001b[0m\u001b[37m\u001b[0m \u001b[1m100s\u001b[0m 11ms/step - loss: 5.3790e-06 - mae: 4.7998e-04\n",
      "Epoch 24/30\n",
      "\u001b[1m9152/9152\u001b[0m \u001b[32m━━━━━━━━━━━━━━━━━━━━\u001b[0m\u001b[37m\u001b[0m \u001b[1m101s\u001b[0m 11ms/step - loss: 5.0966e-06 - mae: 4.7413e-04\n",
      "Epoch 25/30\n",
      "\u001b[1m9152/9152\u001b[0m \u001b[32m━━━━━━━━━━━━━━━━━━━━\u001b[0m\u001b[37m\u001b[0m \u001b[1m101s\u001b[0m 11ms/step - loss: 5.8346e-06 - mae: 4.8773e-04\n",
      "Epoch 26/30\n",
      "\u001b[1m9152/9152\u001b[0m \u001b[32m━━━━━━━━━━━━━━━━━━━━\u001b[0m\u001b[37m\u001b[0m \u001b[1m101s\u001b[0m 11ms/step - loss: 5.0999e-06 - mae: 4.6892e-04\n",
      "Epoch 27/30\n",
      "\u001b[1m9152/9152\u001b[0m \u001b[32m━━━━━━━━━━━━━━━━━━━━\u001b[0m\u001b[37m\u001b[0m \u001b[1m101s\u001b[0m 11ms/step - loss: 5.1496e-06 - mae: 4.5814e-04\n",
      "Epoch 28/30\n",
      "\u001b[1m9152/9152\u001b[0m \u001b[32m━━━━━━━━━━━━━━━━━━━━\u001b[0m\u001b[37m\u001b[0m \u001b[1m101s\u001b[0m 11ms/step - loss: 5.0490e-06 - mae: 4.6573e-04\n",
      "Epoch 29/30\n",
      "\u001b[1m9152/9152\u001b[0m \u001b[32m━━━━━━━━━━━━━━━━━━━━\u001b[0m\u001b[37m\u001b[0m \u001b[1m101s\u001b[0m 11ms/step - loss: 5.4209e-06 - mae: 4.6761e-04\n",
      "Epoch 30/30\n",
      "\u001b[1m9152/9152\u001b[0m \u001b[32m━━━━━━━━━━━━━━━━━━━━\u001b[0m\u001b[37m\u001b[0m \u001b[1m101s\u001b[0m 11ms/step - loss: 5.2927e-06 - mae: 4.5938e-04\n",
      "\u001b[1m11738/11738\u001b[0m \u001b[32m━━━━━━━━━━━━━━━━━━━━\u001b[0m\u001b[37m\u001b[0m \u001b[1m57s\u001b[0m 5ms/step - loss: 5.4210e-07 - mae: 3.3408e-04\n",
      "Test Loss: 6.195722335178289e-07, MAE: 0.00033180389436893165\n",
      "\u001b[1m11738/11738\u001b[0m \u001b[32m━━━━━━━━━━━━━━━━━━━━\u001b[0m\u001b[37m\u001b[0m \u001b[1m42s\u001b[0m 4ms/step\n",
      "Prediciton shape: (375594, 26, 1)\n"
     ]
    }
   ],
   "source": [
    "model = build_seq2seq_model(m, k)\n",
    "model.fit(X_train, y_train, epochs=30, batch_size=64)\n",
    "\n",
    "loss, mae = model.evaluate(X_test, y_test)\n",
    "print(f\"Test Loss: {loss}, MAE: {mae}\")\n",
    "\n",
    "# Predict\n",
    "y_pred = model.predict(X_test)\n",
    "\n",
    "print(\"Prediciton shape:\", y_pred.shape)"
   ]
  },
  {
   "cell_type": "code",
   "execution_count": 10,
   "id": "fe0a01f3",
   "metadata": {
    "execution": {
     "iopub.execute_input": "2025-05-31T09:45:46.605454Z",
     "iopub.status.busy": "2025-05-31T09:45:46.605209Z",
     "iopub.status.idle": "2025-05-31T09:45:46.633727Z",
     "shell.execute_reply": "2025-05-31T09:45:46.633157Z"
    },
    "papermill": {
     "duration": 2.622197,
     "end_time": "2025-05-31T09:45:46.635001",
     "exception": false,
     "start_time": "2025-05-31T09:45:44.012804",
     "status": "completed"
    },
    "tags": []
   },
   "outputs": [],
   "source": [
    "np.save(\"y_pred.npy\", y_pred)"
   ]
  },
  {
   "cell_type": "code",
   "execution_count": 11,
   "id": "f239cfd3",
   "metadata": {
    "execution": {
     "iopub.execute_input": "2025-05-31T09:45:51.796733Z",
     "iopub.status.busy": "2025-05-31T09:45:51.796204Z",
     "iopub.status.idle": "2025-05-31T09:45:51.799573Z",
     "shell.execute_reply": "2025-05-31T09:45:51.798999Z"
    },
    "papermill": {
     "duration": 2.530598,
     "end_time": "2025-05-31T09:45:51.800642",
     "exception": false,
     "start_time": "2025-05-31T09:45:49.270044",
     "status": "completed"
    },
    "tags": []
   },
   "outputs": [],
   "source": [
    "# y_pred = np.load(\"/kaggle/input/deep-cache-dataset2/y_pred-2.npy\")"
   ]
  },
  {
   "cell_type": "markdown",
   "id": "c117b3ae",
   "metadata": {
    "papermill": {
     "duration": 2.536696,
     "end_time": "2025-05-31T09:45:56.956503",
     "exception": false,
     "start_time": "2025-05-31T09:45:54.419807",
     "status": "completed"
    },
    "tags": []
   },
   "source": [
    "## Cache Policy Setting\n",
    "> \"For dataset 2, we rather consider a varying number of top M objects with the highest probability from multiple time intervals. In other words, our fake set of requests Ft not only considers immediate future, but also considers popular objects in the next 12 hours and 24 hours with a diminishing weight for the number of selected objects from each interval.\"\n",
    "- To set different top-M values for different future time intervals, we used top 5 objects from 1 hour ahead, 4 from 12 hours, 3 from 24 hours."
   ]
  },
  {
   "cell_type": "code",
   "execution_count": 12,
   "id": "a40656cb",
   "metadata": {
    "execution": {
     "iopub.execute_input": "2025-05-31T09:46:02.175890Z",
     "iopub.status.busy": "2025-05-31T09:46:02.175174Z",
     "iopub.status.idle": "2025-05-31T09:46:05.372702Z",
     "shell.execute_reply": "2025-05-31T09:46:05.372151Z"
    },
    "papermill": {
     "duration": 5.749682,
     "end_time": "2025-05-31T09:46:05.374047",
     "exception": false,
     "start_time": "2025-05-31T09:45:59.624365",
     "status": "completed"
    },
    "tags": []
   },
   "outputs": [],
   "source": [
    "# Set different top-M values for different future time intervals\n",
    "# Top 5 objects from 1 hour ahead, 4 from 12 hours, 3 from 24 hours\n",
    "M1, M2, M3 = 5, 4, 3  \n",
    "\n",
    "top_objects_each_t = []  \n",
    "for i in range(len(y_pred)):\n",
    "    top_all = []\n",
    "    \n",
    "    # Check three specific future time steps: 0 (1 hour), 11 (12 hours), 23 (24 hours)\n",
    "    for t, M in zip([0, 11, 23], [M1, M2, M3]):\n",
    "        if t >= y_pred.shape[1]:\n",
    "            continue  # Skip if prediction is shorter than the required time step\n",
    "\n",
    "        next_probs = y_pred[i, t].flatten()  # Predicted probabilities for time step t\n",
    "        top_indices = next_probs.argsort()[-M:][::-1]  # Get top-M object indices with highest probability\n",
    "        top_all.extend(top_indices)\n",
    "\n",
    "    top_objects_each_t.append(top_all)  # Store the deduplicated list of top objects"
   ]
  },
  {
   "cell_type": "markdown",
   "id": "7eb1e264",
   "metadata": {
    "papermill": {
     "duration": 2.561424,
     "end_time": "2025-05-31T09:46:10.576077",
     "exception": false,
     "start_time": "2025-05-31T09:46:08.014653",
     "status": "completed"
    },
    "tags": []
   },
   "source": [
    "## Integral Operator\n",
    "> \"The operator is a simple merge operator, where the actual object request is followed by all the fake requests generated by our Caching Policy. This helps us to update the state of the cache by prefetching objects based on future object popularity and evict unpopular ones.\""
   ]
  },
  {
   "cell_type": "code",
   "execution_count": 13,
   "id": "60d9d6eb",
   "metadata": {
    "execution": {
     "iopub.execute_input": "2025-05-31T09:46:15.862384Z",
     "iopub.status.busy": "2025-05-31T09:46:15.861742Z",
     "iopub.status.idle": "2025-05-31T09:46:16.175669Z",
     "shell.execute_reply": "2025-05-31T09:46:16.175055Z"
    },
    "papermill": {
     "duration": 2.964614,
     "end_time": "2025-05-31T09:46:16.177165",
     "exception": false,
     "start_time": "2025-05-31T09:46:13.212551",
     "status": "completed"
    },
    "tags": []
   },
   "outputs": [],
   "source": [
    "cut_idx = int(len(df) * 0.6)\n",
    "test_df = df.iloc[cut_idx:].reset_index(drop=True)"
   ]
  },
  {
   "cell_type": "code",
   "execution_count": 14,
   "id": "c4145052",
   "metadata": {
    "execution": {
     "iopub.execute_input": "2025-05-31T09:46:21.543541Z",
     "iopub.status.busy": "2025-05-31T09:46:21.543268Z",
     "iopub.status.idle": "2025-05-31T09:46:26.509814Z",
     "shell.execute_reply": "2025-05-31T09:46:26.509232Z"
    },
    "papermill": {
     "duration": 7.617058,
     "end_time": "2025-05-31T09:46:26.511109",
     "exception": false,
     "start_time": "2025-05-31T09:46:18.894051",
     "status": "completed"
    },
    "tags": []
   },
   "outputs": [],
   "source": [
    "# Merge real requests and fake requests\n",
    "merged_requests = []\n",
    "fake_insert_idx = 0\n",
    "insert_interval = 10\n",
    "\n",
    "actual_requests = test_df.sort_values('request_time')['object_ID'].tolist()\n",
    "\n",
    "for t, req in enumerate(actual_requests):\n",
    "    merged_requests.append(req)\n",
    "    if fake_insert_idx < len(top_objects_each_t) and t % insert_interval == 0:\n",
    "        fake_objs = top_objects_each_t[fake_insert_idx]\n",
    "        merged_requests.extend(fake_objs)\n",
    "        fake_insert_idx += 1"
   ]
  },
  {
   "cell_type": "markdown",
   "id": "534abb11",
   "metadata": {
    "papermill": {
     "duration": 2.544019,
     "end_time": "2025-05-31T09:46:31.699082",
     "exception": false,
     "start_time": "2025-05-31T09:46:29.155063",
     "status": "completed"
    },
    "tags": []
   },
   "source": [
    "## Deep Cache vs Traditional LRU\n",
    "> \"We compare traditional LRU with Deep Cache, and without Deep Cache.\""
   ]
  },
  {
   "cell_type": "code",
   "execution_count": 15,
   "id": "5c0ba4d6",
   "metadata": {
    "execution": {
     "iopub.execute_input": "2025-05-31T09:46:36.892691Z",
     "iopub.status.busy": "2025-05-31T09:46:36.891982Z",
     "iopub.status.idle": "2025-05-31T09:46:37.132165Z",
     "shell.execute_reply": "2025-05-31T09:46:37.131583Z"
    },
    "papermill": {
     "duration": 2.798819,
     "end_time": "2025-05-31T09:46:37.133316",
     "exception": false,
     "start_time": "2025-05-31T09:46:34.334497",
     "status": "completed"
    },
    "tags": []
   },
   "outputs": [],
   "source": [
    "# LRU Cache simulator\n",
    "from collections import OrderedDict\n",
    "\n",
    "class LRUCache:\n",
    "  def __init__(self, capacity):\n",
    "    self.capacity = capacity\n",
    "    self.cache = OrderedDict()\n",
    "    self.hit = 0\n",
    "    self.miss = 0\n",
    "\n",
    "  def request(self, obj_id):\n",
    "    if obj_id in self.cache:\n",
    "        self.cache.move_to_end(obj_id)\n",
    "        self.hit += 1\n",
    "        return 1\n",
    "    else:\n",
    "        self.miss += 1\n",
    "        if len(self.cache) >= self.capacity:\n",
    "            self.cache.popitem(last=False) \n",
    "        self.cache[obj_id] = True\n",
    "        return 0\n",
    "\n",
    "  def get_hit_ratio(self):\n",
    "    total = self.hit + self.miss\n",
    "    return self.hit / total if total > 0 else 0"
   ]
  },
  {
   "cell_type": "code",
   "execution_count": 16,
   "id": "567952c9",
   "metadata": {
    "execution": {
     "iopub.execute_input": "2025-05-31T09:46:42.318415Z",
     "iopub.status.busy": "2025-05-31T09:46:42.318103Z",
     "iopub.status.idle": "2025-05-31T09:46:49.685956Z",
     "shell.execute_reply": "2025-05-31T09:46:49.685139Z"
    },
    "papermill": {
     "duration": 9.894639,
     "end_time": "2025-05-31T09:46:49.687280",
     "exception": false,
     "start_time": "2025-05-31T09:46:39.792641",
     "status": "completed"
    },
    "tags": []
   },
   "outputs": [
    {
     "name": "stdout",
     "output_type": "stream",
     "text": [
      "DeepCache(LRU + 예측) 캐시 hit ratio: 0.3373\n"
     ]
    }
   ],
   "source": [
    "# Execute LRU with Deep Cache (on merged requests)\n",
    "cache_size = 150\n",
    "lru_deep = LRUCache(cache_size)\n",
    "hits_deep = []\n",
    "for obj_id in merged_requests:\n",
    "    hit = lru_deep.request(obj_id)\n",
    "    hits_deep.append(hit)\n",
    "\n",
    "deep_cache_hit_ratio = round(lru_deep.get_hit_ratio(), 4)\n",
    "print(\"DeepCache(LRU + 예측) 캐시 hit ratio:\", deep_cache_hit_ratio)"
   ]
  },
  {
   "cell_type": "code",
   "execution_count": 17,
   "id": "6d5837ec",
   "metadata": {
    "execution": {
     "iopub.execute_input": "2025-05-31T09:46:54.862901Z",
     "iopub.status.busy": "2025-05-31T09:46:54.862615Z",
     "iopub.status.idle": "2025-05-31T09:47:01.683927Z",
     "shell.execute_reply": "2025-05-31T09:47:01.683075Z"
    },
    "papermill": {
     "duration": 9.36782,
     "end_time": "2025-05-31T09:47:01.685075",
     "exception": false,
     "start_time": "2025-05-31T09:46:52.317255",
     "status": "completed"
    },
    "tags": []
   },
   "outputs": [
    {
     "name": "stdout",
     "output_type": "stream",
     "text": [
      "LRU 캐시 hit ratio: 0.29\n"
     ]
    }
   ],
   "source": [
    "# Execute traditional LRU (on raw requests)\n",
    "requests = actual_requests\n",
    "\n",
    "lru_traditional = LRUCache(cache_size)\n",
    "hits_trad = []\n",
    "for obj_id in requests:\n",
    "    hit = lru_traditional.request(obj_id)\n",
    "    hits_trad.append(hit)\n",
    "\n",
    "traditional_lru_hit_ratio = round(lru_traditional.get_hit_ratio(), 4)\n",
    "print(\"LRU 캐시 hit ratio:\", traditional_lru_hit_ratio)"
   ]
  },
  {
   "cell_type": "markdown",
   "id": "1f9d4556",
   "metadata": {
    "papermill": {
     "duration": 2.541666,
     "end_time": "2025-05-31T09:47:06.873334",
     "exception": false,
     "start_time": "2025-05-31T09:47:04.331668",
     "status": "completed"
    },
    "tags": []
   },
   "source": [
    "## Visualize the result"
   ]
  },
  {
   "cell_type": "code",
   "execution_count": 18,
   "id": "b8a5cec5",
   "metadata": {
    "execution": {
     "iopub.execute_input": "2025-05-31T09:47:12.167987Z",
     "iopub.status.busy": "2025-05-31T09:47:12.167527Z",
     "iopub.status.idle": "2025-05-31T09:47:12.502872Z",
     "shell.execute_reply": "2025-05-31T09:47:12.502161Z"
    },
    "papermill": {
     "duration": 2.995444,
     "end_time": "2025-05-31T09:47:12.504244",
     "exception": false,
     "start_time": "2025-05-31T09:47:09.508800",
     "status": "completed"
    },
    "tags": []
   },
   "outputs": [
    {
     "data": {
      "image/png": "[encoded data removed]",
      "text/plain": [
       "<Figure size 640x480 with 1 Axes>"
      ]
     },
     "metadata": {},
     "output_type": "display_data"
    }
   ],
   "source": [
    "import matplotlib.pyplot as plt\n",
    "\n",
    "ratios = [\n",
    "    deep_cache_hit_ratio,\n",
    "    traditional_lru_hit_ratio\n",
    "]\n",
    "labels = ['DeepCache', 'LRU']\n",
    "\n",
    "plt.bar(labels, ratios, color=['skyblue', 'salmon'])\n",
    "plt.ylabel('Hit Ratio')\n",
    "plt.title('DeepCache vs LRU Performance')\n",
    "plt.ylim(0, 1)\n",
    "plt.show()"
   ]
  },
  {
   "cell_type": "code",
   "execution_count": 19,
   "id": "871cf094",
   "metadata": {
    "execution": {
     "iopub.execute_input": "2025-05-31T09:47:17.674267Z",
     "iopub.status.busy": "2025-05-31T09:47:17.673982Z",
     "iopub.status.idle": "2025-05-31T09:47:23.179462Z",
     "shell.execute_reply": "2025-05-31T09:47:23.178650Z"
    },
    "papermill": {
     "duration": 8.143357,
     "end_time": "2025-05-31T09:47:23.181236",
     "exception": false,
     "start_time": "2025-05-31T09:47:15.037879",
     "status": "completed"
    },
    "tags": []
   },
   "outputs": [
    {
     "data": {
      "image/png": "[encoded data removed]",
      "text/plain": [
       "<Figure size 1000x600 with 1 Axes>"
      ]
     },
     "metadata": {},
     "output_type": "display_data"
    }
   ],
   "source": [
    "hits_deep = np.array(hits_deep, dtype=int)\n",
    "hits_trad = np.array(hits_trad, dtype=int)\n",
    "\n",
    "min_len = min(len(hits_trad), len(hits_deep))\n",
    "\n",
    "hits_trad = hits_trad[:min_len]\n",
    "hits_deep = hits_deep[:min_len]\n",
    "x = np.arange(1, min_len + 1)\n",
    "\n",
    "x = np.arange(1, len(hits_trad) + 1)\n",
    "cumulative_deep = np.cumsum(hits_deep)\n",
    "cumulative_trad = np.cumsum(hits_trad)\n",
    "\n",
    "step = 10\n",
    "x = np.arange(1, min_len + 1)[::step]\n",
    "cumulative_trad = cumulative_trad[::step]\n",
    "cumulative_deep = cumulative_deep[::step]\n",
    "\n",
    "y_max = max(cumulative_deep.max(), cumulative_trad.max())\n",
    "yticks = np.arange(0, y_max + 1, 200000)\n",
    "\n",
    "plt.figure(figsize=(10, 6))\n",
    "plt.plot(x, cumulative_trad, label='LRU', color='red', linewidth=2)\n",
    "plt.plot(x, cumulative_deep, label='DeepCache (LSTM + LRU)', color='green', linewidth=2)\n",
    "plt.xlabel('Request Sequence', fontsize=12)\n",
    "plt.ylabel('Cumulative Hits', fontsize=12)\n",
    "plt.title('Cumulative Cache Hits Over Time', fontsize=14)\n",
    "plt.yticks(yticks, fontsize=10)  \n",
    "plt.xticks(fontsize=10)\n",
    "plt.grid(True)\n",
    "plt.legend(fontsize=12)\n",
    "plt.tight_layout()\n",
    "plt.show()"
   ]
  }
 ],
 "metadata": {
  "kaggle": {
   "accelerator": "gpu",
   "dataSources": [
    {
     "datasetId": 7516670,
     "sourceId": 11997454,
     "sourceType": "datasetVersion"
    }
   ],
   "dockerImageVersionId": 31041,
   "isGpuEnabled": true,
   "isInternetEnabled": true,
   "language": "python",
   "sourceType": "notebook"
  },
  "kernelspec": {
   "display_name": "Python 3",
   "language": "python",
   "name": "python3"
  },
  "language_info": {
   "codemirror_mode": {
    "name": "ipython",
    "version": 3
   },
   "file_extension": ".py",
   "mimetype": "text/x-python",
   "name": "python",
   "nbconvert_exporter": "python",
   "pygments_lexer": "ipython3",
   "version": "3.11.11"
  },
  "papermill": {
   "default_parameters": {},
   "duration": 3295.714651,
   "end_time": "2025-05-31T09:47:28.744017",
   "environment_variables": {},
   "exception": null,
   "input_path": "__notebook__.ipynb",
   "output_path": "__notebook__.ipynb",
   "parameters": {},
   "start_time": "2025-05-31T08:52:33.029366",
   "version": "2.6.0"
  }
 },
 "nbformat": 4,
 "nbformat_minor": 5
}

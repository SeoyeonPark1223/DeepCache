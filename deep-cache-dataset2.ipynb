{
 "cells": [
  {
   "cell_type": "markdown",
   "id": "163eda35",
   "metadata": {
    "papermill": {
     "duration": 0.004674,
     "end_time": "2025-05-29T15:32:43.170070",
     "exception": false,
     "start_time": "2025-05-29T15:32:43.165396",
     "status": "completed"
    },
    "tags": []
   },
   "source": [
    "# Deep Cache with MediSynDataset"
   ]
  },
  {
   "cell_type": "markdown",
   "id": "9c791267",
   "metadata": {
    "papermill": {
     "duration": 0.00353,
     "end_time": "2025-05-29T15:32:43.177390",
     "exception": false,
     "start_time": "2025-05-29T15:32:43.173860",
     "status": "completed"
    },
    "tags": []
   },
   "source": [
    "### Reference Paper\n",
    "> - Deep Cache: A Deep Learning Based Framework For Content Caching "
   ]
  },
  {
   "cell_type": "code",
   "execution_count": 1,
   "id": "098b7007",
   "metadata": {
    "_cell_guid": "b1076dfc-b9ad-4769-8c92-a6c4dae69d19",
    "_uuid": "8f2839f25d086af736a60e9eeb907d3b93b6e0e5",
    "execution": {
     "iopub.execute_input": "2025-05-29T15:32:43.186408Z",
     "iopub.status.busy": "2025-05-29T15:32:43.185634Z",
     "iopub.status.idle": "2025-05-29T15:32:44.670858Z",
     "shell.execute_reply": "2025-05-29T15:32:44.670145Z"
    },
    "papermill": {
     "duration": 1.49122,
     "end_time": "2025-05-29T15:32:44.672202",
     "exception": false,
     "start_time": "2025-05-29T15:32:43.180982",
     "status": "completed"
    },
    "tags": []
   },
   "outputs": [
    {
     "name": "stdout",
     "output_type": "stream",
     "text": [
      "/kaggle/input/deep-cache-dataset2/mediSynDataset_x2_O3488.csv\n",
      "/kaggle/input/deep-cache-dataset2/mediSynDataset_x2_O1042.csv\n",
      "/kaggle/input/deep-cache-dataset2/y_pred-2.npy\n"
     ]
    }
   ],
   "source": [
    "# This Python 3 environment comes with many helpful analytics libraries installed\n",
    "# It is defined by the kaggle/python Docker image: https://github.com/kaggle/docker-python\n",
    "# For example, here's several helpful packages to load\n",
    "\n",
    "import numpy as np # linear algebra\n",
    "import pandas as pd # data processing, CSV file I/O (e.g. pd.read_csv)\n",
    "\n",
    "# Input data files are available in the read-only \"../input/\" directory\n",
    "# For example, running this (by clicking run or pressing Shift+Enter) will list all files under the input directory\n",
    "\n",
    "import os\n",
    "for dirname, _, filenames in os.walk('/kaggle/input'):\n",
    "    for filename in filenames:\n",
    "        print(os.path.join(dirname, filename))\n",
    "\n",
    "# You can write up to 20GB to the current directory (/kaggle/working/) that gets preserved as output when you create a version using \"Save & Run All\" \n",
    "# You can also write temporary files to /kaggle/temp/, but they won't be saved outside of the current session"
   ]
  },
  {
   "cell_type": "code",
   "execution_count": 2,
   "id": "15b30c0a",
   "metadata": {
    "execution": {
     "iopub.execute_input": "2025-05-29T15:32:44.681016Z",
     "iopub.status.busy": "2025-05-29T15:32:44.680709Z",
     "iopub.status.idle": "2025-05-29T15:33:01.515669Z",
     "shell.execute_reply": "2025-05-29T15:33:01.514761Z"
    },
    "papermill": {
     "duration": 16.840625,
     "end_time": "2025-05-29T15:33:01.516949",
     "exception": false,
     "start_time": "2025-05-29T15:32:44.676324",
     "status": "completed"
    },
    "tags": []
   },
   "outputs": [
    {
     "name": "stderr",
     "output_type": "stream",
     "text": [
      "2025-05-29 15:32:46.274422: E external/local_xla/xla/stream_executor/cuda/cuda_fft.cc:477] Unable to register cuFFT factory: Attempting to register factory for plugin cuFFT when one has already been registered\n",
      "WARNING: All log messages before absl::InitializeLog() is called are written to STDERR\n",
      "E0000 00:00:1748532766.481271      19 cuda_dnn.cc:8310] Unable to register cuDNN factory: Attempting to register factory for plugin cuDNN when one has already been registered\n",
      "E0000 00:00:1748532766.542145      19 cuda_blas.cc:1418] Unable to register cuBLAS factory: Attempting to register factory for plugin cuBLAS when one has already been registered\n"
     ]
    },
    {
     "name": "stdout",
     "output_type": "stream",
     "text": [
      "/GPU:0\n"
     ]
    }
   ],
   "source": [
    "# Use GPU if available, otherwise fall back to CPU\n",
    "import tensorflow as tf\n",
    "\n",
    "device = \"/GPU:0\" if tf.config.list_physical_devices('GPU') else \"/CPU:0\"\n",
    "print(device)"
   ]
  },
  {
   "cell_type": "code",
   "execution_count": 3,
   "id": "7bbabe06",
   "metadata": {
    "execution": {
     "iopub.execute_input": "2025-05-29T15:33:01.526131Z",
     "iopub.status.busy": "2025-05-29T15:33:01.525632Z",
     "iopub.status.idle": "2025-05-29T15:33:19.467300Z",
     "shell.execute_reply": "2025-05-29T15:33:19.466531Z"
    },
    "papermill": {
     "duration": 17.947352,
     "end_time": "2025-05-29T15:33:19.468623",
     "exception": false,
     "start_time": "2025-05-29T15:33:01.521271",
     "status": "completed"
    },
    "tags": []
   },
   "outputs": [
    {
     "data": {
      "text/html": [
       "<div>\n",
       "<style scoped>\n",
       "    .dataframe tbody tr th:only-of-type {\n",
       "        vertical-align: middle;\n",
       "    }\n",
       "\n",
       "    .dataframe tbody tr th {\n",
       "        vertical-align: top;\n",
       "    }\n",
       "\n",
       "    .dataframe thead th {\n",
       "        text-align: right;\n",
       "    }\n",
       "</style>\n",
       "<table border=\"1\" class=\"dataframe\">\n",
       "  <thead>\n",
       "    <tr style=\"text-align: right;\">\n",
       "      <th></th>\n",
       "      <th>object_ID</th>\n",
       "      <th>request_time</th>\n",
       "    </tr>\n",
       "  </thead>\n",
       "  <tbody>\n",
       "    <tr>\n",
       "      <th>0</th>\n",
       "      <td>2033</td>\n",
       "      <td>8.641616e+04</td>\n",
       "    </tr>\n",
       "    <tr>\n",
       "      <th>1</th>\n",
       "      <td>1280</td>\n",
       "      <td>8.641938e+04</td>\n",
       "    </tr>\n",
       "    <tr>\n",
       "      <th>2</th>\n",
       "      <td>3482</td>\n",
       "      <td>8.642676e+04</td>\n",
       "    </tr>\n",
       "    <tr>\n",
       "      <th>3</th>\n",
       "      <td>2764</td>\n",
       "      <td>8.642905e+04</td>\n",
       "    </tr>\n",
       "    <tr>\n",
       "      <th>4</th>\n",
       "      <td>2698</td>\n",
       "      <td>8.643068e+04</td>\n",
       "    </tr>\n",
       "    <tr>\n",
       "      <th>...</th>\n",
       "      <td>...</td>\n",
       "      <td>...</td>\n",
       "    </tr>\n",
       "    <tr>\n",
       "      <th>39088106</th>\n",
       "      <td>2574</td>\n",
       "      <td>3.673981e+06</td>\n",
       "    </tr>\n",
       "    <tr>\n",
       "      <th>39088107</th>\n",
       "      <td>2312</td>\n",
       "      <td>3.673981e+06</td>\n",
       "    </tr>\n",
       "    <tr>\n",
       "      <th>39088108</th>\n",
       "      <td>2785</td>\n",
       "      <td>3.673981e+06</td>\n",
       "    </tr>\n",
       "    <tr>\n",
       "      <th>39088109</th>\n",
       "      <td>2663</td>\n",
       "      <td>3.673981e+06</td>\n",
       "    </tr>\n",
       "    <tr>\n",
       "      <th>39088110</th>\n",
       "      <td>2109</td>\n",
       "      <td>3.673000e+03</td>\n",
       "    </tr>\n",
       "  </tbody>\n",
       "</table>\n",
       "<p>39088111 rows × 2 columns</p>\n",
       "</div>"
      ],
      "text/plain": [
       "          object_ID  request_time\n",
       "0              2033  8.641616e+04\n",
       "1              1280  8.641938e+04\n",
       "2              3482  8.642676e+04\n",
       "3              2764  8.642905e+04\n",
       "4              2698  8.643068e+04\n",
       "...             ...           ...\n",
       "39088106       2574  3.673981e+06\n",
       "39088107       2312  3.673981e+06\n",
       "39088108       2785  3.673981e+06\n",
       "39088109       2663  3.673981e+06\n",
       "39088110       2109  3.673000e+03\n",
       "\n",
       "[39088111 rows x 2 columns]"
      ]
     },
     "execution_count": 3,
     "metadata": {},
     "output_type": "execute_result"
    }
   ],
   "source": [
    "# Load data\n",
    "df = pd.read_csv('/kaggle/input/deep-cache-dataset2/mediSynDataset_x2_O3488.csv') \n",
    "df"
   ]
  },
  {
   "cell_type": "markdown",
   "id": "926a317f",
   "metadata": {
    "papermill": {
     "duration": 0.003735,
     "end_time": "2025-05-29T15:33:19.476628",
     "exception": false,
     "start_time": "2025-05-29T15:33:19.472893",
     "status": "completed"
    },
    "tags": []
   },
   "source": [
    "## Feature Engineering\n",
    "> \"The probability of $o^i$ is the normalized frequency of that object in an hour.\""
   ]
  },
  {
   "cell_type": "code",
   "execution_count": 4,
   "id": "6a751664",
   "metadata": {
    "execution": {
     "iopub.execute_input": "2025-05-29T15:33:19.485218Z",
     "iopub.status.busy": "2025-05-29T15:33:19.484964Z",
     "iopub.status.idle": "2025-05-29T15:33:22.650560Z",
     "shell.execute_reply": "2025-05-29T15:33:22.649984Z"
    },
    "papermill": {
     "duration": 3.171376,
     "end_time": "2025-05-29T15:33:22.651809",
     "exception": false,
     "start_time": "2025-05-29T15:33:19.480433",
     "status": "completed"
    },
    "tags": []
   },
   "outputs": [],
   "source": [
    "df['hour'] = df['request_time'] // 3600  # Add 'hour' column \n",
    "\n",
    "object_ids = df['object_ID'].unique()\n",
    "object_ids.sort()\n",
    "num_objects = len(object_ids) # Num unique objects: 50\n",
    "\n",
    "# Create pivot table: (hour, object_ID) → request count\n",
    "pivot = df.groupby(['hour', 'object_ID']).size().unstack(fill_value=0)\n",
    "pivot = pivot.reindex(columns=object_ids, fill_value=0)  # Ensure consistent object ordering\n",
    "\n",
    "# Normalize each row into a probability distribution\n",
    "probs = pivot.div(pivot.sum(axis=1), axis=0).fillna(0)"
   ]
  },
  {
   "cell_type": "markdown",
   "id": "b50bce34",
   "metadata": {
    "papermill": {
     "duration": 0.003657,
     "end_time": "2025-05-29T15:33:22.659821",
     "exception": false,
     "start_time": "2025-05-29T15:33:22.656164",
     "status": "completed"
    },
    "tags": []
   },
   "source": [
    "## Split data\n",
    "- To align with the paper's goal which is predicting the future characteristics of an object based on past logs, we split the dataset into 60% for training and 40% for evaluation."
   ]
  },
  {
   "cell_type": "code",
   "execution_count": 5,
   "id": "25b3cd3a",
   "metadata": {
    "execution": {
     "iopub.execute_input": "2025-05-29T15:33:22.668882Z",
     "iopub.status.busy": "2025-05-29T15:33:22.668637Z",
     "iopub.status.idle": "2025-05-29T15:33:22.672417Z",
     "shell.execute_reply": "2025-05-29T15:33:22.671865Z"
    },
    "papermill": {
     "duration": 0.009668,
     "end_time": "2025-05-29T15:33:22.673453",
     "exception": false,
     "start_time": "2025-05-29T15:33:22.663785",
     "status": "completed"
    },
    "tags": []
   },
   "outputs": [],
   "source": [
    "# Split into train/test\n",
    "cut_idx = int(len(probs) * 0.6)\n",
    "train_probs = probs.iloc[:cut_idx]\n",
    "test_probs = probs.iloc[cut_idx:]"
   ]
  },
  {
   "cell_type": "code",
   "execution_count": 6,
   "id": "5377e778",
   "metadata": {
    "execution": {
     "iopub.execute_input": "2025-05-29T15:33:22.682338Z",
     "iopub.status.busy": "2025-05-29T15:33:22.682129Z",
     "iopub.status.idle": "2025-05-29T15:33:22.935964Z",
     "shell.execute_reply": "2025-05-29T15:33:22.935067Z"
    },
    "papermill": {
     "duration": 0.259919,
     "end_time": "2025-05-29T15:33:22.937232",
     "exception": false,
     "start_time": "2025-05-29T15:33:22.677313",
     "status": "completed"
    },
    "tags": []
   },
   "outputs": [
    {
     "name": "stdout",
     "output_type": "stream",
     "text": [
      "Train X shape: (585672, 20, 1)\n",
      "Train y shape: (585672, 26, 1)\n",
      "Test X shape: (375594, 20, 1)\n",
      "Test y shape: (375594, 26, 1)\n"
     ]
    }
   ],
   "source": [
    "m, k = 20, 26 # Sequence length for input(m) and output(k)\n",
    "X = []\n",
    "y = []\n",
    "\n",
    "# Helper function to create sliding window sequences\n",
    "def create_sequences(prob_df, m, k):\n",
    "    X, y = [], []\n",
    "    for i in range(len(prob_df) - m - k):\n",
    "        x_seq = prob_df.iloc[i:i+m].values  # (m, d)\n",
    "        y_seq = prob_df.iloc[i+m:i+m+k].values  # (k, d)\n",
    "        X.append(x_seq)\n",
    "        y.append(y_seq)\n",
    "    X = np.array(X)\n",
    "    y = np.array(y)\n",
    "    \n",
    "    # Reshape: (samples * d, m, 1), (samples * d, k, 1)\n",
    "    X = X.transpose(0, 2, 1).reshape(-1, m, 1)\n",
    "    y = y.transpose(0, 2, 1).reshape(-1, k, 1)\n",
    "    return X, y\n",
    "\n",
    "# Create train and test sets\n",
    "X_train, y_train = create_sequences(train_probs, m, k)\n",
    "X_test, y_test = create_sequences(test_probs, m, k)\n",
    "\n",
    "print(\"Train X shape:\", X_train.shape)\n",
    "print(\"Train y shape:\", y_train.shape)\n",
    "print(\"Test X shape:\", X_test.shape)\n",
    "print(\"Test y shape:\", y_test.shape)"
   ]
  },
  {
   "cell_type": "markdown",
   "id": "54e880a4",
   "metadata": {
    "papermill": {
     "duration": 0.003824,
     "end_time": "2025-05-29T15:33:22.945366",
     "exception": false,
     "start_time": "2025-05-29T15:33:22.941542",
     "status": "completed"
    },
    "tags": []
   },
   "source": [
    "## Build LSTM Model \n",
    "> \"For our datasets, we use a two-layer depth LSTM Encoder-Decoder model with 128 and 64 as the number of hidden units. ... The loss function is chosen as mean-squared-error (MSE). We ran our experiments for a number of epochs equal to 30, with the batch size set to 10% of the training data.\"\n",
    "- Batch size was reduced to 64 due to limited memory capacity."
   ]
  },
  {
   "cell_type": "code",
   "execution_count": 7,
   "id": "09b86c49",
   "metadata": {
    "execution": {
     "iopub.execute_input": "2025-05-29T15:33:22.955185Z",
     "iopub.status.busy": "2025-05-29T15:33:22.954908Z",
     "iopub.status.idle": "2025-05-29T15:33:23.017015Z",
     "shell.execute_reply": "2025-05-29T15:33:23.016282Z"
    },
    "papermill": {
     "duration": 0.067881,
     "end_time": "2025-05-29T15:33:23.018256",
     "exception": false,
     "start_time": "2025-05-29T15:33:22.950375",
     "status": "completed"
    },
    "tags": []
   },
   "outputs": [],
   "source": [
    "from tensorflow.keras.layers import (\n",
    "    Input, LSTM, Dense, TimeDistributed, RepeatVector,\n",
    "    Dropout, Bidirectional, Attention, Concatenate\n",
    ")\n",
    "from tensorflow.keras.models import Model\n",
    "import tensorflow.keras.backend as K"
   ]
  },
  {
   "cell_type": "code",
   "execution_count": 8,
   "id": "da706b32",
   "metadata": {
    "execution": {
     "iopub.execute_input": "2025-05-29T15:33:23.026890Z",
     "iopub.status.busy": "2025-05-29T15:33:23.026675Z",
     "iopub.status.idle": "2025-05-29T15:33:23.031778Z",
     "shell.execute_reply": "2025-05-29T15:33:23.031262Z"
    },
    "papermill": {
     "duration": 0.010642,
     "end_time": "2025-05-29T15:33:23.032852",
     "exception": false,
     "start_time": "2025-05-29T15:33:23.022210",
     "status": "completed"
    },
    "tags": []
   },
   "outputs": [],
   "source": [
    "def build_seq2seq_model(m, k):\n",
    "    # ----- Encoder -----\n",
    "    encoder_inputs = Input(shape=(m, 1))  # Input shape: (sequence_length, 1)\n",
    "\n",
    "    # Two-layer encoder with 128 and 64 hidden units\n",
    "    encoder_lstm_1 = LSTM(128, return_sequences=True)\n",
    "    encoder_lstm_2 = LSTM(64, return_state=True)\n",
    "\n",
    "    x = encoder_lstm_1(encoder_inputs)\n",
    "    encoder_outputs, state_h, state_c = encoder_lstm_2(x)\n",
    "    encoder_states = [state_h, state_c]  # Final encoder states passed to decoder\n",
    "\n",
    "    # ----- Decoder -----\n",
    "    decoder_inputs = RepeatVector(k)(encoder_outputs)  # Repeat context vector for k time steps\n",
    "\n",
    "    # Two-layer decoder with 128 and 64 hidden units\n",
    "    decoder_lstm_1 = LSTM(128, return_sequences=True)\n",
    "    decoder_lstm_2 = LSTM(64, return_sequences=True)\n",
    "\n",
    "    x = decoder_lstm_1(decoder_inputs, initial_state=encoder_states)\n",
    "    decoder_outputs = decoder_lstm_2(x)\n",
    "\n",
    "    # Predict one value per time step\n",
    "    decoder_dense = TimeDistributed(Dense(1))\n",
    "    output_seq = decoder_dense(decoder_outputs)\n",
    "\n",
    "    # Compile the model with MSE loss and MAE metric\n",
    "    model = Model(encoder_inputs, output_seq)\n",
    "    model.compile(optimizer='adam', loss='mse', metrics=['mae'])\n",
    "\n",
    "    return model"
   ]
  },
  {
   "cell_type": "code",
   "execution_count": 9,
   "id": "cccce2e3",
   "metadata": {
    "execution": {
     "iopub.execute_input": "2025-05-29T15:33:23.041403Z",
     "iopub.status.busy": "2025-05-29T15:33:23.041198Z",
     "iopub.status.idle": "2025-05-29T16:24:12.660068Z",
     "shell.execute_reply": "2025-05-29T16:24:12.659215Z"
    },
    "papermill": {
     "duration": 3049.624614,
     "end_time": "2025-05-29T16:24:12.661293",
     "exception": false,
     "start_time": "2025-05-29T15:33:23.036679",
     "status": "completed"
    },
    "tags": []
   },
   "outputs": [
    {
     "name": "stderr",
     "output_type": "stream",
     "text": [
      "I0000 00:00:1748532803.157819      19 gpu_device.cc:2022] Created device /job:localhost/replica:0/task:0/device:GPU:0 with 15513 MB memory:  -> device: 0, name: Tesla P100-PCIE-16GB, pci bus id: 0000:00:04.0, compute capability: 6.0\n"
     ]
    },
    {
     "name": "stdout",
     "output_type": "stream",
     "text": [
      "Epoch 1/30\n"
     ]
    },
    {
     "name": "stderr",
     "output_type": "stream",
     "text": [
      "I0000 00:00:1748532811.545812      58 cuda_dnn.cc:529] Loaded cuDNN version 90300\n"
     ]
    },
    {
     "name": "stdout",
     "output_type": "stream",
     "text": [
      "\u001b[1m9152/9152\u001b[0m \u001b[32m━━━━━━━━━━━━━━━━━━━━\u001b[0m\u001b[37m\u001b[0m \u001b[1m104s\u001b[0m 11ms/step - loss: 3.7163e-05 - mae: 0.0017\n",
      "Epoch 2/30\n",
      "\u001b[1m9152/9152\u001b[0m \u001b[32m━━━━━━━━━━━━━━━━━━━━\u001b[0m\u001b[37m\u001b[0m \u001b[1m97s\u001b[0m 11ms/step - loss: 7.0279e-06 - mae: 8.4136e-04\n",
      "Epoch 3/30\n",
      "\u001b[1m9152/9152\u001b[0m \u001b[32m━━━━━━━━━━━━━━━━━━━━\u001b[0m\u001b[37m\u001b[0m \u001b[1m97s\u001b[0m 11ms/step - loss: 6.3750e-06 - mae: 7.1775e-04\n",
      "Epoch 4/30\n",
      "\u001b[1m9152/9152\u001b[0m \u001b[32m━━━━━━━━━━━━━━━━━━━━\u001b[0m\u001b[37m\u001b[0m \u001b[1m97s\u001b[0m 11ms/step - loss: 5.8019e-06 - mae: 6.5102e-04\n",
      "Epoch 5/30\n",
      "\u001b[1m9152/9152\u001b[0m \u001b[32m━━━━━━━━━━━━━━━━━━━━\u001b[0m\u001b[37m\u001b[0m \u001b[1m97s\u001b[0m 11ms/step - loss: 5.5893e-06 - mae: 5.9601e-04\n",
      "Epoch 6/30\n",
      "\u001b[1m9152/9152\u001b[0m \u001b[32m━━━━━━━━━━━━━━━━━━━━\u001b[0m\u001b[37m\u001b[0m \u001b[1m97s\u001b[0m 11ms/step - loss: 6.0482e-06 - mae: 5.9836e-04\n",
      "Epoch 7/30\n",
      "\u001b[1m9152/9152\u001b[0m \u001b[32m━━━━━━━━━━━━━━━━━━━━\u001b[0m\u001b[37m\u001b[0m \u001b[1m97s\u001b[0m 11ms/step - loss: 5.3372e-06 - mae: 5.7064e-04\n",
      "Epoch 8/30\n",
      "\u001b[1m9152/9152\u001b[0m \u001b[32m━━━━━━━━━━━━━━━━━━━━\u001b[0m\u001b[37m\u001b[0m \u001b[1m97s\u001b[0m 11ms/step - loss: 6.0945e-06 - mae: 5.7300e-04\n",
      "Epoch 9/30\n",
      "\u001b[1m9152/9152\u001b[0m \u001b[32m━━━━━━━━━━━━━━━━━━━━\u001b[0m\u001b[37m\u001b[0m \u001b[1m98s\u001b[0m 11ms/step - loss: 5.3650e-06 - mae: 5.3625e-04\n",
      "Epoch 10/30\n",
      "\u001b[1m9152/9152\u001b[0m \u001b[32m━━━━━━━━━━━━━━━━━━━━\u001b[0m\u001b[37m\u001b[0m \u001b[1m98s\u001b[0m 11ms/step - loss: 5.6894e-06 - mae: 5.4481e-04\n",
      "Epoch 11/30\n",
      "\u001b[1m9152/9152\u001b[0m \u001b[32m━━━━━━━━━━━━━━━━━━━━\u001b[0m\u001b[37m\u001b[0m \u001b[1m98s\u001b[0m 11ms/step - loss: 6.1350e-06 - mae: 5.4965e-04\n",
      "Epoch 12/30\n",
      "\u001b[1m9152/9152\u001b[0m \u001b[32m━━━━━━━━━━━━━━━━━━━━\u001b[0m\u001b[37m\u001b[0m \u001b[1m98s\u001b[0m 11ms/step - loss: 5.1945e-06 - mae: 5.2331e-04\n",
      "Epoch 13/30\n",
      "\u001b[1m9152/9152\u001b[0m \u001b[32m━━━━━━━━━━━━━━━━━━━━\u001b[0m\u001b[37m\u001b[0m \u001b[1m98s\u001b[0m 11ms/step - loss: 5.8115e-06 - mae: 5.3386e-04\n",
      "Epoch 14/30\n",
      "\u001b[1m9152/9152\u001b[0m \u001b[32m━━━━━━━━━━━━━━━━━━━━\u001b[0m\u001b[37m\u001b[0m \u001b[1m98s\u001b[0m 11ms/step - loss: 4.8990e-06 - mae: 5.0823e-04\n",
      "Epoch 15/30\n",
      "\u001b[1m9152/9152\u001b[0m \u001b[32m━━━━━━━━━━━━━━━━━━━━\u001b[0m\u001b[37m\u001b[0m \u001b[1m98s\u001b[0m 11ms/step - loss: 5.6509e-06 - mae: 5.1622e-04\n",
      "Epoch 16/30\n",
      "\u001b[1m9152/9152\u001b[0m \u001b[32m━━━━━━━━━━━━━━━━━━━━\u001b[0m\u001b[37m\u001b[0m \u001b[1m98s\u001b[0m 11ms/step - loss: 5.5749e-06 - mae: 5.1459e-04\n",
      "Epoch 17/30\n",
      "\u001b[1m9152/9152\u001b[0m \u001b[32m━━━━━━━━━━━━━━━━━━━━\u001b[0m\u001b[37m\u001b[0m \u001b[1m98s\u001b[0m 11ms/step - loss: 5.5333e-06 - mae: 5.2433e-04\n",
      "Epoch 18/30\n",
      "\u001b[1m9152/9152\u001b[0m \u001b[32m━━━━━━━━━━━━━━━━━━━━\u001b[0m\u001b[37m\u001b[0m \u001b[1m98s\u001b[0m 11ms/step - loss: 5.0630e-06 - mae: 5.0598e-04\n",
      "Epoch 19/30\n",
      "\u001b[1m9152/9152\u001b[0m \u001b[32m━━━━━━━━━━━━━━━━━━━━\u001b[0m\u001b[37m\u001b[0m \u001b[1m98s\u001b[0m 11ms/step - loss: 5.3028e-06 - mae: 5.0280e-04\n",
      "Epoch 20/30\n",
      "\u001b[1m9152/9152\u001b[0m \u001b[32m━━━━━━━━━━━━━━━━━━━━\u001b[0m\u001b[37m\u001b[0m \u001b[1m100s\u001b[0m 11ms/step - loss: 5.6587e-06 - mae: 5.0690e-04\n",
      "Epoch 21/30\n",
      "\u001b[1m9152/9152\u001b[0m \u001b[32m━━━━━━━━━━━━━━━━━━━━\u001b[0m\u001b[37m\u001b[0m \u001b[1m98s\u001b[0m 11ms/step - loss: 4.7990e-06 - mae: 4.8091e-04\n",
      "Epoch 22/30\n",
      "\u001b[1m9152/9152\u001b[0m \u001b[32m━━━━━━━━━━━━━━━━━━━━\u001b[0m\u001b[37m\u001b[0m \u001b[1m98s\u001b[0m 11ms/step - loss: 5.3290e-06 - mae: 5.0620e-04\n",
      "Epoch 23/30\n",
      "\u001b[1m9152/9152\u001b[0m \u001b[32m━━━━━━━━━━━━━━━━━━━━\u001b[0m\u001b[37m\u001b[0m \u001b[1m98s\u001b[0m 11ms/step - loss: 5.2343e-06 - mae: 4.9557e-04\n",
      "Epoch 24/30\n",
      "\u001b[1m9152/9152\u001b[0m \u001b[32m━━━━━━━━━━━━━━━━━━━━\u001b[0m\u001b[37m\u001b[0m \u001b[1m98s\u001b[0m 11ms/step - loss: 5.2511e-06 - mae: 4.8040e-04\n",
      "Epoch 25/30\n",
      "\u001b[1m9152/9152\u001b[0m \u001b[32m━━━━━━━━━━━━━━━━━━━━\u001b[0m\u001b[37m\u001b[0m \u001b[1m98s\u001b[0m 11ms/step - loss: 5.2054e-06 - mae: 4.9151e-04\n",
      "Epoch 26/30\n",
      "\u001b[1m9152/9152\u001b[0m \u001b[32m━━━━━━━━━━━━━━━━━━━━\u001b[0m\u001b[37m\u001b[0m \u001b[1m98s\u001b[0m 11ms/step - loss: 5.1123e-06 - mae: 4.7997e-04\n",
      "Epoch 27/30\n",
      "\u001b[1m9152/9152\u001b[0m \u001b[32m━━━━━━━━━━━━━━━━━━━━\u001b[0m\u001b[37m\u001b[0m \u001b[1m98s\u001b[0m 11ms/step - loss: 5.0889e-06 - mae: 4.7618e-04\n",
      "Epoch 28/30\n",
      "\u001b[1m9152/9152\u001b[0m \u001b[32m━━━━━━━━━━━━━━━━━━━━\u001b[0m\u001b[37m\u001b[0m \u001b[1m98s\u001b[0m 11ms/step - loss: 5.2920e-06 - mae: 4.7358e-04\n",
      "Epoch 29/30\n",
      "\u001b[1m9152/9152\u001b[0m \u001b[32m━━━━━━━━━━━━━━━━━━━━\u001b[0m\u001b[37m\u001b[0m \u001b[1m98s\u001b[0m 11ms/step - loss: 4.6866e-06 - mae: 4.5628e-04\n",
      "Epoch 30/30\n",
      "\u001b[1m9152/9152\u001b[0m \u001b[32m━━━━━━━━━━━━━━━━━━━━\u001b[0m\u001b[37m\u001b[0m \u001b[1m98s\u001b[0m 11ms/step - loss: 5.3133e-06 - mae: 4.6516e-04\n",
      "\u001b[1m11738/11738\u001b[0m \u001b[32m━━━━━━━━━━━━━━━━━━━━\u001b[0m\u001b[37m\u001b[0m \u001b[1m56s\u001b[0m 5ms/step - loss: 6.4288e-07 - mae: 4.7471e-04\n",
      "Test Loss: 7.169743412305252e-07, MAE: 0.0004627422895282507\n",
      "\u001b[1m11738/11738\u001b[0m \u001b[32m━━━━━━━━━━━━━━━━━━━━\u001b[0m\u001b[37m\u001b[0m \u001b[1m43s\u001b[0m 4ms/step\n",
      "Prediciton shape: (375594, 26, 1)\n"
     ]
    }
   ],
   "source": [
    "# batch_size = int(len(X) * 0.1)\n",
    "# print(\"Batch size:\", batch_size)\n",
    "\n",
    "model = build_seq2seq_model(m, k)\n",
    "model.fit(X_train, y_train, epochs=30, batch_size=64)\n",
    "\n",
    "loss, mae = model.evaluate(X_test, y_test)\n",
    "print(f\"Test Loss: {loss}, MAE: {mae}\")\n",
    "\n",
    "# Predict\n",
    "y_pred = model.predict(X_test)\n",
    "\n",
    "print(\"Prediciton shape:\", y_pred.shape)"
   ]
  },
  {
   "cell_type": "code",
   "execution_count": 10,
   "id": "22761bf0",
   "metadata": {
    "execution": {
     "iopub.execute_input": "2025-05-29T16:24:17.785389Z",
     "iopub.status.busy": "2025-05-29T16:24:17.784587Z",
     "iopub.status.idle": "2025-05-29T16:24:17.813481Z",
     "shell.execute_reply": "2025-05-29T16:24:17.812906Z"
    },
    "papermill": {
     "duration": 2.531436,
     "end_time": "2025-05-29T16:24:17.814655",
     "exception": false,
     "start_time": "2025-05-29T16:24:15.283219",
     "status": "completed"
    },
    "tags": []
   },
   "outputs": [],
   "source": [
    "np.save(\"y_pred.npy\", y_pred)"
   ]
  },
  {
   "cell_type": "code",
   "execution_count": 11,
   "id": "2c0be333",
   "metadata": {
    "execution": {
     "iopub.execute_input": "2025-05-29T16:24:22.921365Z",
     "iopub.status.busy": "2025-05-29T16:24:22.921100Z",
     "iopub.status.idle": "2025-05-29T16:24:22.924545Z",
     "shell.execute_reply": "2025-05-29T16:24:22.923970Z"
    },
    "papermill": {
     "duration": 2.494923,
     "end_time": "2025-05-29T16:24:22.925581",
     "exception": false,
     "start_time": "2025-05-29T16:24:20.430658",
     "status": "completed"
    },
    "tags": []
   },
   "outputs": [],
   "source": [
    "# y_pred = np.load(\"/kaggle/input/deep-cache-dataset2/y_pred-2.npy\")"
   ]
  },
  {
   "cell_type": "markdown",
   "id": "56c91221",
   "metadata": {
    "papermill": {
     "duration": 2.587569,
     "end_time": "2025-05-29T16:24:28.107522",
     "exception": false,
     "start_time": "2025-05-29T16:24:25.519953",
     "status": "completed"
    },
    "tags": []
   },
   "source": [
    "## Cache Policy Setting\n",
    "> \"For dataset 2, we rather consider a varying number of top M objects with the highest probability from multiple time intervals. In other words, our fake set of requests Ft not only considers immediate future, but also considers popular objects in the next 12 hours and 24 hours with a diminishing weight for the number of selected objects from each interval.\"\n",
    "- To set different weights for different future time intervals, we used higher weight for more immediate time steps."
   ]
  },
  {
   "cell_type": "code",
   "execution_count": 12,
   "id": "c70a9502",
   "metadata": {
    "execution": {
     "iopub.execute_input": "2025-05-29T16:24:33.158651Z",
     "iopub.status.busy": "2025-05-29T16:24:33.158383Z",
     "iopub.status.idle": "2025-05-29T16:24:39.181958Z",
     "shell.execute_reply": "2025-05-29T16:24:39.181372Z"
    },
    "papermill": {
     "duration": 8.600729,
     "end_time": "2025-05-29T16:24:39.183175",
     "exception": false,
     "start_time": "2025-05-29T16:24:30.582446",
     "status": "completed"
    },
    "tags": []
   },
   "outputs": [],
   "source": [
    "# Set weights for different future time intervals:\n",
    "# Higher weight for more immediate time steps\n",
    "weights = {\n",
    "    0: 0.6,    \n",
    "    11: 0.3, \n",
    "    23: 0.1   \n",
    "}\n",
    "\n",
    "M = 15\n",
    "top_objects_each_t = []  \n",
    "for i in range(len(y_pred)):\n",
    "    weighted_scores = np.zeros(y_pred.shape[2])  # Initialize score vector for all objects\n",
    "\n",
    "    # Aggregate weighted probabilities from multiple future time intervals\n",
    "    for t, w in weights.items():\n",
    "        next_probs = y_pred[i, t].flatten()   # Predicted probabilities for time step t\n",
    "        weighted_scores += w * next_probs   # Accumulate weighted scores\n",
    "\n",
    "    # Select top-M object indices with highest weighted scores\n",
    "    top_indices = weighted_scores.argsort()[-M:][::-1]\n",
    "    top_objects_each_t.append(list(top_indices))  # Append result for current prediction"
   ]
  },
  {
   "cell_type": "markdown",
   "id": "42cb0622",
   "metadata": {
    "papermill": {
     "duration": 2.652466,
     "end_time": "2025-05-29T16:24:44.328616",
     "exception": false,
     "start_time": "2025-05-29T16:24:41.676150",
     "status": "completed"
    },
    "tags": []
   },
   "source": [
    "## Integral Operator\n",
    "> \"The operator is a simple merge operator, where the actual object request is followed by all the fake requests generated by our Caching Policy. This helps us to update the state of the cache by prefetching objects based on future object popularity and evict unpopular ones.\""
   ]
  },
  {
   "cell_type": "code",
   "execution_count": 13,
   "id": "16149add",
   "metadata": {
    "execution": {
     "iopub.execute_input": "2025-05-29T16:24:49.478331Z",
     "iopub.status.busy": "2025-05-29T16:24:49.477760Z",
     "iopub.status.idle": "2025-05-29T16:24:49.788177Z",
     "shell.execute_reply": "2025-05-29T16:24:49.787367Z"
    },
    "papermill": {
     "duration": 2.808594,
     "end_time": "2025-05-29T16:24:49.789590",
     "exception": false,
     "start_time": "2025-05-29T16:24:46.980996",
     "status": "completed"
    },
    "tags": []
   },
   "outputs": [],
   "source": [
    "cut_idx = int(len(df) * 0.6)\n",
    "test_df = df.iloc[cut_idx:].reset_index(drop=True)"
   ]
  },
  {
   "cell_type": "code",
   "execution_count": 14,
   "id": "943b3c7d",
   "metadata": {
    "execution": {
     "iopub.execute_input": "2025-05-29T16:24:54.842673Z",
     "iopub.status.busy": "2025-05-29T16:24:54.842063Z",
     "iopub.status.idle": "2025-05-29T16:24:59.777788Z",
     "shell.execute_reply": "2025-05-29T16:24:59.777211Z"
    },
    "papermill": {
     "duration": 7.491314,
     "end_time": "2025-05-29T16:24:59.779125",
     "exception": false,
     "start_time": "2025-05-29T16:24:52.287811",
     "status": "completed"
    },
    "tags": []
   },
   "outputs": [],
   "source": [
    "# Merge real requests and fake requests\n",
    "merged_requests = []\n",
    "fake_insert_idx = 0\n",
    "insert_interval = 10\n",
    "\n",
    "actual_requests = test_df.sort_values('request_time')['object_ID'].tolist()\n",
    "\n",
    "for t, req in enumerate(actual_requests):\n",
    "    merged_requests.append(req)\n",
    "    if fake_insert_idx < len(top_objects_each_t) and t % insert_interval == 0:\n",
    "        fake_objs = top_objects_each_t[fake_insert_idx]\n",
    "        merged_requests.extend(fake_objs)\n",
    "        fake_insert_idx += 1"
   ]
  },
  {
   "cell_type": "markdown",
   "id": "12abaedc",
   "metadata": {
    "papermill": {
     "duration": 2.493007,
     "end_time": "2025-05-29T16:25:04.842076",
     "exception": false,
     "start_time": "2025-05-29T16:25:02.349069",
     "status": "completed"
    },
    "tags": []
   },
   "source": [
    "## Deep Cache vs Traditional LRU\n",
    "> \"We compare traditional LRU with Deep Cache, and without Deep Cache.\""
   ]
  },
  {
   "cell_type": "code",
   "execution_count": 15,
   "id": "e1e6d814",
   "metadata": {
    "execution": {
     "iopub.execute_input": "2025-05-29T16:25:09.994395Z",
     "iopub.status.busy": "2025-05-29T16:25:09.993803Z",
     "iopub.status.idle": "2025-05-29T16:25:09.999108Z",
     "shell.execute_reply": "2025-05-29T16:25:09.998521Z"
    },
    "papermill": {
     "duration": 2.579593,
     "end_time": "2025-05-29T16:25:10.000176",
     "exception": false,
     "start_time": "2025-05-29T16:25:07.420583",
     "status": "completed"
    },
    "tags": []
   },
   "outputs": [],
   "source": [
    "# LRU Cache simulator\n",
    "from collections import OrderedDict\n",
    "\n",
    "class LRUCache:\n",
    "  def __init__(self, capacity):\n",
    "    self.capacity = capacity\n",
    "    self.cache = OrderedDict()\n",
    "    self.hit = 0\n",
    "    self.miss = 0\n",
    "\n",
    "  def request(self, obj_id):\n",
    "    if obj_id in self.cache:\n",
    "        self.cache.move_to_end(obj_id)\n",
    "        self.hit += 1\n",
    "        return 1\n",
    "    else:\n",
    "        self.miss += 1\n",
    "        if len(self.cache) >= self.capacity:\n",
    "            self.cache.popitem(last=False) \n",
    "        self.cache[obj_id] = True\n",
    "        return 0\n",
    "\n",
    "  def get_hit_ratio(self):\n",
    "    total = self.hit + self.miss\n",
    "    return self.hit / total if total > 0 else 0"
   ]
  },
  {
   "cell_type": "code",
   "execution_count": 16,
   "id": "632cb3e7",
   "metadata": {
    "execution": {
     "iopub.execute_input": "2025-05-29T16:25:15.186197Z",
     "iopub.status.busy": "2025-05-29T16:25:15.185513Z",
     "iopub.status.idle": "2025-05-29T16:25:22.327679Z",
     "shell.execute_reply": "2025-05-29T16:25:22.326894Z"
    },
    "papermill": {
     "duration": 9.737136,
     "end_time": "2025-05-29T16:25:22.328986",
     "exception": false,
     "start_time": "2025-05-29T16:25:12.591850",
     "status": "completed"
    },
    "tags": []
   },
   "outputs": [
    {
     "name": "stdout",
     "output_type": "stream",
     "text": [
      "DeepCache(LRU + 예측) 캐시 hit ratio: 0.3062\n"
     ]
    }
   ],
   "source": [
    "# Execute LRU with Deep Cache (on merged requests)\n",
    "cache_size = 150\n",
    "lru_deep = LRUCache(cache_size)\n",
    "hits_deep = []\n",
    "for obj_id in merged_requests:\n",
    "    hit = lru_deep.request(obj_id)\n",
    "    hits_deep.append(hit)\n",
    "\n",
    "deep_cache_hit_ratio = round(lru_deep.get_hit_ratio(), 4)\n",
    "print(\"DeepCache(LRU + 예측) 캐시 hit ratio:\", deep_cache_hit_ratio)"
   ]
  },
  {
   "cell_type": "code",
   "execution_count": 17,
   "id": "183e5ca2",
   "metadata": {
    "execution": {
     "iopub.execute_input": "2025-05-29T16:25:27.401697Z",
     "iopub.status.busy": "2025-05-29T16:25:27.401449Z",
     "iopub.status.idle": "2025-05-29T16:25:34.288292Z",
     "shell.execute_reply": "2025-05-29T16:25:34.287439Z"
    },
    "papermill": {
     "duration": 9.48588,
     "end_time": "2025-05-29T16:25:34.289663",
     "exception": false,
     "start_time": "2025-05-29T16:25:24.803783",
     "status": "completed"
    },
    "tags": []
   },
   "outputs": [
    {
     "name": "stdout",
     "output_type": "stream",
     "text": [
      "LRU 캐시 hit ratio: 0.29\n"
     ]
    }
   ],
   "source": [
    "# Execute traditional LRU (on raw requests)\n",
    "requests = actual_requests\n",
    "\n",
    "lru_traditional = LRUCache(cache_size)\n",
    "hits_trad = []\n",
    "for obj_id in requests:\n",
    "    hit = lru_traditional.request(obj_id)\n",
    "    hits_trad.append(hit)\n",
    "\n",
    "traditional_lru_hit_ratio = round(lru_traditional.get_hit_ratio(), 4)\n",
    "print(\"LRU 캐시 hit ratio:\", traditional_lru_hit_ratio)"
   ]
  },
  {
   "cell_type": "markdown",
   "id": "4094a14d",
   "metadata": {
    "papermill": {
     "duration": 2.479674,
     "end_time": "2025-05-29T16:25:39.369455",
     "exception": false,
     "start_time": "2025-05-29T16:25:36.889781",
     "status": "completed"
    },
    "tags": []
   },
   "source": [
    "## Visualize the result"
   ]
  },
  {
   "cell_type": "code",
   "execution_count": 18,
   "id": "2bcd5fa7",
   "metadata": {
    "execution": {
     "iopub.execute_input": "2025-05-29T16:25:44.509682Z",
     "iopub.status.busy": "2025-05-29T16:25:44.508989Z",
     "iopub.status.idle": "2025-05-29T16:25:45.136339Z",
     "shell.execute_reply": "2025-05-29T16:25:45.135497Z"
    },
    "papermill": {
     "duration": 3.215943,
     "end_time": "2025-05-29T16:25:45.137486",
     "exception": false,
     "start_time": "2025-05-29T16:25:41.921543",
     "status": "completed"
    },
    "tags": []
   },
   "outputs": [
    {
     "data": {
      "image/png": "[encoded data removed]",
      "text/plain": [
       "<Figure size 640x480 with 1 Axes>"
      ]
     },
     "metadata": {},
     "output_type": "display_data"
    }
   ],
   "source": [
    "import matplotlib.pyplot as plt\n",
    "\n",
    "ratios = [\n",
    "    deep_cache_hit_ratio,\n",
    "    traditional_lru_hit_ratio\n",
    "]\n",
    "labels = ['DeepCache', 'LRU']\n",
    "\n",
    "plt.bar(labels, ratios, color=['skyblue', 'salmon'])\n",
    "plt.ylabel('Hit Ratio')\n",
    "plt.title('DeepCache vs LRU Performance')\n",
    "plt.ylim(0, 1)\n",
    "plt.show()"
   ]
  },
  {
   "cell_type": "code",
   "execution_count": 19,
   "id": "ca84a20a",
   "metadata": {
    "execution": {
     "iopub.execute_input": "2025-05-29T16:25:50.243839Z",
     "iopub.status.busy": "2025-05-29T16:25:50.243278Z",
     "iopub.status.idle": "2025-05-29T16:25:55.474037Z",
     "shell.execute_reply": "2025-05-29T16:25:55.473248Z"
    },
    "papermill": {
     "duration": 7.815092,
     "end_time": "2025-05-29T16:25:55.475300",
     "exception": false,
     "start_time": "2025-05-29T16:25:47.660208",
     "status": "completed"
    },
    "tags": []
   },
   "outputs": [
    {
     "data": {
      "image/png": "[encoded data removed]",
      "text/plain": [
       "<Figure size 1000x600 with 1 Axes>"
      ]
     },
     "metadata": {},
     "output_type": "display_data"
    }
   ],
   "source": [
    "hits_deep = np.array(hits_deep, dtype=int)\n",
    "hits_trad = np.array(hits_trad, dtype=int)\n",
    "\n",
    "min_len = min(len(hits_trad), len(hits_deep))\n",
    "\n",
    "hits_trad = hits_trad[:min_len]\n",
    "hits_deep = hits_deep[:min_len]\n",
    "x = np.arange(1, min_len + 1)\n",
    "\n",
    "x = np.arange(1, len(hits_trad) + 1)\n",
    "cumulative_deep = np.cumsum(hits_deep)\n",
    "cumulative_trad = np.cumsum(hits_trad)\n",
    "\n",
    "step = 10\n",
    "x = np.arange(1, min_len + 1)[::step]\n",
    "cumulative_trad = cumulative_trad[::step]\n",
    "cumulative_deep = cumulative_deep[::step]\n",
    "\n",
    "y_max = max(cumulative_deep.max(), cumulative_trad.max())\n",
    "yticks = np.arange(0, y_max + 1, 200000)\n",
    "\n",
    "plt.figure(figsize=(10, 6))\n",
    "plt.plot(x, cumulative_trad, label='LRU', color='red', linewidth=2)\n",
    "plt.plot(x, cumulative_deep, label='DeepCache (LSTM + LRU)', color='green', linewidth=2)\n",
    "plt.xlabel('Request Sequence', fontsize=12)\n",
    "plt.ylabel('Cumulative Hits', fontsize=12)\n",
    "plt.title('Cumulative Cache Hits Over Time', fontsize=14)\n",
    "plt.yticks(yticks, fontsize=10)  \n",
    "plt.xticks(fontsize=10)\n",
    "plt.grid(True)\n",
    "plt.legend(fontsize=12)\n",
    "plt.tight_layout()\n",
    "plt.show()"
   ]
  }
 ],
 "metadata": {
  "kaggle": {
   "accelerator": "gpu",
   "dataSources": [
    {
     "databundleVersionId": 12513987,
     "datasetId": 7516670,
     "sourceId": 11997454,
     "sourceType": "datasetVersion"
    }
   ],
   "dockerImageVersionId": 31041,
   "isGpuEnabled": true,
   "isInternetEnabled": true,
   "language": "python",
   "sourceType": "notebook"
  },
  "kernelspec": {
   "display_name": "Python 3",
   "language": "python",
   "name": "python3"
  },
  "language_info": {
   "codemirror_mode": {
    "name": "ipython",
    "version": 3
   },
   "file_extension": ".py",
   "mimetype": "text/x-python",
   "name": "python",
   "nbconvert_exporter": "python",
   "pygments_lexer": "ipython3",
   "version": "3.11.11"
  },
  "papermill": {
   "default_parameters": {},
   "duration": 3202.363561,
   "end_time": "2025-05-29T16:26:01.378649",
   "environment_variables": {},
   "exception": null,
   "input_path": "__notebook__.ipynb",
   "output_path": "__notebook__.ipynb",
   "parameters": {},
   "start_time": "2025-05-29T15:32:39.015088",
   "version": "2.6.0"
  }
 },
 "nbformat": 4,
 "nbformat_minor": 5
}
